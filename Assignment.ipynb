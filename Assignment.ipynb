{
 "cells": [
  {
   "cell_type": "markdown",
   "id": "2ea1c093",
   "metadata": {},
   "source": [
    "### 1.\tGiven a number N, write a program to compute the final single-digit sum.\n",
    "a.\te.g. given a number 14345,  \n",
    "b.\tthe sum of its digits is 17, and then the sum of digits of 17 is 8, program should output 8."
   ]
  },
  {
   "cell_type": "code",
   "execution_count": 1,
   "id": "6e2ef2b3",
   "metadata": {},
   "outputs": [],
   "source": [
    "def single_sum():\n",
    "    try:\n",
    "        n = int(input(\"Enter a number: \"))\n",
    "        x = 0\n",
    "        while (n > 0 or x > 9):\n",
    "            if n == 0:\n",
    "                n = x\n",
    "                x = 0\n",
    "            x = x + (n % 10)\n",
    "            n = n // 10\n",
    "        return x\n",
    "    except Exception as e:\n",
    "        print(e)"
   ]
  },
  {
   "cell_type": "code",
   "execution_count": 2,
   "id": "f504b449",
   "metadata": {},
   "outputs": [
    {
     "name": "stdout",
     "output_type": "stream",
     "text": [
      "Enter a number: 14345\n"
     ]
    },
    {
     "data": {
      "text/plain": [
       "8"
      ]
     },
     "execution_count": 2,
     "metadata": {},
     "output_type": "execute_result"
    }
   ],
   "source": [
    "single_sum()"
   ]
  },
  {
   "cell_type": "markdown",
   "id": "8901c462",
   "metadata": {},
   "source": [
    "### 2. Python program to check whether the given integer is a multiple of both 5 and 7."
   ]
  },
  {
   "cell_type": "code",
   "execution_count": 3,
   "id": "017613e2",
   "metadata": {},
   "outputs": [],
   "source": [
    "def check_multiple():\n",
    "    try:\n",
    "        n = int(input(\"Enter an integer: \"))\n",
    "        if (n % 5 == 0) and (n % 7 == 0):\n",
    "            return f\"{n} is multiple of both 5 and 7\"\n",
    "        return f\"{n} is not a multiple of both 5 and 7\"\n",
    "    except Exception as e:\n",
    "        print(e)"
   ]
  },
  {
   "cell_type": "code",
   "execution_count": 4,
   "id": "13c7bf38",
   "metadata": {},
   "outputs": [
    {
     "name": "stdout",
     "output_type": "stream",
     "text": [
      "Enter an integer: 105\n"
     ]
    },
    {
     "data": {
      "text/plain": [
       "'105 is multiple of both 5 and 7'"
      ]
     },
     "execution_count": 4,
     "metadata": {},
     "output_type": "execute_result"
    }
   ],
   "source": [
    "check_multiple()"
   ]
  },
  {
   "cell_type": "code",
   "execution_count": 5,
   "id": "079e86c4",
   "metadata": {},
   "outputs": [
    {
     "name": "stdout",
     "output_type": "stream",
     "text": [
      "Enter an integer: 120\n"
     ]
    },
    {
     "data": {
      "text/plain": [
       "'120 is not a multiple of both 5 and 7'"
      ]
     },
     "execution_count": 5,
     "metadata": {},
     "output_type": "execute_result"
    }
   ],
   "source": [
    "check_multiple()"
   ]
  },
  {
   "cell_type": "markdown",
   "id": "5fc94a97",
   "metadata": {},
   "source": [
    "### 3. Python program to display all integers within the range 100-200 whose sum of digits is an even number."
   ]
  },
  {
   "cell_type": "code",
   "execution_count": 6,
   "id": "515d24c6",
   "metadata": {},
   "outputs": [],
   "source": [
    "def get_even():\n",
    "    try:\n",
    "        lower_range = int(input(\"Enter lower range: \"))\n",
    "        upper_range = int(input(\"Enter upper range: \"))\n",
    "        l = []\n",
    "        for i in range(lower_range, upper_range+1):\n",
    "            x = 0\n",
    "            for j in str(i):\n",
    "                x = x + int(j)\n",
    "            if x % 2 == 0:\n",
    "                l.append(i)\n",
    "        print(l)\n",
    "    except Exception as e:\n",
    "        print(e)"
   ]
  },
  {
   "cell_type": "code",
   "execution_count": 7,
   "id": "5c2d6c1e",
   "metadata": {},
   "outputs": [
    {
     "name": "stdout",
     "output_type": "stream",
     "text": [
      "Enter lower range: 100\n",
      "Enter upper range: 200\n",
      "[101, 103, 105, 107, 109, 110, 112, 114, 116, 118, 121, 123, 125, 127, 129, 130, 132, 134, 136, 138, 141, 143, 145, 147, 149, 150, 152, 154, 156, 158, 161, 163, 165, 167, 169, 170, 172, 174, 176, 178, 181, 183, 185, 187, 189, 190, 192, 194, 196, 198, 200]\n"
     ]
    }
   ],
   "source": [
    "get_even()"
   ]
  },
  {
   "cell_type": "markdown",
   "id": "0c96b1ed",
   "metadata": {},
   "source": [
    "### 4. Python program to insert a number to any position in a list\n",
    "\n",
    "Example list = [1,2,4,5,6,7,8], insert 3 at index 2 , updated list = [1,2,3,4,5,6,7,8]\n"
   ]
  },
  {
   "cell_type": "code",
   "execution_count": 8,
   "id": "ae55babc",
   "metadata": {},
   "outputs": [],
   "source": [
    "def insert_number():\n",
    "    try:\n",
    "        l = eval(input(\"Enter a list: \"))\n",
    "        index = int(input(\"Enter index: \"))\n",
    "        n = int(input(\"Enter the number: \"))\n",
    "        l.insert(index, n)\n",
    "        print(f\"Updated list : {l}\")\n",
    "    except Exception as e:\n",
    "        print(e)"
   ]
  },
  {
   "cell_type": "code",
   "execution_count": 9,
   "id": "2e9c6af5",
   "metadata": {},
   "outputs": [
    {
     "name": "stdout",
     "output_type": "stream",
     "text": [
      "Enter a list: [1,2,4,5,6,7,8]\n",
      "Enter index: 2\n",
      "Enter the number: 3\n",
      "Updated list : [1, 2, 3, 4, 5, 6, 7, 8]\n"
     ]
    }
   ],
   "source": [
    "insert_number()"
   ]
  },
  {
   "cell_type": "markdown",
   "id": "57f8c2a6",
   "metadata": {},
   "source": [
    "### 5. Given a mathematical expression in string format, write a program to evaluate.\n",
    "\n",
    "e.g.  \n",
    "i. String expr = “12 + ( 3 * ( 5 – 1 ) ) / 4” - once the expr is evaluated, it should answer 15.  \n",
    "ii. All the tokens in above expr is space separated.\n"
   ]
  },
  {
   "cell_type": "code",
   "execution_count": 10,
   "id": "2baf33e7",
   "metadata": {},
   "outputs": [],
   "source": [
    "def evaluate():\n",
    "    try:\n",
    "        s = str(input(\"Enter your expression: \"))\n",
    "        return int(eval(eval(s)))\n",
    "    except Exception as e:\n",
    "        print(e)"
   ]
  },
  {
   "cell_type": "code",
   "execution_count": 11,
   "id": "e02f8fec",
   "metadata": {},
   "outputs": [
    {
     "name": "stdout",
     "output_type": "stream",
     "text": [
      "Enter your expression: \"12 + ( 3 * ( 5 - 1 ) ) / 4\"\n"
     ]
    },
    {
     "data": {
      "text/plain": [
       "15"
      ]
     },
     "execution_count": 11,
     "metadata": {},
     "output_type": "execute_result"
    }
   ],
   "source": [
    "evaluate()"
   ]
  },
  {
   "cell_type": "markdown",
   "id": "62b74790",
   "metadata": {},
   "source": [
    "### 6. Write Python code to create bdr_info dataframe from the given excel file (sheet name :- sample data)\n",
    "\n",
    "a. Provide summary statistics for the dataframe  \n",
    "b. Identify the BDR with the highest visit frequency   \n",
    "c. Are there any missing values in the Week Numbers column, if yes how would you treat them?  \n",
    "d. Which BDR has the highest travel speed? (hint :- travel speed is mentioned in the BDR_info sheet)  \n",
    "e. Add a new column named Active to the BDR DataFrame with all 1s to indicate each BDR’s active employment status  \n"
   ]
  },
  {
   "cell_type": "code",
   "execution_count": 12,
   "id": "8c9b565e",
   "metadata": {},
   "outputs": [],
   "source": [
    "import pandas as pd"
   ]
  },
  {
   "cell_type": "code",
   "execution_count": 13,
   "id": "378b5b32",
   "metadata": {},
   "outputs": [],
   "source": [
    "data = pd.read_excel(\"C:\\\\Users\\\\adity\\\\Desktop\\\\sample_data.xlsx\", sheet_name = None)"
   ]
  },
  {
   "cell_type": "code",
   "execution_count": 14,
   "id": "9a13d974",
   "metadata": {},
   "outputs": [],
   "source": [
    "BDR = data['sample_data']"
   ]
  },
  {
   "cell_type": "code",
   "execution_count": 16,
   "id": "b0920dd0",
   "metadata": {},
   "outputs": [],
   "source": [
    "bdr_info = data['BDR info']"
   ]
  },
  {
   "cell_type": "code",
   "execution_count": 17,
   "id": "9b5e4abc",
   "metadata": {},
   "outputs": [
    {
     "data": {
      "text/html": [
       "<div>\n",
       "<style scoped>\n",
       "    .dataframe tbody tr th:only-of-type {\n",
       "        vertical-align: middle;\n",
       "    }\n",
       "\n",
       "    .dataframe tbody tr th {\n",
       "        vertical-align: top;\n",
       "    }\n",
       "\n",
       "    .dataframe thead th {\n",
       "        text-align: right;\n",
       "    }\n",
       "</style>\n",
       "<table border=\"1\" class=\"dataframe\">\n",
       "  <thead>\n",
       "    <tr style=\"text-align: right;\">\n",
       "      <th></th>\n",
       "      <th>POC ID</th>\n",
       "      <th>POC Name</th>\n",
       "      <th>Lat</th>\n",
       "      <th>Long</th>\n",
       "      <th>BDR Name</th>\n",
       "      <th>BDRM Name</th>\n",
       "      <th>Position</th>\n",
       "      <th>BDR Start Lat</th>\n",
       "      <th>BDR Start Long</th>\n",
       "      <th>Day of visit</th>\n",
       "      <th>New Category</th>\n",
       "      <th>New Channel</th>\n",
       "      <th>New Segment</th>\n",
       "      <th>Visit Frequency</th>\n",
       "      <th>Visit Time</th>\n",
       "      <th>Visit Time hrs</th>\n",
       "      <th>Total Visit Time hrs</th>\n",
       "      <th>Week Numbers</th>\n",
       "      <th>Open Time</th>\n",
       "      <th>Close Time</th>\n",
       "    </tr>\n",
       "  </thead>\n",
       "  <tbody>\n",
       "    <tr>\n",
       "      <th>0</th>\n",
       "      <td>0011i000007P6KdAAK</td>\n",
       "      <td>Fours Wholesalers</td>\n",
       "      <td>-19.989468</td>\n",
       "      <td>23.414982</td>\n",
       "      <td>Tumisang Ngwepe</td>\n",
       "      <td>Emmanuel Moshe</td>\n",
       "      <td>LAR</td>\n",
       "      <td>-22.414470</td>\n",
       "      <td>26.738790</td>\n",
       "      <td>2022-02-14 00:00:00</td>\n",
       "      <td>Distribution</td>\n",
       "      <td>RESELLERS</td>\n",
       "      <td>B3</td>\n",
       "      <td>1.0</td>\n",
       "      <td>25</td>\n",
       "      <td>0.416667</td>\n",
       "      <td>0.416667</td>\n",
       "      <td>ALL</td>\n",
       "      <td>12:00:00</td>\n",
       "      <td>22:00:00</td>\n",
       "    </tr>\n",
       "    <tr>\n",
       "      <th>1</th>\n",
       "      <td>0011i00000VB452AAD</td>\n",
       "      <td>GHALE BOTTLESTORE</td>\n",
       "      <td>-22.782374</td>\n",
       "      <td>27.763937</td>\n",
       "      <td>Mpho Oitebetse</td>\n",
       "      <td>Emmanuel Moshe</td>\n",
       "      <td>REP</td>\n",
       "      <td>-23.106474</td>\n",
       "      <td>26.862874</td>\n",
       "      <td>Tuesday</td>\n",
       "      <td>IH</td>\n",
       "      <td>Low End</td>\n",
       "      <td>B3</td>\n",
       "      <td>1.0</td>\n",
       "      <td>10</td>\n",
       "      <td>0.166667</td>\n",
       "      <td>0.166667</td>\n",
       "      <td>ALL</td>\n",
       "      <td>12:00:00</td>\n",
       "      <td>22:00:00</td>\n",
       "    </tr>\n",
       "    <tr>\n",
       "      <th>2</th>\n",
       "      <td>0011i00000xU8pxAAC</td>\n",
       "      <td>Club Cartel Liq Restaurant</td>\n",
       "      <td>-23.984200</td>\n",
       "      <td>21.762670</td>\n",
       "      <td>Gaolebale Bakwena</td>\n",
       "      <td>Victor Mhahle</td>\n",
       "      <td>REP</td>\n",
       "      <td>-24.595448</td>\n",
       "      <td>24.716486</td>\n",
       "      <td>2022-02-08 00:00:00</td>\n",
       "      <td>OOH</td>\n",
       "      <td>Mainstream</td>\n",
       "      <td>C3</td>\n",
       "      <td>1.0</td>\n",
       "      <td>10</td>\n",
       "      <td>0.166667</td>\n",
       "      <td>0.166667</td>\n",
       "      <td>ALL</td>\n",
       "      <td>12:00:00</td>\n",
       "      <td>22:00:00</td>\n",
       "    </tr>\n",
       "    <tr>\n",
       "      <th>3</th>\n",
       "      <td>0011i00000xU94OAAS</td>\n",
       "      <td>Niche Lounge</td>\n",
       "      <td>-23.990120</td>\n",
       "      <td>21.762022</td>\n",
       "      <td>Gaolebale Bakwena</td>\n",
       "      <td>Victor Mhahle</td>\n",
       "      <td>REP</td>\n",
       "      <td>-24.595448</td>\n",
       "      <td>24.716486</td>\n",
       "      <td>2022-02-08 00:00:00</td>\n",
       "      <td>OOH</td>\n",
       "      <td>Mainstream</td>\n",
       "      <td>C2</td>\n",
       "      <td>2.0</td>\n",
       "      <td>10</td>\n",
       "      <td>0.166667</td>\n",
       "      <td>0.333333</td>\n",
       "      <td>ALL</td>\n",
       "      <td>12:00:00</td>\n",
       "      <td>22:00:00</td>\n",
       "    </tr>\n",
       "    <tr>\n",
       "      <th>4</th>\n",
       "      <td>0011i000012NhWCAA0</td>\n",
       "      <td>Niche World Lounge</td>\n",
       "      <td>-23.990216</td>\n",
       "      <td>21.762048</td>\n",
       "      <td>Gaolebale Bakwena</td>\n",
       "      <td>Victor Mhahle</td>\n",
       "      <td>REP</td>\n",
       "      <td>-24.595448</td>\n",
       "      <td>24.716486</td>\n",
       "      <td>2022-02-08 00:00:00</td>\n",
       "      <td>OOH</td>\n",
       "      <td>Mainstream</td>\n",
       "      <td>C2</td>\n",
       "      <td>2.0</td>\n",
       "      <td>10</td>\n",
       "      <td>0.166667</td>\n",
       "      <td>0.333333</td>\n",
       "      <td>ALL</td>\n",
       "      <td>12:00:00</td>\n",
       "      <td>22:00:00</td>\n",
       "    </tr>\n",
       "  </tbody>\n",
       "</table>\n",
       "</div>"
      ],
      "text/plain": [
       "               POC ID                    POC Name        Lat       Long  \\\n",
       "0  0011i000007P6KdAAK           Fours Wholesalers -19.989468  23.414982   \n",
       "1  0011i00000VB452AAD           GHALE BOTTLESTORE -22.782374  27.763937   \n",
       "2  0011i00000xU8pxAAC  Club Cartel Liq Restaurant -23.984200  21.762670   \n",
       "3  0011i00000xU94OAAS                Niche Lounge -23.990120  21.762022   \n",
       "4  0011i000012NhWCAA0          Niche World Lounge -23.990216  21.762048   \n",
       "\n",
       "            BDR Name       BDRM Name Position  BDR Start Lat  BDR Start Long  \\\n",
       "0    Tumisang Ngwepe  Emmanuel Moshe      LAR     -22.414470       26.738790   \n",
       "1     Mpho Oitebetse  Emmanuel Moshe      REP     -23.106474       26.862874   \n",
       "2  Gaolebale Bakwena   Victor Mhahle      REP     -24.595448       24.716486   \n",
       "3  Gaolebale Bakwena   Victor Mhahle      REP     -24.595448       24.716486   \n",
       "4  Gaolebale Bakwena   Victor Mhahle      REP     -24.595448       24.716486   \n",
       "\n",
       "          Day of visit  New Category New Channel New Segment  Visit Frequency  \\\n",
       "0  2022-02-14 00:00:00  Distribution   RESELLERS          B3              1.0   \n",
       "1              Tuesday            IH     Low End          B3              1.0   \n",
       "2  2022-02-08 00:00:00           OOH  Mainstream          C3              1.0   \n",
       "3  2022-02-08 00:00:00           OOH  Mainstream          C2              2.0   \n",
       "4  2022-02-08 00:00:00           OOH  Mainstream          C2              2.0   \n",
       "\n",
       "   Visit Time  Visit Time hrs  Total Visit Time hrs Week Numbers Open Time  \\\n",
       "0          25        0.416667              0.416667          ALL  12:00:00   \n",
       "1          10        0.166667              0.166667          ALL  12:00:00   \n",
       "2          10        0.166667              0.166667          ALL  12:00:00   \n",
       "3          10        0.166667              0.333333          ALL  12:00:00   \n",
       "4          10        0.166667              0.333333          ALL  12:00:00   \n",
       "\n",
       "  Close Time  \n",
       "0   22:00:00  \n",
       "1   22:00:00  \n",
       "2   22:00:00  \n",
       "3   22:00:00  \n",
       "4   22:00:00  "
      ]
     },
     "execution_count": 17,
     "metadata": {},
     "output_type": "execute_result"
    }
   ],
   "source": [
    "BDR.head()"
   ]
  },
  {
   "cell_type": "code",
   "execution_count": 18,
   "id": "f121a81b",
   "metadata": {},
   "outputs": [
    {
     "data": {
      "text/html": [
       "<div>\n",
       "<style scoped>\n",
       "    .dataframe tbody tr th:only-of-type {\n",
       "        vertical-align: middle;\n",
       "    }\n",
       "\n",
       "    .dataframe tbody tr th {\n",
       "        vertical-align: top;\n",
       "    }\n",
       "\n",
       "    .dataframe thead th {\n",
       "        text-align: right;\n",
       "    }\n",
       "</style>\n",
       "<table border=\"1\" class=\"dataframe\">\n",
       "  <thead>\n",
       "    <tr style=\"text-align: right;\">\n",
       "      <th></th>\n",
       "      <th>BDR Name</th>\n",
       "      <th>Position</th>\n",
       "      <th>Speed</th>\n",
       "    </tr>\n",
       "  </thead>\n",
       "  <tbody>\n",
       "    <tr>\n",
       "      <th>0</th>\n",
       "      <td>Tumisang Ngwepe</td>\n",
       "      <td>LAR</td>\n",
       "      <td>20</td>\n",
       "    </tr>\n",
       "    <tr>\n",
       "      <th>1</th>\n",
       "      <td>Mpho Oitebetse</td>\n",
       "      <td>REP</td>\n",
       "      <td>35</td>\n",
       "    </tr>\n",
       "    <tr>\n",
       "      <th>2</th>\n",
       "      <td>Gaolebale Bakwena</td>\n",
       "      <td>REP</td>\n",
       "      <td>35</td>\n",
       "    </tr>\n",
       "    <tr>\n",
       "      <th>3</th>\n",
       "      <td>Refilwe Onneng</td>\n",
       "      <td>LAR</td>\n",
       "      <td>20</td>\n",
       "    </tr>\n",
       "    <tr>\n",
       "      <th>4</th>\n",
       "      <td>Oteng Mankunzini</td>\n",
       "      <td>REP</td>\n",
       "      <td>35</td>\n",
       "    </tr>\n",
       "  </tbody>\n",
       "</table>\n",
       "</div>"
      ],
      "text/plain": [
       "            BDR Name Position  Speed\n",
       "0    Tumisang Ngwepe      LAR     20\n",
       "1     Mpho Oitebetse      REP     35\n",
       "2  Gaolebale Bakwena      REP     35\n",
       "3     Refilwe Onneng      LAR     20\n",
       "4   Oteng Mankunzini      REP     35"
      ]
     },
     "execution_count": 18,
     "metadata": {},
     "output_type": "execute_result"
    }
   ],
   "source": [
    "bdr_info.head()"
   ]
  },
  {
   "cell_type": "markdown",
   "id": "23a71756",
   "metadata": {},
   "source": [
    "#### a. Provide summary statistics for the dataframe"
   ]
  },
  {
   "cell_type": "code",
   "execution_count": 19,
   "id": "699555f0",
   "metadata": {},
   "outputs": [
    {
     "data": {
      "text/html": [
       "<div>\n",
       "<style scoped>\n",
       "    .dataframe tbody tr th:only-of-type {\n",
       "        vertical-align: middle;\n",
       "    }\n",
       "\n",
       "    .dataframe tbody tr th {\n",
       "        vertical-align: top;\n",
       "    }\n",
       "\n",
       "    .dataframe thead th {\n",
       "        text-align: right;\n",
       "    }\n",
       "</style>\n",
       "<table border=\"1\" class=\"dataframe\">\n",
       "  <thead>\n",
       "    <tr style=\"text-align: right;\">\n",
       "      <th></th>\n",
       "      <th>Lat</th>\n",
       "      <th>Long</th>\n",
       "      <th>BDR Start Lat</th>\n",
       "      <th>BDR Start Long</th>\n",
       "      <th>Visit Frequency</th>\n",
       "      <th>Visit Time</th>\n",
       "      <th>Visit Time hrs</th>\n",
       "      <th>Total Visit Time hrs</th>\n",
       "    </tr>\n",
       "  </thead>\n",
       "  <tbody>\n",
       "    <tr>\n",
       "      <th>count</th>\n",
       "      <td>1292.000000</td>\n",
       "      <td>1292.000000</td>\n",
       "      <td>1292.000000</td>\n",
       "      <td>1292.000000</td>\n",
       "      <td>1292.000000</td>\n",
       "      <td>1292.000000</td>\n",
       "      <td>1292.000000</td>\n",
       "      <td>1292.000000</td>\n",
       "    </tr>\n",
       "    <tr>\n",
       "      <th>mean</th>\n",
       "      <td>-22.661753</td>\n",
       "      <td>25.575629</td>\n",
       "      <td>-22.553196</td>\n",
       "      <td>25.642140</td>\n",
       "      <td>1.101393</td>\n",
       "      <td>13.147059</td>\n",
       "      <td>0.219118</td>\n",
       "      <td>0.257514</td>\n",
       "    </tr>\n",
       "    <tr>\n",
       "      <th>std</th>\n",
       "      <td>2.114835</td>\n",
       "      <td>1.701372</td>\n",
       "      <td>2.120014</td>\n",
       "      <td>1.559376</td>\n",
       "      <td>0.444623</td>\n",
       "      <td>4.903251</td>\n",
       "      <td>0.081721</td>\n",
       "      <td>0.176574</td>\n",
       "    </tr>\n",
       "    <tr>\n",
       "      <th>min</th>\n",
       "      <td>-26.025590</td>\n",
       "      <td>20.073284</td>\n",
       "      <td>-25.012480</td>\n",
       "      <td>21.634400</td>\n",
       "      <td>0.500000</td>\n",
       "      <td>10.000000</td>\n",
       "      <td>0.166667</td>\n",
       "      <td>0.083333</td>\n",
       "    </tr>\n",
       "    <tr>\n",
       "      <th>25%</th>\n",
       "      <td>-24.620558</td>\n",
       "      <td>25.257405</td>\n",
       "      <td>-24.627500</td>\n",
       "      <td>25.357540</td>\n",
       "      <td>1.000000</td>\n",
       "      <td>10.000000</td>\n",
       "      <td>0.166667</td>\n",
       "      <td>0.166667</td>\n",
       "    </tr>\n",
       "    <tr>\n",
       "      <th>50%</th>\n",
       "      <td>-22.554584</td>\n",
       "      <td>25.888921</td>\n",
       "      <td>-22.414470</td>\n",
       "      <td>25.914040</td>\n",
       "      <td>1.000000</td>\n",
       "      <td>10.000000</td>\n",
       "      <td>0.166667</td>\n",
       "      <td>0.200000</td>\n",
       "    </tr>\n",
       "    <tr>\n",
       "      <th>75%</th>\n",
       "      <td>-21.160158</td>\n",
       "      <td>26.731774</td>\n",
       "      <td>-21.177270</td>\n",
       "      <td>26.738790</td>\n",
       "      <td>1.000000</td>\n",
       "      <td>15.000000</td>\n",
       "      <td>0.250000</td>\n",
       "      <td>0.375000</td>\n",
       "    </tr>\n",
       "    <tr>\n",
       "      <th>max</th>\n",
       "      <td>-17.782610</td>\n",
       "      <td>28.429580</td>\n",
       "      <td>-17.899915</td>\n",
       "      <td>27.862729</td>\n",
       "      <td>2.000000</td>\n",
       "      <td>40.000000</td>\n",
       "      <td>0.666667</td>\n",
       "      <td>1.333333</td>\n",
       "    </tr>\n",
       "  </tbody>\n",
       "</table>\n",
       "</div>"
      ],
      "text/plain": [
       "               Lat         Long  BDR Start Lat  BDR Start Long  \\\n",
       "count  1292.000000  1292.000000    1292.000000     1292.000000   \n",
       "mean    -22.661753    25.575629     -22.553196       25.642140   \n",
       "std       2.114835     1.701372       2.120014        1.559376   \n",
       "min     -26.025590    20.073284     -25.012480       21.634400   \n",
       "25%     -24.620558    25.257405     -24.627500       25.357540   \n",
       "50%     -22.554584    25.888921     -22.414470       25.914040   \n",
       "75%     -21.160158    26.731774     -21.177270       26.738790   \n",
       "max     -17.782610    28.429580     -17.899915       27.862729   \n",
       "\n",
       "       Visit Frequency   Visit Time  Visit Time hrs  Total Visit Time hrs  \n",
       "count      1292.000000  1292.000000     1292.000000           1292.000000  \n",
       "mean          1.101393    13.147059        0.219118              0.257514  \n",
       "std           0.444623     4.903251        0.081721              0.176574  \n",
       "min           0.500000    10.000000        0.166667              0.083333  \n",
       "25%           1.000000    10.000000        0.166667              0.166667  \n",
       "50%           1.000000    10.000000        0.166667              0.200000  \n",
       "75%           1.000000    15.000000        0.250000              0.375000  \n",
       "max           2.000000    40.000000        0.666667              1.333333  "
      ]
     },
     "execution_count": 19,
     "metadata": {},
     "output_type": "execute_result"
    }
   ],
   "source": [
    "BDR.describe()"
   ]
  },
  {
   "cell_type": "code",
   "execution_count": 20,
   "id": "c841fca4",
   "metadata": {},
   "outputs": [
    {
     "data": {
      "text/html": [
       "<div>\n",
       "<style scoped>\n",
       "    .dataframe tbody tr th:only-of-type {\n",
       "        vertical-align: middle;\n",
       "    }\n",
       "\n",
       "    .dataframe tbody tr th {\n",
       "        vertical-align: top;\n",
       "    }\n",
       "\n",
       "    .dataframe thead th {\n",
       "        text-align: right;\n",
       "    }\n",
       "</style>\n",
       "<table border=\"1\" class=\"dataframe\">\n",
       "  <thead>\n",
       "    <tr style=\"text-align: right;\">\n",
       "      <th></th>\n",
       "      <th>Speed</th>\n",
       "    </tr>\n",
       "  </thead>\n",
       "  <tbody>\n",
       "    <tr>\n",
       "      <th>count</th>\n",
       "      <td>28.000000</td>\n",
       "    </tr>\n",
       "    <tr>\n",
       "      <th>mean</th>\n",
       "      <td>32.321429</td>\n",
       "    </tr>\n",
       "    <tr>\n",
       "      <th>std</th>\n",
       "      <td>9.177483</td>\n",
       "    </tr>\n",
       "    <tr>\n",
       "      <th>min</th>\n",
       "      <td>20.000000</td>\n",
       "    </tr>\n",
       "    <tr>\n",
       "      <th>25%</th>\n",
       "      <td>20.000000</td>\n",
       "    </tr>\n",
       "    <tr>\n",
       "      <th>50%</th>\n",
       "      <td>35.000000</td>\n",
       "    </tr>\n",
       "    <tr>\n",
       "      <th>75%</th>\n",
       "      <td>35.000000</td>\n",
       "    </tr>\n",
       "    <tr>\n",
       "      <th>max</th>\n",
       "      <td>50.000000</td>\n",
       "    </tr>\n",
       "  </tbody>\n",
       "</table>\n",
       "</div>"
      ],
      "text/plain": [
       "           Speed\n",
       "count  28.000000\n",
       "mean   32.321429\n",
       "std     9.177483\n",
       "min    20.000000\n",
       "25%    20.000000\n",
       "50%    35.000000\n",
       "75%    35.000000\n",
       "max    50.000000"
      ]
     },
     "execution_count": 20,
     "metadata": {},
     "output_type": "execute_result"
    }
   ],
   "source": [
    "bdr_info.describe()"
   ]
  },
  {
   "cell_type": "markdown",
   "id": "cfa543a6",
   "metadata": {},
   "source": [
    "#### b. Identify the BDR with the highest visit frequency"
   ]
  },
  {
   "cell_type": "code",
   "execution_count": 21,
   "id": "41c5c37d",
   "metadata": {},
   "outputs": [
    {
     "data": {
      "text/plain": [
       "2.0"
      ]
     },
     "execution_count": 21,
     "metadata": {},
     "output_type": "execute_result"
    }
   ],
   "source": [
    "BDR['Visit Frequency'].max()"
   ]
  },
  {
   "cell_type": "code",
   "execution_count": 22,
   "id": "738d6234",
   "metadata": {},
   "outputs": [
    {
     "data": {
      "text/plain": [
       "3        Gaolebale Bakwena\n",
       "4        Gaolebale Bakwena\n",
       "13       Gaolebale Bakwena\n",
       "15       Gaolebale Bakwena\n",
       "16       Gaolebale Bakwena\n",
       "               ...        \n",
       "1224        Paphidzo Nfazo\n",
       "1228         Kaelo Tsumake\n",
       "1229    Mogorosi Molojwane\n",
       "1251          Godfrey Jore\n",
       "1254         Kaelo Tsumake\n",
       "Name: BDR Name, Length: 175, dtype: object"
      ]
     },
     "execution_count": 22,
     "metadata": {},
     "output_type": "execute_result"
    }
   ],
   "source": [
    "BDR[BDR['Visit Frequency'] == BDR['Visit Frequency'].max()]['BDR Name']"
   ]
  },
  {
   "cell_type": "markdown",
   "id": "97222e92",
   "metadata": {},
   "source": [
    "Highest Visit Frequecny is 2 and above are the BDR Names who have highest visit frequency."
   ]
  },
  {
   "cell_type": "markdown",
   "id": "8ce80cc6",
   "metadata": {},
   "source": [
    "#### c. Are there any missing values in the Week Numbers column, if yes how would you treat them?"
   ]
  },
  {
   "cell_type": "code",
   "execution_count": 23,
   "id": "9965103b",
   "metadata": {},
   "outputs": [
    {
     "data": {
      "text/plain": [
       "2"
      ]
     },
     "execution_count": 23,
     "metadata": {},
     "output_type": "execute_result"
    }
   ],
   "source": [
    "BDR['Week Numbers'].isnull().sum()"
   ]
  },
  {
   "cell_type": "markdown",
   "id": "14934331",
   "metadata": {},
   "source": [
    "There are 2 missing values in Week Numbers column. Since this column contains categorical values, we can use mode to fill the missing values."
   ]
  },
  {
   "cell_type": "code",
   "execution_count": 24,
   "id": "004b67de",
   "metadata": {},
   "outputs": [],
   "source": [
    "BDR['Week Numbers'].fillna(BDR['Week Numbers'].mode()[0], inplace=True)"
   ]
  },
  {
   "cell_type": "code",
   "execution_count": 25,
   "id": "32790334",
   "metadata": {},
   "outputs": [
    {
     "data": {
      "text/plain": [
       "0"
      ]
     },
     "execution_count": 25,
     "metadata": {},
     "output_type": "execute_result"
    }
   ],
   "source": [
    "BDR['Week Numbers'].isnull().sum()"
   ]
  },
  {
   "cell_type": "markdown",
   "id": "3120e3dc",
   "metadata": {},
   "source": [
    "#### d. Which BDR has the highest travel speed? (hint :- travel speed is mentioned in the BDR_info sheet)"
   ]
  },
  {
   "cell_type": "code",
   "execution_count": 26,
   "id": "07a2f93e",
   "metadata": {},
   "outputs": [
    {
     "data": {
      "text/plain": [
       "50"
      ]
     },
     "execution_count": 26,
     "metadata": {},
     "output_type": "execute_result"
    }
   ],
   "source": [
    "bdr_info['Speed'].max()"
   ]
  },
  {
   "cell_type": "code",
   "execution_count": 27,
   "id": "5ac1d052",
   "metadata": {},
   "outputs": [
    {
     "data": {
      "text/plain": [
       "13    Keabetswe Gabotoswe\n",
       "16         Gaone Mosimane\n",
       "20    Tebelelo Raditlhaka\n",
       "Name: BDR Name, dtype: object"
      ]
     },
     "execution_count": 27,
     "metadata": {},
     "output_type": "execute_result"
    }
   ],
   "source": [
    "bdr_info[bdr_info['Speed'] == bdr_info['Speed'].max()]['BDR Name']"
   ]
  },
  {
   "cell_type": "markdown",
   "id": "b2c0d380",
   "metadata": {},
   "source": [
    "Keabetswe Gabotoswe, Gaone Mosimane and Tebelelo Raditlhaka has the highest travel speed (50)."
   ]
  },
  {
   "cell_type": "markdown",
   "id": "b69eca3c",
   "metadata": {},
   "source": [
    "#### e. Add a new column named Active to the BDR DataFrame with all 1s to indicate each BDR’s active employment status"
   ]
  },
  {
   "cell_type": "code",
   "execution_count": 28,
   "id": "d6e437ad",
   "metadata": {},
   "outputs": [],
   "source": [
    "BDR['Active'] = 1"
   ]
  },
  {
   "cell_type": "code",
   "execution_count": 29,
   "id": "7917a0cf",
   "metadata": {},
   "outputs": [
    {
     "data": {
      "text/html": [
       "<div>\n",
       "<style scoped>\n",
       "    .dataframe tbody tr th:only-of-type {\n",
       "        vertical-align: middle;\n",
       "    }\n",
       "\n",
       "    .dataframe tbody tr th {\n",
       "        vertical-align: top;\n",
       "    }\n",
       "\n",
       "    .dataframe thead th {\n",
       "        text-align: right;\n",
       "    }\n",
       "</style>\n",
       "<table border=\"1\" class=\"dataframe\">\n",
       "  <thead>\n",
       "    <tr style=\"text-align: right;\">\n",
       "      <th></th>\n",
       "      <th>POC ID</th>\n",
       "      <th>POC Name</th>\n",
       "      <th>Lat</th>\n",
       "      <th>Long</th>\n",
       "      <th>BDR Name</th>\n",
       "      <th>BDRM Name</th>\n",
       "      <th>Position</th>\n",
       "      <th>BDR Start Lat</th>\n",
       "      <th>BDR Start Long</th>\n",
       "      <th>Day of visit</th>\n",
       "      <th>...</th>\n",
       "      <th>New Channel</th>\n",
       "      <th>New Segment</th>\n",
       "      <th>Visit Frequency</th>\n",
       "      <th>Visit Time</th>\n",
       "      <th>Visit Time hrs</th>\n",
       "      <th>Total Visit Time hrs</th>\n",
       "      <th>Week Numbers</th>\n",
       "      <th>Open Time</th>\n",
       "      <th>Close Time</th>\n",
       "      <th>Active</th>\n",
       "    </tr>\n",
       "  </thead>\n",
       "  <tbody>\n",
       "    <tr>\n",
       "      <th>0</th>\n",
       "      <td>0011i000007P6KdAAK</td>\n",
       "      <td>Fours Wholesalers</td>\n",
       "      <td>-19.989468</td>\n",
       "      <td>23.414982</td>\n",
       "      <td>Tumisang Ngwepe</td>\n",
       "      <td>Emmanuel Moshe</td>\n",
       "      <td>LAR</td>\n",
       "      <td>-22.414470</td>\n",
       "      <td>26.738790</td>\n",
       "      <td>2022-02-14 00:00:00</td>\n",
       "      <td>...</td>\n",
       "      <td>RESELLERS</td>\n",
       "      <td>B3</td>\n",
       "      <td>1.0</td>\n",
       "      <td>25</td>\n",
       "      <td>0.416667</td>\n",
       "      <td>0.416667</td>\n",
       "      <td>ALL</td>\n",
       "      <td>12:00:00</td>\n",
       "      <td>22:00:00</td>\n",
       "      <td>1</td>\n",
       "    </tr>\n",
       "    <tr>\n",
       "      <th>1</th>\n",
       "      <td>0011i00000VB452AAD</td>\n",
       "      <td>GHALE BOTTLESTORE</td>\n",
       "      <td>-22.782374</td>\n",
       "      <td>27.763937</td>\n",
       "      <td>Mpho Oitebetse</td>\n",
       "      <td>Emmanuel Moshe</td>\n",
       "      <td>REP</td>\n",
       "      <td>-23.106474</td>\n",
       "      <td>26.862874</td>\n",
       "      <td>Tuesday</td>\n",
       "      <td>...</td>\n",
       "      <td>Low End</td>\n",
       "      <td>B3</td>\n",
       "      <td>1.0</td>\n",
       "      <td>10</td>\n",
       "      <td>0.166667</td>\n",
       "      <td>0.166667</td>\n",
       "      <td>ALL</td>\n",
       "      <td>12:00:00</td>\n",
       "      <td>22:00:00</td>\n",
       "      <td>1</td>\n",
       "    </tr>\n",
       "    <tr>\n",
       "      <th>2</th>\n",
       "      <td>0011i00000xU8pxAAC</td>\n",
       "      <td>Club Cartel Liq Restaurant</td>\n",
       "      <td>-23.984200</td>\n",
       "      <td>21.762670</td>\n",
       "      <td>Gaolebale Bakwena</td>\n",
       "      <td>Victor Mhahle</td>\n",
       "      <td>REP</td>\n",
       "      <td>-24.595448</td>\n",
       "      <td>24.716486</td>\n",
       "      <td>2022-02-08 00:00:00</td>\n",
       "      <td>...</td>\n",
       "      <td>Mainstream</td>\n",
       "      <td>C3</td>\n",
       "      <td>1.0</td>\n",
       "      <td>10</td>\n",
       "      <td>0.166667</td>\n",
       "      <td>0.166667</td>\n",
       "      <td>ALL</td>\n",
       "      <td>12:00:00</td>\n",
       "      <td>22:00:00</td>\n",
       "      <td>1</td>\n",
       "    </tr>\n",
       "    <tr>\n",
       "      <th>3</th>\n",
       "      <td>0011i00000xU94OAAS</td>\n",
       "      <td>Niche Lounge</td>\n",
       "      <td>-23.990120</td>\n",
       "      <td>21.762022</td>\n",
       "      <td>Gaolebale Bakwena</td>\n",
       "      <td>Victor Mhahle</td>\n",
       "      <td>REP</td>\n",
       "      <td>-24.595448</td>\n",
       "      <td>24.716486</td>\n",
       "      <td>2022-02-08 00:00:00</td>\n",
       "      <td>...</td>\n",
       "      <td>Mainstream</td>\n",
       "      <td>C2</td>\n",
       "      <td>2.0</td>\n",
       "      <td>10</td>\n",
       "      <td>0.166667</td>\n",
       "      <td>0.333333</td>\n",
       "      <td>ALL</td>\n",
       "      <td>12:00:00</td>\n",
       "      <td>22:00:00</td>\n",
       "      <td>1</td>\n",
       "    </tr>\n",
       "    <tr>\n",
       "      <th>4</th>\n",
       "      <td>0011i000012NhWCAA0</td>\n",
       "      <td>Niche World Lounge</td>\n",
       "      <td>-23.990216</td>\n",
       "      <td>21.762048</td>\n",
       "      <td>Gaolebale Bakwena</td>\n",
       "      <td>Victor Mhahle</td>\n",
       "      <td>REP</td>\n",
       "      <td>-24.595448</td>\n",
       "      <td>24.716486</td>\n",
       "      <td>2022-02-08 00:00:00</td>\n",
       "      <td>...</td>\n",
       "      <td>Mainstream</td>\n",
       "      <td>C2</td>\n",
       "      <td>2.0</td>\n",
       "      <td>10</td>\n",
       "      <td>0.166667</td>\n",
       "      <td>0.333333</td>\n",
       "      <td>ALL</td>\n",
       "      <td>12:00:00</td>\n",
       "      <td>22:00:00</td>\n",
       "      <td>1</td>\n",
       "    </tr>\n",
       "  </tbody>\n",
       "</table>\n",
       "<p>5 rows × 21 columns</p>\n",
       "</div>"
      ],
      "text/plain": [
       "               POC ID                    POC Name        Lat       Long  \\\n",
       "0  0011i000007P6KdAAK           Fours Wholesalers -19.989468  23.414982   \n",
       "1  0011i00000VB452AAD           GHALE BOTTLESTORE -22.782374  27.763937   \n",
       "2  0011i00000xU8pxAAC  Club Cartel Liq Restaurant -23.984200  21.762670   \n",
       "3  0011i00000xU94OAAS                Niche Lounge -23.990120  21.762022   \n",
       "4  0011i000012NhWCAA0          Niche World Lounge -23.990216  21.762048   \n",
       "\n",
       "            BDR Name       BDRM Name Position  BDR Start Lat  BDR Start Long  \\\n",
       "0    Tumisang Ngwepe  Emmanuel Moshe      LAR     -22.414470       26.738790   \n",
       "1     Mpho Oitebetse  Emmanuel Moshe      REP     -23.106474       26.862874   \n",
       "2  Gaolebale Bakwena   Victor Mhahle      REP     -24.595448       24.716486   \n",
       "3  Gaolebale Bakwena   Victor Mhahle      REP     -24.595448       24.716486   \n",
       "4  Gaolebale Bakwena   Victor Mhahle      REP     -24.595448       24.716486   \n",
       "\n",
       "          Day of visit  ... New Channel New Segment Visit Frequency  \\\n",
       "0  2022-02-14 00:00:00  ...   RESELLERS          B3             1.0   \n",
       "1              Tuesday  ...     Low End          B3             1.0   \n",
       "2  2022-02-08 00:00:00  ...  Mainstream          C3             1.0   \n",
       "3  2022-02-08 00:00:00  ...  Mainstream          C2             2.0   \n",
       "4  2022-02-08 00:00:00  ...  Mainstream          C2             2.0   \n",
       "\n",
       "   Visit Time  Visit Time hrs  Total Visit Time hrs  Week Numbers Open Time  \\\n",
       "0          25        0.416667              0.416667           ALL  12:00:00   \n",
       "1          10        0.166667              0.166667           ALL  12:00:00   \n",
       "2          10        0.166667              0.166667           ALL  12:00:00   \n",
       "3          10        0.166667              0.333333           ALL  12:00:00   \n",
       "4          10        0.166667              0.333333           ALL  12:00:00   \n",
       "\n",
       "  Close Time Active  \n",
       "0   22:00:00      1  \n",
       "1   22:00:00      1  \n",
       "2   22:00:00      1  \n",
       "3   22:00:00      1  \n",
       "4   22:00:00      1  \n",
       "\n",
       "[5 rows x 21 columns]"
      ]
     },
     "execution_count": 29,
     "metadata": {},
     "output_type": "execute_result"
    }
   ],
   "source": [
    "BDR.head()"
   ]
  },
  {
   "cell_type": "markdown",
   "id": "051d9ec8",
   "metadata": {},
   "source": [
    "Active column added at the end with all 1s."
   ]
  },
  {
   "cell_type": "markdown",
   "id": "a95bbe31",
   "metadata": {},
   "source": [
    "### 7. Distance calculation\n",
    "\n",
    "a. In the BDR dataframe calculate the distance between POC ID 0011i000007P6KdAAK and 0011i00000VB452AAD  \n",
    "b. Calculate the shortest distance that one needs to travel to cover all the POCs associated with BDR Dimpho Gosibotsile (hint:-  use travelling salesman solution)"
   ]
  },
  {
   "cell_type": "markdown",
   "id": "6b521bc5",
   "metadata": {},
   "source": [
    "#### a. In the BDR dataframe calculate the distance between POC ID 0011i000007P6KdAAK and 0011i00000VB452AAD"
   ]
  },
  {
   "attachments": {
    "image.png": {
     "image/png": "[encoded data removed]"
    }
   },
   "cell_type": "markdown",
   "id": "b26b7d23",
   "metadata": {},
   "source": [
    "To calculate the distance between POC ID 0011i000007P6KdAAK and 0011i00000VB452AAD, I will use haversine formula. Haversine formula determines the great-circle distance between two points on a sphere given their longitudes and latitudes.\n",
    "![image.png](attachment:image.png)\n",
    "One other thing we’ll need is the radius of planet Earth which is 6371 km (we can get this using google search)."
   ]
  },
  {
   "cell_type": "code",
   "execution_count": 30,
   "id": "a75f20c8",
   "metadata": {},
   "outputs": [],
   "source": [
    "import numpy as np"
   ]
  },
  {
   "cell_type": "code",
   "execution_count": 31,
   "id": "c907c96f",
   "metadata": {},
   "outputs": [],
   "source": [
    "def haversine_distance(lat1, lon1, lat2, lon2):\n",
    "    r = 6371\n",
    "    phi1 = np.radians(lat1)\n",
    "    phi2 = np.radians(lat2)\n",
    "    delta_phi = np.radians(lat2 - lat1)\n",
    "    delta_lambda = np.radians(lon2 - lon1)\n",
    "    \n",
    "    a = np.sin(delta_phi / 2)**2 + np.cos(phi1) * np.cos(phi2) * np.sin(delta_lambda / 2)**2\n",
    "    \n",
    "    res = r * (2 * np.arctan2(np.sqrt(a), np.sqrt(1-a)))\n",
    "    \n",
    "    return np.round(res, 2)"
   ]
  },
  {
   "cell_type": "code",
   "execution_count": 32,
   "id": "55a60f3d",
   "metadata": {},
   "outputs": [],
   "source": [
    "lat1 = BDR[BDR['POC ID'] == '0011i000007P6KdAAK']['Lat'][0]"
   ]
  },
  {
   "cell_type": "code",
   "execution_count": 33,
   "id": "50bc84f6",
   "metadata": {},
   "outputs": [],
   "source": [
    "lon1 = BDR[BDR['POC ID'] == '0011i000007P6KdAAK']['Long'][0]"
   ]
  },
  {
   "cell_type": "code",
   "execution_count": 34,
   "id": "ee8f3d33",
   "metadata": {},
   "outputs": [],
   "source": [
    "lat2 = BDR[BDR['POC ID'] == '0011i00000VB452AAD']['Lat'][1]"
   ]
  },
  {
   "cell_type": "code",
   "execution_count": 35,
   "id": "f1d5a797",
   "metadata": {},
   "outputs": [],
   "source": [
    "lon2 = BDR[BDR['POC ID'] == '0011i00000VB452AAD']['Long'][1]"
   ]
  },
  {
   "cell_type": "code",
   "execution_count": 36,
   "id": "db54851e",
   "metadata": {},
   "outputs": [
    {
     "data": {
      "text/plain": [
       "546.93"
      ]
     },
     "execution_count": 36,
     "metadata": {},
     "output_type": "execute_result"
    }
   ],
   "source": [
    "haversine_distance(lat1, lon1, lat2, lon2)"
   ]
  },
  {
   "cell_type": "markdown",
   "id": "813cb790",
   "metadata": {},
   "source": [
    "The distance between POC ID 0011i000007P6KdAAK and 0011i00000VB452AAD is 546.93 kms."
   ]
  },
  {
   "cell_type": "markdown",
   "id": "cd4a06d3",
   "metadata": {},
   "source": [
    "#### b. Calculate the shortest distance that one needs to travel to cover all the POCs associated with BDR Dimpho Gosibotsile (hint:- use travelling salesman solution)"
   ]
  },
  {
   "cell_type": "markdown",
   "id": "6be1b3c5",
   "metadata": {},
   "source": [
    "In order to calculate the shortest distance, we first need to calculate the distances for each POCs associated with BDR Dimpho Gosibotsile. I will use the same Haversine formula to calculate the distances and store the distances into a list."
   ]
  },
  {
   "cell_type": "code",
   "execution_count": 37,
   "id": "37a914b6",
   "metadata": {},
   "outputs": [],
   "source": [
    "df = BDR[BDR[\"BDR Name\"] == \"Dimpho Gosibotsile\"]"
   ]
  },
  {
   "cell_type": "code",
   "execution_count": 38,
   "id": "95e1380b",
   "metadata": {},
   "outputs": [
    {
     "data": {
      "text/html": [
       "<div>\n",
       "<style scoped>\n",
       "    .dataframe tbody tr th:only-of-type {\n",
       "        vertical-align: middle;\n",
       "    }\n",
       "\n",
       "    .dataframe tbody tr th {\n",
       "        vertical-align: top;\n",
       "    }\n",
       "\n",
       "    .dataframe thead th {\n",
       "        text-align: right;\n",
       "    }\n",
       "</style>\n",
       "<table border=\"1\" class=\"dataframe\">\n",
       "  <thead>\n",
       "    <tr style=\"text-align: right;\">\n",
       "      <th></th>\n",
       "      <th>POC ID</th>\n",
       "      <th>POC Name</th>\n",
       "      <th>Lat</th>\n",
       "      <th>Long</th>\n",
       "      <th>BDR Name</th>\n",
       "      <th>BDRM Name</th>\n",
       "      <th>Position</th>\n",
       "      <th>BDR Start Lat</th>\n",
       "      <th>BDR Start Long</th>\n",
       "      <th>Day of visit</th>\n",
       "      <th>...</th>\n",
       "      <th>New Channel</th>\n",
       "      <th>New Segment</th>\n",
       "      <th>Visit Frequency</th>\n",
       "      <th>Visit Time</th>\n",
       "      <th>Visit Time hrs</th>\n",
       "      <th>Total Visit Time hrs</th>\n",
       "      <th>Week Numbers</th>\n",
       "      <th>Open Time</th>\n",
       "      <th>Close Time</th>\n",
       "      <th>Active</th>\n",
       "    </tr>\n",
       "  </thead>\n",
       "  <tbody>\n",
       "    <tr>\n",
       "      <th>453</th>\n",
       "      <td>0011n00001q3VayAAE</td>\n",
       "      <td>DELTA BROTHERS</td>\n",
       "      <td>-24.657350</td>\n",
       "      <td>25.537120</td>\n",
       "      <td>Dimpho Gosibotsile</td>\n",
       "      <td>Victor Mhahle</td>\n",
       "      <td>REP</td>\n",
       "      <td>-25.01248</td>\n",
       "      <td>25.35754</td>\n",
       "      <td>2022-01-07 00:00:00</td>\n",
       "      <td>...</td>\n",
       "      <td>Low End</td>\n",
       "      <td>A1</td>\n",
       "      <td>2.0</td>\n",
       "      <td>20</td>\n",
       "      <td>0.333333</td>\n",
       "      <td>0.666667</td>\n",
       "      <td>ALL</td>\n",
       "      <td>12:00:00</td>\n",
       "      <td>22:00:00</td>\n",
       "      <td>1</td>\n",
       "    </tr>\n",
       "    <tr>\n",
       "      <th>461</th>\n",
       "      <td>0011i00000ESNcUAAX</td>\n",
       "      <td>Mosi o a Thunya</td>\n",
       "      <td>-24.679268</td>\n",
       "      <td>25.559199</td>\n",
       "      <td>Dimpho Gosibotsile</td>\n",
       "      <td>Victor Mhahle</td>\n",
       "      <td>REP</td>\n",
       "      <td>-25.01248</td>\n",
       "      <td>25.35754</td>\n",
       "      <td>2022-01-07 00:00:00</td>\n",
       "      <td>...</td>\n",
       "      <td>Mainstream</td>\n",
       "      <td>C1</td>\n",
       "      <td>2.0</td>\n",
       "      <td>15</td>\n",
       "      <td>0.250000</td>\n",
       "      <td>0.500000</td>\n",
       "      <td>ALL</td>\n",
       "      <td>12:00:00</td>\n",
       "      <td>22:00:00</td>\n",
       "      <td>1</td>\n",
       "    </tr>\n",
       "    <tr>\n",
       "      <th>462</th>\n",
       "      <td>0011n00001q3T0sAAE</td>\n",
       "      <td>RIVERSIDE BAR</td>\n",
       "      <td>-24.676660</td>\n",
       "      <td>25.554990</td>\n",
       "      <td>Dimpho Gosibotsile</td>\n",
       "      <td>Victor Mhahle</td>\n",
       "      <td>REP</td>\n",
       "      <td>-25.01248</td>\n",
       "      <td>25.35754</td>\n",
       "      <td>2022-01-07 00:00:00</td>\n",
       "      <td>...</td>\n",
       "      <td>Mainstream</td>\n",
       "      <td>B2</td>\n",
       "      <td>2.0</td>\n",
       "      <td>15</td>\n",
       "      <td>0.250000</td>\n",
       "      <td>0.500000</td>\n",
       "      <td>ALL</td>\n",
       "      <td>12:00:00</td>\n",
       "      <td>22:00:00</td>\n",
       "      <td>1</td>\n",
       "    </tr>\n",
       "    <tr>\n",
       "      <th>463</th>\n",
       "      <td>0011i00000I8ljIAAR</td>\n",
       "      <td>4y Bottle store</td>\n",
       "      <td>-24.671820</td>\n",
       "      <td>25.546206</td>\n",
       "      <td>Dimpho Gosibotsile</td>\n",
       "      <td>Victor Mhahle</td>\n",
       "      <td>REP</td>\n",
       "      <td>-25.01248</td>\n",
       "      <td>25.35754</td>\n",
       "      <td>2022-01-07 00:00:00</td>\n",
       "      <td>...</td>\n",
       "      <td>Low End</td>\n",
       "      <td>A1</td>\n",
       "      <td>2.0</td>\n",
       "      <td>20</td>\n",
       "      <td>0.333333</td>\n",
       "      <td>0.666667</td>\n",
       "      <td>ALL</td>\n",
       "      <td>12:00:00</td>\n",
       "      <td>22:00:00</td>\n",
       "      <td>1</td>\n",
       "    </tr>\n",
       "    <tr>\n",
       "      <th>470</th>\n",
       "      <td>0011n00001q3T1CAAU</td>\n",
       "      <td>CK+MM ENTERPRISE</td>\n",
       "      <td>-24.673940</td>\n",
       "      <td>25.542920</td>\n",
       "      <td>Dimpho Gosibotsile</td>\n",
       "      <td>Victor Mhahle</td>\n",
       "      <td>REP</td>\n",
       "      <td>-25.01248</td>\n",
       "      <td>25.35754</td>\n",
       "      <td>2022-01-07 00:00:00</td>\n",
       "      <td>...</td>\n",
       "      <td>Mainstream</td>\n",
       "      <td>A2</td>\n",
       "      <td>2.0</td>\n",
       "      <td>18</td>\n",
       "      <td>0.300000</td>\n",
       "      <td>0.600000</td>\n",
       "      <td>ALL</td>\n",
       "      <td>12:00:00</td>\n",
       "      <td>22:00:00</td>\n",
       "      <td>1</td>\n",
       "    </tr>\n",
       "  </tbody>\n",
       "</table>\n",
       "<p>5 rows × 21 columns</p>\n",
       "</div>"
      ],
      "text/plain": [
       "                 POC ID          POC Name        Lat       Long  \\\n",
       "453  0011n00001q3VayAAE    DELTA BROTHERS -24.657350  25.537120   \n",
       "461  0011i00000ESNcUAAX   Mosi o a Thunya -24.679268  25.559199   \n",
       "462  0011n00001q3T0sAAE     RIVERSIDE BAR -24.676660  25.554990   \n",
       "463  0011i00000I8ljIAAR   4y Bottle store -24.671820  25.546206   \n",
       "470  0011n00001q3T1CAAU  CK+MM ENTERPRISE -24.673940  25.542920   \n",
       "\n",
       "               BDR Name      BDRM Name Position  BDR Start Lat  \\\n",
       "453  Dimpho Gosibotsile  Victor Mhahle      REP      -25.01248   \n",
       "461  Dimpho Gosibotsile  Victor Mhahle      REP      -25.01248   \n",
       "462  Dimpho Gosibotsile  Victor Mhahle      REP      -25.01248   \n",
       "463  Dimpho Gosibotsile  Victor Mhahle      REP      -25.01248   \n",
       "470  Dimpho Gosibotsile  Victor Mhahle      REP      -25.01248   \n",
       "\n",
       "     BDR Start Long         Day of visit  ... New Channel New Segment  \\\n",
       "453        25.35754  2022-01-07 00:00:00  ...     Low End          A1   \n",
       "461        25.35754  2022-01-07 00:00:00  ...  Mainstream          C1   \n",
       "462        25.35754  2022-01-07 00:00:00  ...  Mainstream          B2   \n",
       "463        25.35754  2022-01-07 00:00:00  ...     Low End          A1   \n",
       "470        25.35754  2022-01-07 00:00:00  ...  Mainstream          A2   \n",
       "\n",
       "    Visit Frequency  Visit Time  Visit Time hrs  Total Visit Time hrs  \\\n",
       "453             2.0          20        0.333333              0.666667   \n",
       "461             2.0          15        0.250000              0.500000   \n",
       "462             2.0          15        0.250000              0.500000   \n",
       "463             2.0          20        0.333333              0.666667   \n",
       "470             2.0          18        0.300000              0.600000   \n",
       "\n",
       "     Week Numbers Open Time Close Time Active  \n",
       "453           ALL  12:00:00   22:00:00      1  \n",
       "461           ALL  12:00:00   22:00:00      1  \n",
       "462           ALL  12:00:00   22:00:00      1  \n",
       "463           ALL  12:00:00   22:00:00      1  \n",
       "470           ALL  12:00:00   22:00:00      1  \n",
       "\n",
       "[5 rows x 21 columns]"
      ]
     },
     "execution_count": 38,
     "metadata": {},
     "output_type": "execute_result"
    }
   ],
   "source": [
    "df.head()"
   ]
  },
  {
   "cell_type": "code",
   "execution_count": 39,
   "id": "c0abfc17",
   "metadata": {},
   "outputs": [],
   "source": [
    "# First Latitude and Longitude values associated with Dimpho Gosibotsile\n",
    "\n",
    "start_lat = -24.657350\n",
    "start_lon = 25.537120"
   ]
  },
  {
   "cell_type": "code",
   "execution_count": 40,
   "id": "ab517220",
   "metadata": {},
   "outputs": [],
   "source": [
    "distances = []\n",
    "\n",
    "for i in df.itertuples(index = False):\n",
    "    distances.append(haversine_distance(start_lat, start_lon, i.Lat, i.Long))"
   ]
  },
  {
   "cell_type": "code",
   "execution_count": 41,
   "id": "2b96f4e3",
   "metadata": {},
   "outputs": [
    {
     "name": "stdout",
     "output_type": "stream",
     "text": [
      "[0.0, 3.3, 2.81, 1.85, 1.94, 2.49, 3.73, 45.99, 34.83, 43.02, 43.05, 42.94, 42.39, 42.31, 42.21, 41.8, 41.66, 41.59, 41.54, 41.09, 41.16, 41.07, 40.96, 41.03, 40.92, 40.81, 40.89, 15.74, 40.72, 40.61, 40.55, 15.59, 15.71, 18.79, 18.85, 17.47, 17.37, 17.89, 18.68, 18.94, 19.76, 28.68, 29.03]\n"
     ]
    }
   ],
   "source": [
    "print(distances)"
   ]
  },
  {
   "cell_type": "markdown",
   "id": "aad52b93",
   "metadata": {},
   "source": [
    "Now, as we have all the distances for each POCs associated with BDR Dimpho Gosibotsile. I will now use Traveling Salesman Problem to find the shortest distance."
   ]
  },
  {
   "cell_type": "code",
   "execution_count": 42,
   "id": "5ce8e311",
   "metadata": {},
   "outputs": [],
   "source": [
    "from sys import maxsize\n",
    "from itertools import permutations\n",
    "V = 43\n",
    "\n",
    "def travellingSalesmanProblem(graph, s):\n",
    "    vertex = []\n",
    "    for i in range(V):\n",
    "        if i != s:\n",
    "            vertex.append(i)\n",
    "\n",
    "    min_path = maxsize\n",
    "    next_permutation=permutations(vertex)\n",
    "    for i in next_permutation:\n",
    "        current_pathweight = 0\n",
    "        k = s\n",
    "        for j in i:\n",
    "            current_pathweight += graph[k][j]\n",
    "            k = j\n",
    "            current_pathweight += graph[k][s]\n",
    "            min_path = min(min_path, current_pathweight)\n",
    "\n",
    "    return min_path"
   ]
  },
  {
   "cell_type": "code",
   "execution_count": 43,
   "id": "ed46b00a",
   "metadata": {},
   "outputs": [],
   "source": [
    "graph = [[0.0, 3.3, 2.81, 1.85, 1.94, 2.49, 3.73, 45.99, 34.83, 43.02, 43.05, 42.94, 42.39, 42.31, 42.21, 41.8, 41.66, 41.59, 41.54, 41.09, 41.16, 41.07, 40.96, 41.03, 40.92, 40.81, 40.89, 15.74, 40.72, 40.61, 40.55, 15.59, 15.71, 18.79, 18.85, 17.47, 17.37, 17.89, 18.68, 18.94, 19.76, 28.68, 29.03],\n",
    "        [3.3, 0.0, 2.81, 1.85, 1.94, 2.49, 3.73, 45.99, 34.83, 43.02, 43.05, 42.94, 42.39, 42.31, 42.21, 41.8, 41.66, 41.59, 41.54, 41.09, 41.16, 41.07, 40.96, 41.03, 40.92, 40.81, 40.89, 15.74, 40.72, 40.61, 40.55, 15.59, 15.71, 18.79, 18.85, 17.47, 17.37, 17.89, 18.68, 18.94, 19.76, 28.68, 29.03],\n",
    "        [3.3, 2.81, 0.0, 1.85, 1.94, 2.49, 3.73, 45.99, 34.83, 43.02, 43.05, 42.94, 42.39, 42.31, 42.21, 41.8, 41.66, 41.59, 41.54, 41.09, 41.16, 41.07, 40.96, 41.03, 40.92, 40.81, 40.89, 15.74, 40.72, 40.61, 40.55, 15.59, 15.71, 18.79, 18.85, 17.47, 17.37, 17.89, 18.68, 18.94, 19.76, 28.68, 29.03],\n",
    "        [3.3, 2.81, 1.85, 0.0, 1.94, 2.49, 3.73, 45.99, 34.83, 43.02, 43.05, 42.94, 42.39, 42.31, 42.21, 41.8, 41.66, 41.59, 41.54, 41.09, 41.16, 41.07, 40.96, 41.03, 40.92, 40.81, 40.89, 15.74, 40.72, 40.61, 40.55, 15.59, 15.71, 18.79, 18.85, 17.47, 17.37, 17.89, 18.68, 18.94, 19.76, 28.68, 29.03],\n",
    "        [3.3, 2.81, 1.85, 1.94, 0.0, 2.49, 3.73, 45.99, 34.83, 43.02, 43.05, 42.94, 42.39, 42.31, 42.21, 41.8, 41.66, 41.59, 41.54, 41.09, 41.16, 41.07, 40.96, 41.03, 40.92, 40.81, 40.89, 15.74, 40.72, 40.61, 40.55, 15.59, 15.71, 18.79, 18.85, 17.47, 17.37, 17.89, 18.68, 18.94, 19.76, 28.68, 29.03],\n",
    "        [3.3, 2.81, 1.85, 1.94, 2.49, 0.0, 3.73, 45.99, 34.83, 43.02, 43.05, 42.94, 42.39, 42.31, 42.21, 41.8, 41.66, 41.59, 41.54, 41.09, 41.16, 41.07, 40.96, 41.03, 40.92, 40.81, 40.89, 15.74, 40.72, 40.61, 40.55, 15.59, 15.71, 18.79, 18.85, 17.47, 17.37, 17.89, 18.68, 18.94, 19.76, 28.68, 29.03],\n",
    "        [3.3, 2.81, 1.85, 1.94, 2.49, 3.73, 0.0, 45.99, 34.83, 43.02, 43.05, 42.94, 42.39, 42.31, 42.21, 41.8, 41.66, 41.59, 41.54, 41.09, 41.16, 41.07, 40.96, 41.03, 40.92, 40.81, 40.89, 15.74, 40.72, 40.61, 40.55, 15.59, 15.71, 18.79, 18.85, 17.47, 17.37, 17.89, 18.68, 18.94, 19.76, 28.68, 29.03],\n",
    "        [3.3, 2.81, 1.85, 1.94, 2.49, 3.73, 45.99, 0.0, 34.83, 43.02, 43.05, 42.94, 42.39, 42.31, 42.21, 41.8, 41.66, 41.59, 41.54, 41.09, 41.16, 41.07, 40.96, 41.03, 40.92, 40.81, 40.89, 15.74, 40.72, 40.61, 40.55, 15.59, 15.71, 18.79, 18.85, 17.47, 17.37, 17.89, 18.68, 18.94, 19.76, 28.68, 29.03],\n",
    "        [3.3, 2.81, 1.85, 1.94, 2.49, 3.73, 45.99, 34.83, 0.0, 43.02, 43.05, 42.94, 42.39, 42.31, 42.21, 41.8, 41.66, 41.59, 41.54, 41.09, 41.16, 41.07, 40.96, 41.03, 40.92, 40.81, 40.89, 15.74, 40.72, 40.61, 40.55, 15.59, 15.71, 18.79, 18.85, 17.47, 17.37, 17.89, 18.68, 18.94, 19.76, 28.68, 29.03],\n",
    "        [3.3, 2.81, 1.85, 1.94, 2.49, 3.73, 45.99, 34.83, 43.02, 0.0, 43.05, 42.94, 42.39, 42.31, 42.21, 41.8, 41.66, 41.59, 41.54, 41.09, 41.16, 41.07, 40.96, 41.03, 40.92, 40.81, 40.89, 15.74, 40.72, 40.61, 40.55, 15.59, 15.71, 18.79, 18.85, 17.47, 17.37, 17.89, 18.68, 18.94, 19.76, 28.68, 29.03],\n",
    "        [3.3, 2.81, 1.85, 1.94, 2.49, 3.73, 45.99, 34.83, 43.02, 43.05, 0.0, 42.94, 42.39, 42.31, 42.21, 41.8, 41.66, 41.59, 41.54, 41.09, 41.16, 41.07, 40.96, 41.03, 40.92, 40.81, 40.89, 15.74, 40.72, 40.61, 40.55, 15.59, 15.71, 18.79, 18.85, 17.47, 17.37, 17.89, 18.68, 18.94, 19.76, 28.68, 29.03],\n",
    "        [3.3, 2.81, 1.85, 1.94, 2.49, 3.73, 45.99, 34.83, 43.02, 43.05, 42.94, 0.0, 42.39, 42.31, 42.21, 41.8, 41.66, 41.59, 41.54, 41.09, 41.16, 41.07, 40.96, 41.03, 40.92, 40.81, 40.89, 15.74, 40.72, 40.61, 40.55, 15.59, 15.71, 18.79, 18.85, 17.47, 17.37, 17.89, 18.68, 18.94, 19.76, 28.68, 29.03],\n",
    "        [3.3, 2.81, 1.85, 1.94, 2.49, 3.73, 45.99, 34.83, 43.02, 43.05, 42.94, 42.39, 0.0, 42.31, 42.21, 41.8, 41.66, 41.59, 41.54, 41.09, 41.16, 41.07, 40.96, 41.03, 40.92, 40.81, 40.89, 15.74, 40.72, 40.61, 40.55, 15.59, 15.71, 18.79, 18.85, 17.47, 17.37, 17.89, 18.68, 18.94, 19.76, 28.68, 29.03],\n",
    "        [3.3, 2.81, 1.85, 1.94, 2.49, 3.73, 45.99, 34.83, 43.02, 43.05, 42.94, 42.39, 42.31, 0.0, 42.21, 41.8, 41.66, 41.59, 41.54, 41.09, 41.16, 41.07, 40.96, 41.03, 40.92, 40.81, 40.89, 15.74, 40.72, 40.61, 40.55, 15.59, 15.71, 18.79, 18.85, 17.47, 17.37, 17.89, 18.68, 18.94, 19.76, 28.68, 29.03],\n",
    "        [3.3, 2.81, 1.85, 1.94, 2.49, 3.73, 45.99, 34.83, 43.02, 43.05, 42.94, 42.39, 42.31, 42.21, 0.0, 41.8, 41.66, 41.59, 41.54, 41.09, 41.16, 41.07, 40.96, 41.03, 40.92, 40.81, 40.89, 15.74, 40.72, 40.61, 40.55, 15.59, 15.71, 18.79, 18.85, 17.47, 17.37, 17.89, 18.68, 18.94, 19.76, 28.68, 29.03],\n",
    "        [3.3, 2.81, 1.85, 1.94, 2.49, 3.73, 45.99, 34.83, 43.02, 43.05, 42.94, 42.39, 42.31, 42.21, 41.8, 0.0, 41.66, 41.59, 41.54, 41.09, 41.16, 41.07, 40.96, 41.03, 40.92, 40.81, 40.89, 15.74, 40.72, 40.61, 40.55, 15.59, 15.71, 18.79, 18.85, 17.47, 17.37, 17.89, 18.68, 18.94, 19.76, 28.68, 29.03],\n",
    "        [3.3, 2.81, 1.85, 1.94, 2.49, 3.73, 45.99, 34.83, 43.02, 43.05, 42.94, 42.39, 42.31, 42.21, 41.8, 41.66, 0.0, 41.59, 41.54, 41.09, 41.16, 41.07, 40.96, 41.03, 40.92, 40.81, 40.89, 15.74, 40.72, 40.61, 40.55, 15.59, 15.71, 18.79, 18.85, 17.47, 17.37, 17.89, 18.68, 18.94, 19.76, 28.68, 29.03],\n",
    "        [3.3, 2.81, 1.85, 1.94, 2.49, 3.73, 45.99, 34.83, 43.02, 43.05, 42.94, 42.39, 42.31, 42.21, 41.8, 41.66, 41.59, 0.0, 41.54, 41.09, 41.16, 41.07, 40.96, 41.03, 40.92, 40.81, 40.89, 15.74, 40.72, 40.61, 40.55, 15.59, 15.71, 18.79, 18.85, 17.47, 17.37, 17.89, 18.68, 18.94, 19.76, 28.68, 29.03],\n",
    "        [3.3, 2.81, 1.85, 1.94, 2.49, 3.73, 45.99, 34.83, 43.02, 43.05, 42.94, 42.39, 42.31, 42.21, 41.8, 41.66, 41.59, 41.54, 0.0, 41.09, 41.16, 41.07, 40.96, 41.03, 40.92, 40.81, 40.89, 15.74, 40.72, 40.61, 40.55, 15.59, 15.71, 18.79, 18.85, 17.47, 17.37, 17.89, 18.68, 18.94, 19.76, 28.68, 29.03],\n",
    "        [3.3, 2.81, 1.85, 1.94, 2.49, 3.73, 45.99, 34.83, 43.02, 43.05, 42.94, 42.39, 42.31, 42.21, 41.8, 41.66, 41.59, 41.54, 41.09, 0.0, 41.16, 41.07, 40.96, 41.03, 40.92, 40.81, 40.89, 15.74, 40.72, 40.61, 40.55, 15.59, 15.71, 18.79, 18.85, 17.47, 17.37, 17.89, 18.68, 18.94, 19.76, 28.68, 29.03],\n",
    "        [3.3, 2.81, 1.85, 1.94, 2.49, 3.73, 45.99, 34.83, 43.02, 43.05, 42.94, 42.39, 42.31, 42.21, 41.8, 41.66, 41.59, 41.54, 41.09, 41.16, 0.0, 41.07, 40.96, 41.03, 40.92, 40.81, 40.89, 15.74, 40.72, 40.61, 40.55, 15.59, 15.71, 18.79, 18.85, 17.47, 17.37, 17.89, 18.68, 18.94, 19.76, 28.68, 29.03],\n",
    "        [3.3, 2.81, 1.85, 1.94, 2.49, 3.73, 45.99, 34.83, 43.02, 43.05, 42.94, 42.39, 42.31, 42.21, 41.8, 41.66, 41.59, 41.54, 41.09, 41.16, 41.07, 0.0, 40.96, 41.03, 40.92, 40.81, 40.89, 15.74, 40.72, 40.61, 40.55, 15.59, 15.71, 18.79, 18.85, 17.47, 17.37, 17.89, 18.68, 18.94, 19.76, 28.68, 29.03],\n",
    "        [3.3, 2.81, 1.85, 1.94, 2.49, 3.73, 45.99, 34.83, 43.02, 43.05, 42.94, 42.39, 42.31, 42.21, 41.8, 41.66, 41.59, 41.54, 41.09, 41.16, 41.07, 40.96, 0.0, 41.03, 40.92, 40.81, 40.89, 15.74, 40.72, 40.61, 40.55, 15.59, 15.71, 18.79, 18.85, 17.47, 17.37, 17.89, 18.68, 18.94, 19.76, 28.68, 29.03],\n",
    "        [3.3, 2.81, 1.85, 1.94, 2.49, 3.73, 45.99, 34.83, 43.02, 43.05, 42.94, 42.39, 42.31, 42.21, 41.8, 41.66, 41.59, 41.54, 41.09, 41.16, 41.07, 40.96, 41.03, 0.0, 40.92, 40.81, 40.89, 15.74, 40.72, 40.61, 40.55, 15.59, 15.71, 18.79, 18.85, 17.47, 17.37, 17.89, 18.68, 18.94, 19.76, 28.68, 29.03],\n",
    "        [3.3, 2.81, 1.85, 1.94, 2.49, 3.73, 45.99, 34.83, 43.02, 43.05, 42.94, 42.39, 42.31, 42.21, 41.8, 41.66, 41.59, 41.54, 41.09, 41.16, 41.07, 40.96, 41.03, 40.92, 0.0, 40.81, 40.89, 15.74, 40.72, 40.61, 40.55, 15.59, 15.71, 18.79, 18.85, 17.47, 17.37, 17.89, 18.68, 18.94, 19.76, 28.68, 29.03],\n",
    "        [3.3, 2.81, 1.85, 1.94, 2.49, 3.73, 45.99, 34.83, 43.02, 43.05, 42.94, 42.39, 42.31, 42.21, 41.8, 41.66, 41.59, 41.54, 41.09, 41.16, 41.07, 40.96, 41.03, 40.92, 40.81, 0.0, 40.89, 15.74, 40.72, 40.61, 40.55, 15.59, 15.71, 18.79, 18.85, 17.47, 17.37, 17.89, 18.68, 18.94, 19.76, 28.68, 29.03],\n",
    "        [3.3, 2.81, 1.85, 1.94, 2.49, 3.73, 45.99, 34.83, 43.02, 43.05, 42.94, 42.39, 42.31, 42.21, 41.8, 41.66, 41.59, 41.54, 41.09, 41.16, 41.07, 40.96, 41.03, 40.92, 40.81, 40.89, 0.0, 15.74, 40.72, 40.61, 40.55, 15.59, 15.71, 18.79, 18.85, 17.47, 17.37, 17.89, 18.68, 18.94, 19.76, 28.68, 29.03],\n",
    "        [3.3, 2.81, 1.85, 1.94, 2.49, 3.73, 45.99, 34.83, 43.02, 43.05, 42.94, 42.39, 42.31, 42.21, 41.8, 41.66, 41.59, 41.54, 41.09, 41.16, 41.07, 40.96, 41.03, 40.92, 40.81, 40.89, 15.74, 0.0, 40.72, 40.61, 40.55, 15.59, 15.71, 18.79, 18.85, 17.47, 17.37, 17.89, 18.68, 18.94, 19.76, 28.68, 29.03],\n",
    "        [3.3, 2.81, 1.85, 1.94, 2.49, 3.73, 45.99, 34.83, 43.02, 43.05, 42.94, 42.39, 42.31, 42.21, 41.8, 41.66, 41.59, 41.54, 41.09, 41.16, 41.07, 40.96, 41.03, 40.92, 40.81, 40.89, 15.74, 40.72, 0.0, 40.61, 40.55, 15.59, 15.71, 18.79, 18.85, 17.47, 17.37, 17.89, 18.68, 18.94, 19.76, 28.68, 29.03],\n",
    "        [3.3, 2.81, 1.85, 1.94, 2.49, 3.73, 45.99, 34.83, 43.02, 43.05, 42.94, 42.39, 42.31, 42.21, 41.8, 41.66, 41.59, 41.54, 41.09, 41.16, 41.07, 40.96, 41.03, 40.92, 40.81, 40.89, 15.74, 40.72, 40.61, 0.0, 40.55, 15.59, 15.71, 18.79, 18.85, 17.47, 17.37, 17.89, 18.68, 18.94, 19.76, 28.68, 29.03],\n",
    "        [3.3, 2.81, 1.85, 1.94, 2.49, 3.73, 45.99, 34.83, 43.02, 43.05, 42.94, 42.39, 42.31, 42.21, 41.8, 41.66, 41.59, 41.54, 41.09, 41.16, 41.07, 40.96, 41.03, 40.92, 40.81, 40.89, 15.74, 40.72, 40.61, 40.55, 0.0, 15.59, 15.71, 18.79, 18.85, 17.47, 17.37, 17.89, 18.68, 18.94, 19.76, 28.68, 29.03],\n",
    "        [3.3, 2.81, 1.85, 1.94, 2.49, 3.73, 45.99, 34.83, 43.02, 43.05, 42.94, 42.39, 42.31, 42.21, 41.8, 41.66, 41.59, 41.54, 41.09, 41.16, 41.07, 40.96, 41.03, 40.92, 40.81, 40.89, 15.74, 40.72, 40.61, 40.55, 15.59, 0.0, 15.71, 18.79, 18.85, 17.47, 17.37, 17.89, 18.68, 18.94, 19.76, 28.68, 29.03],\n",
    "        [3.3, 2.81, 1.85, 1.94, 2.49, 3.73, 45.99, 34.83, 43.02, 43.05, 42.94, 42.39, 42.31, 42.21, 41.8, 41.66, 41.59, 41.54, 41.09, 41.16, 41.07, 40.96, 41.03, 40.92, 40.81, 40.89, 15.74, 40.72, 40.61, 40.55, 15.59, 15.71, 0.0, 18.79, 18.85, 17.47, 17.37, 17.89, 18.68, 18.94, 19.76, 28.68, 29.03],\n",
    "        [3.3, 2.81, 1.85, 1.94, 2.49, 3.73, 45.99, 34.83, 43.02, 43.05, 42.94, 42.39, 42.31, 42.21, 41.8, 41.66, 41.59, 41.54, 41.09, 41.16, 41.07, 40.96, 41.03, 40.92, 40.81, 40.89, 15.74, 40.72, 40.61, 40.55, 15.59, 15.71, 18.79, 0.0, 18.85, 17.47, 17.37, 17.89, 18.68, 18.94, 19.76, 28.68, 29.03],\n",
    "        [3.3, 2.81, 1.85, 1.94, 2.49, 3.73, 45.99, 34.83, 43.02, 43.05, 42.94, 42.39, 42.31, 42.21, 41.8, 41.66, 41.59, 41.54, 41.09, 41.16, 41.07, 40.96, 41.03, 40.92, 40.81, 40.89, 15.74, 40.72, 40.61, 40.55, 15.59, 15.71, 18.79, 18.85, 0.0, 17.47, 17.37, 17.89, 18.68, 18.94, 19.76, 28.68, 29.03],\n",
    "        [3.3, 2.81, 1.85, 1.94, 2.49, 3.73, 45.99, 34.83, 43.02, 43.05, 42.94, 42.39, 42.31, 42.21, 41.8, 41.66, 41.59, 41.54, 41.09, 41.16, 41.07, 40.96, 41.03, 40.92, 40.81, 40.89, 15.74, 40.72, 40.61, 40.55, 15.59, 15.71, 18.79, 18.85, 17.47, 0.0, 17.37, 17.89, 18.68, 18.94, 19.76, 28.68, 29.03],\n",
    "        [3.3, 2.81, 1.85, 1.94, 2.49, 3.73, 45.99, 34.83, 43.02, 43.05, 42.94, 42.39, 42.31, 42.21, 41.8, 41.66, 41.59, 41.54, 41.09, 41.16, 41.07, 40.96, 41.03, 40.92, 40.81, 40.89, 15.74, 40.72, 40.61, 40.55, 15.59, 15.71, 18.79, 18.85, 17.47, 17.37, 0.0, 17.89, 18.68, 18.94, 19.76, 28.68, 29.03],\n",
    "        [3.3, 2.81, 1.85, 1.94, 2.49, 3.73, 45.99, 34.83, 43.02, 43.05, 42.94, 42.39, 42.31, 42.21, 41.8, 41.66, 41.59, 41.54, 41.09, 41.16, 41.07, 40.96, 41.03, 40.92, 40.81, 40.89, 15.74, 40.72, 40.61, 40.55, 15.59, 15.71, 18.79, 18.85, 17.47, 17.37, 17.89, 0.0, 18.68, 18.94, 19.76, 28.68, 29.03],\n",
    "        [3.3, 2.81, 1.85, 1.94, 2.49, 3.73, 45.99, 34.83, 43.02, 43.05, 42.94, 42.39, 42.31, 42.21, 41.8, 41.66, 41.59, 41.54, 41.09, 41.16, 41.07, 40.96, 41.03, 40.92, 40.81, 40.89, 15.74, 40.72, 40.61, 40.55, 15.59, 15.71, 18.79, 18.85, 17.47, 17.37, 17.89, 18.68, 0.0, 18.94, 19.76, 28.68, 29.03],\n",
    "        [3.3, 2.81, 1.85, 1.94, 2.49, 3.73, 45.99, 34.83, 43.02, 43.05, 42.94, 42.39, 42.31, 42.21, 41.8, 41.66, 41.59, 41.54, 41.09, 41.16, 41.07, 40.96, 41.03, 40.92, 40.81, 40.89, 15.74, 40.72, 40.61, 40.55, 15.59, 15.71, 18.79, 18.85, 17.47, 17.37, 17.89, 18.68, 18.94, 0.0, 19.76, 28.68, 29.03],\n",
    "        [3.3, 2.81, 1.85, 1.94, 2.49, 3.73, 45.99, 34.83, 43.02, 43.05, 42.94, 42.39, 42.31, 42.21, 41.8, 41.66, 41.59, 41.54, 41.09, 41.16, 41.07, 40.96, 41.03, 40.92, 40.81, 40.89, 15.74, 40.72, 40.61, 40.55, 15.59, 15.71, 18.79, 18.85, 17.47, 17.37, 17.89, 18.68, 18.94, 19.76, 0.0, 28.68, 29.03],\n",
    "        [3.3, 2.81, 1.85, 1.94, 2.49, 3.73, 45.99, 34.83, 43.02, 43.05, 42.94, 42.39, 42.31, 42.21, 41.8, 41.66, 41.59, 41.54, 41.09, 41.16, 41.07, 40.96, 41.03, 40.92, 40.81, 40.89, 15.74, 40.72, 40.61, 40.55, 15.59, 15.71, 18.79, 18.85, 17.47, 17.37, 17.89, 18.68, 18.94, 19.76, 0.0, 28.68, 29.03],\n",
    "        [3.3, 2.81, 1.85, 1.94, 2.49, 3.73, 45.99, 34.83, 43.02, 43.05, 42.94, 42.39, 42.31, 42.21, 41.8, 41.66, 41.59, 41.54, 41.09, 41.16, 41.07, 40.96, 41.03, 40.92, 40.81, 40.89, 15.74, 40.72, 40.61, 40.55, 15.59, 15.71, 18.79, 18.85, 17.47, 17.37, 17.89, 18.68, 18.94, 19.76, 28.68, 0.0, 29.03]]"
   ]
  },
  {
   "cell_type": "code",
   "execution_count": 44,
   "id": "2835e329",
   "metadata": {},
   "outputs": [],
   "source": [
    "s = 0"
   ]
  },
  {
   "cell_type": "code",
   "execution_count": 45,
   "id": "6a466831",
   "metadata": {},
   "outputs": [
    {
     "data": {
      "text/plain": [
       "5.15"
      ]
     },
     "execution_count": 45,
     "metadata": {},
     "output_type": "execute_result"
    }
   ],
   "source": [
    "travellingSalesmanProblem(graph, s)"
   ]
  },
  {
   "cell_type": "markdown",
   "id": "1d1e2d3a",
   "metadata": {},
   "source": [
    "The shortest distance that one needs to travel to cover all the POCs associated with BDR Dimpho Gosibotsile is 5.15 kms."
   ]
  }
 ],
 "metadata": {
  "kernelspec": {
   "display_name": "Python 3 (ipykernel)",
   "language": "python",
   "name": "python3"
  },
  "language_info": {
   "codemirror_mode": {
    "name": "ipython",
    "version": 3
   },
   "file_extension": ".py",
   "mimetype": "text/x-python",
   "name": "python",
   "nbconvert_exporter": "python",
   "pygments_lexer": "ipython3",
   "version": "3.9.7"
  }
 },
 "nbformat": 4,
 "nbformat_minor": 5
}
