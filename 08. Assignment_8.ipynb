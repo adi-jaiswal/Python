{
 "cells": [
  {
   "cell_type": "markdown",
   "id": "9d8c440e",
   "metadata": {},
   "source": [
    "#### 1. Given a sentence as txt, return True if any two adjacent words have this property: One word ends with a vowel, while the word immediately after begins with a vowel (a e i o u).\n",
    "\n",
    ">Examples\n",
    "\n",
    "vowel_links(\"a very large appliance\") ➞ True\n",
    "\n",
    "vowel_links(\"go to edabit\") ➞ True\n",
    "\n",
    "vowel_links(\"an open fire\") ➞ False\n",
    "\n",
    "vowel_links(\"a sudden applause\") ➞ False\n"
   ]
  },
  {
   "cell_type": "code",
   "execution_count": 1,
   "id": "5fd8b37e",
   "metadata": {},
   "outputs": [],
   "source": [
    "def vowel_links(s):\n",
    "    try:\n",
    "        l = s.split(\" \")\n",
    "        vowels = ['a', 'e', 'i', 'o', 'u']\n",
    "        end, start, output = False, False, False\n",
    "        for i in range(len(l)):\n",
    "            x = True if l[i][-1] in vowels else False\n",
    "            start = True if l[i][0] in vowels else False\n",
    "            if start == end == True:\n",
    "                output = True\n",
    "                break\n",
    "            end = x\n",
    "        print(output)\n",
    "    except Exception as e:\n",
    "        print(e)"
   ]
  },
  {
   "cell_type": "code",
   "execution_count": 2,
   "id": "9b1e68a7",
   "metadata": {},
   "outputs": [
    {
     "name": "stdout",
     "output_type": "stream",
     "text": [
      "True\n"
     ]
    }
   ],
   "source": [
    "vowel_links(\"a very large appliance\")"
   ]
  },
  {
   "cell_type": "markdown",
   "id": "59e4ae77",
   "metadata": {},
   "source": [
    "#### 2. You are given three inputs: a string, one letter, and a second letter. Write a function that returns True if every instance of the first letter occurs before every instance of the second letter.\n",
    "\n",
    ">Examples\n",
    "\n",
    "first_before_second(\"a rabbit jumps joyfully\", \"a\", \"j\") ➞ True  \n",
    "Every instance of \"a\" occurs before every instance of \"j\".\n",
    "\n",
    "first_before_second(\"knaves knew about waterfalls\", \"k\", \"w\") ➞  True\n",
    "\n",
    "first_before_second(\"happy birthday\", \"a\", \"y\") ➞ False  \n",
    "The \"a\" in \"birthday\" occurs after the \"y\" in \"happy\".\n",
    "\n",
    "first_before_second(\"precarious kangaroos\", \"k\", \"a\") ➞ False\n"
   ]
  },
  {
   "cell_type": "code",
   "execution_count": 3,
   "id": "9b19e62a",
   "metadata": {},
   "outputs": [],
   "source": [
    "def first_before_second(s, a, b):\n",
    "    try:\n",
    "        last_occurence = s.rfind(a)\n",
    "        first_occurence = s.find(b)\n",
    "        if last_occurence < first_occurence:\n",
    "            return True\n",
    "        return False\n",
    "    except Exception as e:\n",
    "        print(e)"
   ]
  },
  {
   "cell_type": "code",
   "execution_count": 4,
   "id": "5bd75abc",
   "metadata": {},
   "outputs": [
    {
     "data": {
      "text/plain": [
       "True"
      ]
     },
     "execution_count": 4,
     "metadata": {},
     "output_type": "execute_result"
    }
   ],
   "source": [
    "first_before_second(\"knaves knew about waterfalls\", \"k\", \"w\")"
   ]
  },
  {
   "cell_type": "markdown",
   "id": "2e3ed851",
   "metadata": {},
   "source": [
    "#### 3. Create a function that returns the characters from a list or string r on odd or even positions, depending on the specifier s. The specifier will be \"odd\" for items on odd positions (1, 3, 5, ...) and \"even\" for items on even positions (2, 4, 6, ...).\n",
    "\n",
    ">Examples\n",
    "\n",
    "char_at_pos([2, 4, 6, 8, 10], \"even\") ➞ [4, 8]  \n",
    "4 & 8 occupy the 2nd & 4th positions\n",
    "\n",
    "char_at_pos(\"EDABIT\", \"odd\") ➞ \"EAI\"  \n",
    "\"E\", \"A\" and \"I\" occupy the 1st, 3rd and 5th positions\n",
    "\n",
    "char_at_pos([\"A\", \"R\", \"B\", \"I\", \"T\", \"R\", \"A\", \"R\", \"I\", \"L\", \"Y\"], \"odd\") ➞ [\"A\", \"B\", \"T\", \"A\", \"I\", \"Y\"]\n"
   ]
  },
  {
   "cell_type": "code",
   "execution_count": 5,
   "id": "509b920c",
   "metadata": {},
   "outputs": [],
   "source": [
    "def char_at_pos(l, s):\n",
    "    try:\n",
    "        l1 = []\n",
    "        for i in range(len(l)):\n",
    "            if s == 'even' and (i+1)%2 == 0:\n",
    "                l1.append(l[i])\n",
    "            elif s == 'odd' and (i+1)%2 != 0:\n",
    "                l1.append(l[i])\n",
    "        return l1\n",
    "    except Exception as e:\n",
    "        print(e)"
   ]
  },
  {
   "cell_type": "code",
   "execution_count": 6,
   "id": "b0e1b47c",
   "metadata": {},
   "outputs": [
    {
     "data": {
      "text/plain": [
       "['A', 'B', 'T', 'A', 'I', 'Y']"
      ]
     },
     "execution_count": 6,
     "metadata": {},
     "output_type": "execute_result"
    }
   ],
   "source": [
    "char_at_pos([\"A\", \"R\", \"B\", \"I\", \"T\", \"R\", \"A\", \"R\", \"I\", \"L\", \"Y\"], \"odd\")"
   ]
  },
  {
   "cell_type": "markdown",
   "id": "d7fe6d18",
   "metadata": {},
   "source": [
    "#### 4. Write a function that returns the greatest common divisor of all list elements. If the greatest common divisor is 1, return 1.\n",
    "\n",
    ">Examples\n",
    "\n",
    "GCD([10, 20, 40]) ➞ 10\n",
    "\n",
    "GCD([1, 2, 3, 100]) ➞ 1\n",
    "\n",
    "GCD([1024, 192, 2048, 512]) ➞ 64"
   ]
  },
  {
   "cell_type": "code",
   "execution_count": 7,
   "id": "e40c3e9f",
   "metadata": {},
   "outputs": [],
   "source": [
    "def GCD():\n",
    "    try:\n",
    "        l = eval(input(\"Enter a list: \"))\n",
    "        m = min(l)\n",
    "        gcd = -1\n",
    "        for i in range(1, m+1):\n",
    "            l1 = []\n",
    "            for j in l:\n",
    "                l1.append(j%i)\n",
    "            if len(set(l1)) == 1 and list(set(l1))[0] == 0:\n",
    "                gcd = i\n",
    "        return gcd\n",
    "    except Exception as e:\n",
    "        print(e)"
   ]
  },
  {
   "cell_type": "code",
   "execution_count": 8,
   "id": "7669715e",
   "metadata": {},
   "outputs": [
    {
     "name": "stdout",
     "output_type": "stream",
     "text": [
      "Enter a list: [1024, 192, 2048, 512]\n"
     ]
    },
    {
     "data": {
      "text/plain": [
       "64"
      ]
     },
     "execution_count": 8,
     "metadata": {},
     "output_type": "execute_result"
    }
   ],
   "source": [
    "GCD()"
   ]
  },
  {
   "cell_type": "markdown",
   "id": "66ea7dc5",
   "metadata": {},
   "source": [
    "#### 5. A number/string is a palindrome if the digits/characters are the same when read both forward and backward. Examples include \"racecar\" and 12321. Given a positive number n, check if n or the binary representation of n is palindromic. Return the following:\n",
    "\n",
    "- \"Decimal only.\" if only n is a palindrome.\n",
    "- \"Binary only.\" if only the binary representation of n is a palindrome.\n",
    "- \"Decimal and binary.\" if both are palindromes.\n",
    "- \"Neither!\" if neither are palindromes.\n",
    "\n",
    ">Examples\n",
    "\n",
    "palindrome_type(1306031) ➞ \"Decimal only.\"  \n",
    "decimal = 1306031  \n",
    "binary  = \"100111110110110101111\"\n",
    "\n",
    "palindrome_type(427787) ➞ \"Binary only.\"  \n",
    "decimal = 427787  \n",
    "binary  = \"1101000011100001011\"\n",
    "\n",
    "palindrome_type(313) ➞ \"Decimal and binary.\"  \n",
    "decimal = 313  \n",
    "binary  = 100111001\n",
    "\n",
    "palindrome_type(934) ➞ \"Neither!\"  \n",
    "decimal = 934  \n",
    "binary  = \"1110100110\"\n"
   ]
  },
  {
   "cell_type": "code",
   "execution_count": 9,
   "id": "38440051",
   "metadata": {},
   "outputs": [],
   "source": [
    "def palindrome_type():\n",
    "    try:\n",
    "        n = int(input(\"Enter a number: \"))\n",
    "        if str(n) == str(n)[::-1] and str(bin(n)[2:]) == str(bin(n)[2:])[::-1]:\n",
    "            return 'Decimal and binary'\n",
    "        elif str(n) == str(n)[::-1] and str(bin(n)[2:]) != str(bin(n)[2:])[::-1]:\n",
    "            return 'Decimal only'\n",
    "        elif str(n) != str(n)[::-1] and str(bin(n)[2:]) == str(bin(n)[2:])[::-1]:\n",
    "            return 'Binary only'\n",
    "        else:\n",
    "            return 'Neither!'\n",
    "    except Exception as e:\n",
    "        print(e)"
   ]
  },
  {
   "cell_type": "code",
   "execution_count": 10,
   "id": "ba5f96d3",
   "metadata": {},
   "outputs": [
    {
     "name": "stdout",
     "output_type": "stream",
     "text": [
      "Enter a number: 1306031\n"
     ]
    },
    {
     "data": {
      "text/plain": [
       "'Decimal only'"
      ]
     },
     "execution_count": 10,
     "metadata": {},
     "output_type": "execute_result"
    }
   ],
   "source": [
    "palindrome_type()"
   ]
  }
 ],
 "metadata": {
  "kernelspec": {
   "display_name": "Python 3 (ipykernel)",
   "language": "python",
   "name": "python3"
  },
  "language_info": {
   "codemirror_mode": {
    "name": "ipython",
    "version": 3
   },
   "file_extension": ".py",
   "mimetype": "text/x-python",
   "name": "python",
   "nbconvert_exporter": "python",
   "pygments_lexer": "ipython3",
   "version": "3.9.7"
  }
 },
 "nbformat": 4,
 "nbformat_minor": 5
}
