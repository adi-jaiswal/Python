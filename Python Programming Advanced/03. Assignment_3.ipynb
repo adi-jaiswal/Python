{
 "cells": [
  {
   "cell_type": "markdown",
   "id": "07a6ec92",
   "metadata": {},
   "source": [
    "#### 1. Create a function to perform basic arithmetic operations that includes addition, subtraction, multiplication and division on a string number (e.g. \"12 + 24\" or \"23 - 21\" or \"12 // 12\" or \"12 * 21\").\n",
    "\n",
    "Here, we have 1 followed by a space, operator followed by another space and 2. For the challenge, we are going to have only two numbers between 1 valid operator. The return value should be a number.\n",
    "\n",
    "eval() is not allowed. In case of division, whenever the second number equals \"0\" return -1.\n",
    "\n",
    "For example:\n",
    "\n",
    "\"15 // 0\"  ➞ -1\n",
    "\n",
    ">Examples\n",
    "\n",
    "arithmetic_operation(\"12 + 12\") ➞ 24 // 12 + 12 = 24  \n",
    "arithmetic_operation(\"12 - 12\") ➞ 24 // 12 - 12 = 0  \n",
    "arithmetic_operation(\"12 * 12\") ➞ 144 // 12 * 12 = 144  \n",
    "arithmetic_operation(\"12 // 0\") ➞ -1 // 12 / 0 = -1"
   ]
  },
  {
   "cell_type": "code",
   "execution_count": 1,
   "id": "5f5036e6",
   "metadata": {},
   "outputs": [],
   "source": [
    "def arithmetic_operation(s):\n",
    "    try:\n",
    "        l = s.split(\" \")\n",
    "        if l[1] == \"+\":\n",
    "            o = int(l[0]) + int(l[2])\n",
    "        elif l[1] == \"-\":\n",
    "            o = int(l[0]) - int(l[2])\n",
    "        elif l[1] == \"*\":\n",
    "            o = int(l[0]) * int(l[2])\n",
    "        elif l[1] == \"//\":\n",
    "            if int(l[2]) > 0:\n",
    "                o = int(l[0]) // int(l[2])\n",
    "            else:\n",
    "                o = -1\n",
    "        else:\n",
    "            print(\"The operator is not valid!\")\n",
    "        return o\n",
    "    except Exception as e:\n",
    "        print(e)"
   ]
  },
  {
   "cell_type": "code",
   "execution_count": 2,
   "id": "6042fc9d",
   "metadata": {},
   "outputs": [
    {
     "data": {
      "text/plain": [
       "24"
      ]
     },
     "execution_count": 2,
     "metadata": {},
     "output_type": "execute_result"
    }
   ],
   "source": [
    "arithmetic_operation(\"12 + 12\")"
   ]
  },
  {
   "cell_type": "code",
   "execution_count": 3,
   "id": "c87e4e0f",
   "metadata": {},
   "outputs": [
    {
     "data": {
      "text/plain": [
       "0"
      ]
     },
     "execution_count": 3,
     "metadata": {},
     "output_type": "execute_result"
    }
   ],
   "source": [
    "arithmetic_operation(\"12 - 12\")"
   ]
  },
  {
   "cell_type": "code",
   "execution_count": 4,
   "id": "f0e2aae7",
   "metadata": {},
   "outputs": [
    {
     "data": {
      "text/plain": [
       "144"
      ]
     },
     "execution_count": 4,
     "metadata": {},
     "output_type": "execute_result"
    }
   ],
   "source": [
    "arithmetic_operation(\"12 * 12\")"
   ]
  },
  {
   "cell_type": "code",
   "execution_count": 5,
   "id": "c019cc67",
   "metadata": {},
   "outputs": [
    {
     "data": {
      "text/plain": [
       "-1"
      ]
     },
     "execution_count": 5,
     "metadata": {},
     "output_type": "execute_result"
    }
   ],
   "source": [
    "arithmetic_operation(\"12 // 0\")"
   ]
  },
  {
   "cell_type": "markdown",
   "id": "628f31de",
   "metadata": {},
   "source": [
    "#### 2. Write a function that takes the coordinates of three points in the form of a 2d array and returns the perimeter of the triangle. The given points are the vertices of a triangle on a two-dimensional plane.\n",
    "\n",
    ">Examples\n",
    "\n",
    "perimeter( [ [15, 7], [5, 22], [11, 1] ] ) ➞ 47.08  \n",
    "perimeter( [ [0, 0], [0, 1], [1, 0] ] ) ➞ 3.42  \n",
    "perimeter( [ [-10, -10], [10, 10 ], [-10, 10] ] ) ➞ 68.28"
   ]
  },
  {
   "cell_type": "code",
   "execution_count": 6,
   "id": "cfc8fc51",
   "metadata": {},
   "outputs": [],
   "source": [
    "import math\n",
    "\n",
    "def perimeter():\n",
    "    try:\n",
    "        a = eval(input(\"Enter coordinates of three points in the form of a 2d array: \")) \n",
    "        d1 = math.sqrt((a[0][0]-a[1][0])**2 + (a[0][1]-a[1][1])**2)\n",
    "        d2 = math.sqrt((a[1][0]-a[2][0])**2 + (a[1][1]-a[2][1])**2)\n",
    "        d3 = math.sqrt((a[2][0]-a[0][0])**2 + (a[2][1]-a[0][1])**2)\n",
    "        s = d1 + d2 + d3\n",
    "        print(round(s,2))\n",
    "    except Exception as e:\n",
    "        print(e)"
   ]
  },
  {
   "cell_type": "code",
   "execution_count": 7,
   "id": "fc576867",
   "metadata": {},
   "outputs": [
    {
     "name": "stdout",
     "output_type": "stream",
     "text": [
      "Enter coordinates of three points in the form of a 2d array: [[-10,-10],[10,10],[-10,10]]\n",
      "68.28\n"
     ]
    }
   ],
   "source": [
    "perimeter()"
   ]
  },
  {
   "cell_type": "markdown",
   "id": "51510138",
   "metadata": {},
   "source": [
    "#### 3. A city skyline can be represented as a 2-D list with 1s representing buildings. In the example below, the height of the tallest building is 4 (second-most right column).\n",
    "\n",
    " [[0, 0, 0, 0, 0, 0],  \n",
    " [0, 0, 0, 0, 1, 0],  \n",
    " [0, 0, 1, 0, 1, 0],  \n",
    " [0, 1, 1, 1, 1, 0],  \n",
    " [1, 1, 1, 1, 1, 1]]\n",
    "\n",
    "Create a function that takes a skyline (2-D list of 0's and 1's) and returns the height of the tallest skyscraper.\n",
    "\n",
    ">Examples\n",
    "\n",
    "tallest_skyscraper([  \n",
    "  [0, 0, 0, 0],  \n",
    "  [0, 1, 0, 0],  \n",
    "  [0, 1, 1, 0],  \n",
    "  [1, 1, 1, 1]  \n",
    "]) ➞ 3\n",
    "\n",
    "tallest_skyscraper([  \n",
    "  [0, 1, 0, 0],  \n",
    "  [0, 1, 0, 0],  \n",
    "  [0, 1, 1, 0],  \n",
    "  [1, 1, 1, 1]  \n",
    "]) ➞ 4\n",
    "\n",
    "tallest_skyscraper([  \n",
    "  [0, 0, 0, 0],  \n",
    "  [0, 0, 0, 0],  \n",
    "  [1, 1, 1, 0],  \n",
    "  [1, 1, 1, 1]  \n",
    "]) ➞ 2"
   ]
  },
  {
   "cell_type": "code",
   "execution_count": 8,
   "id": "f56ea533",
   "metadata": {},
   "outputs": [],
   "source": [
    "def tallest_skyscraper(l):\n",
    "    try:\n",
    "        l1 = []\n",
    "        for i in range(len(l)):\n",
    "            c = 0\n",
    "            for j in range(len(l[i])):\n",
    "                c = c + l[j][i]\n",
    "            l1.append(c)\n",
    "        return max(l1)\n",
    "    except Exception as e:\n",
    "        print(e)"
   ]
  },
  {
   "cell_type": "code",
   "execution_count": 9,
   "id": "b866e04b",
   "metadata": {},
   "outputs": [
    {
     "data": {
      "text/plain": [
       "4"
      ]
     },
     "execution_count": 9,
     "metadata": {},
     "output_type": "execute_result"
    }
   ],
   "source": [
    "tallest_skyscraper([\n",
    "[0, 1, 0, 0],\n",
    "[0, 1, 0, 0],\n",
    "[0, 1, 1, 0],\n",
    "[1, 1, 1, 1]\n",
    "])"
   ]
  },
  {
   "cell_type": "markdown",
   "id": "b659deaa",
   "metadata": {},
   "source": [
    "#### 4. A financial institution provides professional services to banks and claims charges from the customers based on the number of man-days provided. Internally, it has set a scheme to motivate and reward staff to meet and exceed targeted billable utilization and revenues by paying a bonus for each day claimed from customers in excess of a threshold target.\n",
    "\n",
    "This quarterly scheme is calculated with a threshold target of 32 days per quarter, and the incentive payment for each billable day in excess of such threshold target is shown as follows:\n",
    "\n",
    "| Days\t                 |          Bonus |\n",
    "| --- | --- |\n",
    "| 0 to 32 days\t         |          Zero |\n",
    "| 33 to 40 days\t         |    SGD dollar 325 per billable day |\n",
    "| 41 to 48 days\t         |    SGD dollar 550 per billable day |\n",
    "| Greater than 48 days     |    SGD dollar 600 per billable day |\n",
    "\n",
    "Please note that incentive payment is calculated progressively. As an example, if an employee reached total billable days of 45 in a quarter, his/her incentive payment is computed as follows:\n",
    "\n",
    "32 * 0 + 8 * 325 + 5 * 550 = 5350\n",
    "\n",
    "Write a function to read the billable days of an employee and return the bonus he/she has obtained in that quarter.\n",
    "\n",
    ">Examples\n",
    "\n",
    "bonus(15) ➞ 0  \n",
    "bonus(37) ➞ 1625  \n",
    "bonus(50) ➞ 8200"
   ]
  },
  {
   "cell_type": "code",
   "execution_count": 10,
   "id": "606d3906",
   "metadata": {},
   "outputs": [],
   "source": [
    "def bonus():\n",
    "    try:\n",
    "        n = int(input(\"Enter total billable days: \"))\n",
    "        if n>0 and n<=32:\n",
    "            p = 0\n",
    "        elif n>32 and n<=40:\n",
    "            p = 0 + (n-32)*325\n",
    "        elif n>40 and n<=48:\n",
    "            p = 0 + (8*325) + (n-40)*550\n",
    "        else:\n",
    "            p = 0 + (8*325) + (8*550) + (n-48)*600\n",
    "        return p\n",
    "    except Exception as e:\n",
    "        print(e)"
   ]
  },
  {
   "cell_type": "code",
   "execution_count": 11,
   "id": "2a111c0e",
   "metadata": {},
   "outputs": [
    {
     "name": "stdout",
     "output_type": "stream",
     "text": [
      "Enter total billable days: 50\n"
     ]
    },
    {
     "data": {
      "text/plain": [
       "8200"
      ]
     },
     "execution_count": 11,
     "metadata": {},
     "output_type": "execute_result"
    }
   ],
   "source": [
    "bonus()"
   ]
  },
  {
   "cell_type": "markdown",
   "id": "832de27a",
   "metadata": {},
   "source": [
    "#### 5. A number is said to be Disarium if the sum of its digits raised to their respective positions is the number itself.\n",
    "\n",
    "Create a function that determines whether a number is a Disarium or not.\n",
    "\n",
    ">Examples\n",
    "\n",
    "is_disarium(75) ➞ False  \n",
    "7^1 + 5^2 = 7 + 25 = 32  \n",
    "\n",
    "is_disarium(135) ➞ True  \n",
    "1^1 + 3^2 + 5^3 = 1 + 9 + 125 = 135\n",
    "\n",
    "is_disarium(544) ➞ False  \n",
    "is_disarium(518) ➞ True  \n",
    "is_disarium(466) ➞ False  \n",
    "is_disarium(8) ➞ True"
   ]
  },
  {
   "cell_type": "code",
   "execution_count": 12,
   "id": "60dbe4ee",
   "metadata": {},
   "outputs": [],
   "source": [
    "def is_disarium():\n",
    "    try:\n",
    "        n = int(input(\"Enter a number: \"))\n",
    "        temp = n\n",
    "        r = 0\n",
    "        s = 0\n",
    "        l = len(str(n))\n",
    "        while temp>0:\n",
    "            r = temp % 10\n",
    "            s = s + (r**l)\n",
    "            temp = temp // 10\n",
    "            l = l - 1\n",
    "        if s == n:\n",
    "            return True\n",
    "        return False\n",
    "    except Exception as e:\n",
    "        print(e)"
   ]
  },
  {
   "cell_type": "code",
   "execution_count": 13,
   "id": "c2e66073",
   "metadata": {},
   "outputs": [
    {
     "name": "stdout",
     "output_type": "stream",
     "text": [
      "Enter a number: 135\n"
     ]
    },
    {
     "data": {
      "text/plain": [
       "True"
      ]
     },
     "execution_count": 13,
     "metadata": {},
     "output_type": "execute_result"
    }
   ],
   "source": [
    "is_disarium()"
   ]
  }
 ],
 "metadata": {
  "kernelspec": {
   "display_name": "Python 3 (ipykernel)",
   "language": "python",
   "name": "python3"
  },
  "language_info": {
   "codemirror_mode": {
    "name": "ipython",
    "version": 3
   },
   "file_extension": ".py",
   "mimetype": "text/x-python",
   "name": "python",
   "nbconvert_exporter": "python",
   "pygments_lexer": "ipython3",
   "version": "3.9.7"
  }
 },
 "nbformat": 4,
 "nbformat_minor": 5
}
