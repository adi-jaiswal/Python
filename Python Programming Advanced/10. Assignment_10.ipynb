{
 "cells": [
  {
   "cell_type": "markdown",
   "id": "cec13cd7",
   "metadata": {},
   "source": [
    "#### 1. Create a function that takes the width, height and character and returns a picture frame as a 2D list.\n",
    "\n",
    ">Examples\n",
    "\n",
    "get_frame(4, 5, \"#\") ➞ [  \n",
    "  [\"# # # #\"],  \n",
    "  [\"#     #\"],  \n",
    "  [\"#     #\"],  \n",
    "  [\"#     #\"],  \n",
    "  [\"# # # #\"]   \n",
    "]   \n",
    "\n",
    "Frame is 4 characters wide and 5 characters tall.\n",
    "\n",
    "get_frame(10, 3, \"*\") ➞ [  \n",
    "  [\"* * * * * * * * * *\"],  \n",
    "  [\"*                 *\"],  \n",
    "  [\"* * * * * * * * * *\"]  \n",
    "]  \n",
    "\n",
    "Frame is 10 characters and wide and 3 characters tall.  \n",
    "\n",
    "get_frame(2, 5, \"0\") ➞ \"invalid\"  \n",
    "Frame's width is not more than 2."
   ]
  },
  {
   "cell_type": "code",
   "execution_count": 1,
   "id": "ddad5f4b",
   "metadata": {},
   "outputs": [],
   "source": [
    "def get_frame(w, h, c):\n",
    "    try:\n",
    "        l = []\n",
    "        if w <= 2:\n",
    "            return 'invalid'\n",
    "        else:\n",
    "            for i in range(h):\n",
    "                if i == 0 or i == h-1:\n",
    "                    l.append([w * c])\n",
    "                else:\n",
    "                    l.append([c + ' '* (w-2) + c])\n",
    "            for j in l:\n",
    "                print(j)\n",
    "    except Exception as e:\n",
    "        print(e)"
   ]
  },
  {
   "cell_type": "code",
   "execution_count": 2,
   "id": "325b7e8b",
   "metadata": {},
   "outputs": [
    {
     "name": "stdout",
     "output_type": "stream",
     "text": [
      "['####']\n",
      "['#  #']\n",
      "['#  #']\n",
      "['#  #']\n",
      "['####']\n"
     ]
    }
   ],
   "source": [
    "get_frame(4, 5, \"#\")"
   ]
  },
  {
   "cell_type": "markdown",
   "id": "41350fdb",
   "metadata": {},
   "source": [
    "#### 2. Write three functions:\n",
    "\n",
    "  1. boolean_and\n",
    "  2. boolean_or\n",
    "  3. boolean_xor\n",
    "\n",
    "These functions should evaluate a list of True and False values, starting from the leftmost element and evaluating pairwise.\n",
    "\n",
    ">Examples\n",
    "\n",
    "boolean_and([True, True, False, True]) ➞ False  \n",
    "[True, True, False, True] => [True, False, True] => [False, True] => False\n",
    "\n",
    "boolean_or([True, True, False, False]) ➞ True  \n",
    "[True, True, False, True] => [True, False, False] => [True, False] => True\n",
    "\n",
    "boolean_xor([True, True, False, False]) ➞ False  \n",
    "[True, True, False, False] => [False, False, False] => [False, False] => False\n"
   ]
  },
  {
   "cell_type": "code",
   "execution_count": 3,
   "id": "8e58808c",
   "metadata": {},
   "outputs": [],
   "source": [
    "def boolean_and(l):\n",
    "    try:\n",
    "        while len(l) != 1:\n",
    "            x = l.pop(0)\n",
    "            y = l.pop(0)\n",
    "            l.insert(0, (x and y))\n",
    "        return l[0]\n",
    "    except Exception as e:\n",
    "        print(e)"
   ]
  },
  {
   "cell_type": "code",
   "execution_count": 4,
   "id": "82803d70",
   "metadata": {},
   "outputs": [
    {
     "data": {
      "text/plain": [
       "False"
      ]
     },
     "execution_count": 4,
     "metadata": {},
     "output_type": "execute_result"
    }
   ],
   "source": [
    "boolean_and([True, True, False, True])"
   ]
  },
  {
   "cell_type": "code",
   "execution_count": 5,
   "id": "fc6e46d0",
   "metadata": {},
   "outputs": [],
   "source": [
    "def boolean_or(l):\n",
    "    try:\n",
    "        while len(l) != 1:\n",
    "            x = l.pop(0)\n",
    "            y = l.pop(0)\n",
    "            l.insert(0, (x or y))\n",
    "        return l[0]\n",
    "    except Exception as e:\n",
    "        print(e)"
   ]
  },
  {
   "cell_type": "code",
   "execution_count": 6,
   "id": "30f9bf8a",
   "metadata": {},
   "outputs": [
    {
     "data": {
      "text/plain": [
       "True"
      ]
     },
     "execution_count": 6,
     "metadata": {},
     "output_type": "execute_result"
    }
   ],
   "source": [
    "boolean_or([True, True, False, False])"
   ]
  },
  {
   "cell_type": "code",
   "execution_count": 7,
   "id": "2925ef89",
   "metadata": {},
   "outputs": [],
   "source": [
    "def boolean_xor(l):\n",
    "    try:\n",
    "        while len(l) != 1:\n",
    "            x = l.pop(0)\n",
    "            y = l.pop(0)\n",
    "            l.insert(0, (x ^ y))\n",
    "        return l[0]\n",
    "    except Exception as e:\n",
    "        print(e)"
   ]
  },
  {
   "cell_type": "code",
   "execution_count": 8,
   "id": "b1a862c4",
   "metadata": {},
   "outputs": [
    {
     "data": {
      "text/plain": [
       "False"
      ]
     },
     "execution_count": 8,
     "metadata": {},
     "output_type": "execute_result"
    }
   ],
   "source": [
    "boolean_xor([True, True, False, False])"
   ]
  },
  {
   "cell_type": "markdown",
   "id": "70bdaa01",
   "metadata": {},
   "source": [
    "#### 3. Create a function that creates a box based on dimension n.\n",
    "\n",
    ">Examples\n",
    "\n",
    "make_box(5) ➞ [  \n",
    "  \"#####\",  \n",
    "  \"#   #\",  \n",
    "  \"#   #\",  \n",
    "  \"#   #\",  \n",
    "  \"#####\"  \n",
    "]  \n",
    "\n",
    "make_box(3) ➞ [  \n",
    "  \"###\",  \n",
    "  \"# #\",  \n",
    "  \"###\"  \n",
    "]  \n",
    "\n",
    "make_box(2) ➞ [  \n",
    "  \"##\",  \n",
    "  \"##\"  \n",
    "]  \n",
    "\n",
    "make_box(1) ➞ [  \n",
    "  \"#\"  \n",
    "]  "
   ]
  },
  {
   "cell_type": "code",
   "execution_count": 9,
   "id": "987fe550",
   "metadata": {},
   "outputs": [],
   "source": [
    "def make_box(n):\n",
    "    try:\n",
    "        l = []\n",
    "        for i in range(n):\n",
    "            if i == 0 or i == n-1:\n",
    "                l.append('#' * n)\n",
    "            else:\n",
    "                l.append('#' + ' '*(n-2) + '#')\n",
    "        for j in l:\n",
    "            print(j)\n",
    "    except Exception as e:\n",
    "        print(e)"
   ]
  },
  {
   "cell_type": "code",
   "execution_count": 10,
   "id": "cc5a4a62",
   "metadata": {},
   "outputs": [
    {
     "name": "stdout",
     "output_type": "stream",
     "text": [
      "#####\n",
      "#   #\n",
      "#   #\n",
      "#   #\n",
      "#####\n"
     ]
    }
   ],
   "source": [
    "make_box(5)"
   ]
  },
  {
   "cell_type": "markdown",
   "id": "2bba831f",
   "metadata": {},
   "source": [
    "#### 4. Given a common phrase, return False if any individual word in the phrase contains duplicate letters. Return True otherwise.\n",
    "\n",
    ">Examples\n",
    "\n",
    "no_duplicate_letters(\"Fortune favours the bold.\") ➞ True\n",
    "\n",
    "no_duplicate_letters(\"You can lead a horse to water, but you can't make him drink.\") ➞ True\n",
    "\n",
    "no_duplicate_letters(\"Look before you leap.\") ➞ False  \n",
    "Duplicate letters in \"Look\" and \"before\".\n",
    "\n",
    "no_duplicate_letters(\"An apple a day keeps the doctor away.\") ➞ False  \n",
    "Duplicate letters in \"apple\", \"keeps\", \"doctor\", and \"away\".\n"
   ]
  },
  {
   "cell_type": "code",
   "execution_count": 11,
   "id": "9fd00172",
   "metadata": {},
   "outputs": [],
   "source": [
    "def no_duplicate_letters(s):\n",
    "    try:\n",
    "        for i in s.split(' '):\n",
    "            if len(i) == len(set(i)):\n",
    "                x = True\n",
    "            else:\n",
    "                x = False\n",
    "                break\n",
    "        return x\n",
    "    except Exception as e:\n",
    "        print(e)"
   ]
  },
  {
   "cell_type": "code",
   "execution_count": 12,
   "id": "9f9af884",
   "metadata": {},
   "outputs": [
    {
     "data": {
      "text/plain": [
       "False"
      ]
     },
     "execution_count": 12,
     "metadata": {},
     "output_type": "execute_result"
    }
   ],
   "source": [
    "no_duplicate_letters(\"An apple a day keeps the doctor away.\") "
   ]
  },
  {
   "cell_type": "markdown",
   "id": "80c6623f",
   "metadata": {},
   "source": [
    "#### 5. Write a regular expression that will match the states that voted yes to President Trump's impeachment. You must use RegEx positive lookahead.\n",
    "\n",
    ">Example\n",
    "\n",
    "txt = \"Texas = no, California = yes, Florida = yes, Michigan = no\"  \n",
    "pattern = \"yourregularexpressionhere\"  \n",
    "\n",
    "re.findall(pattern, txt) ➞ [\"California\", \"Florida\"]"
   ]
  },
  {
   "cell_type": "code",
   "execution_count": 13,
   "id": "329bb671",
   "metadata": {},
   "outputs": [
    {
     "name": "stdout",
     "output_type": "stream",
     "text": [
      "['California', 'Florida']\n"
     ]
    }
   ],
   "source": [
    "import re\n",
    "txt = \"Texas = no, California = yes, Florida = yes, Michigan = no\"\n",
    "pattern = r'\\w+(?=\\s=\\syes*)'\n",
    "match = re.findall(pattern, txt)\n",
    "print(match)"
   ]
  }
 ],
 "metadata": {
  "kernelspec": {
   "display_name": "Python 3 (ipykernel)",
   "language": "python",
   "name": "python3"
  },
  "language_info": {
   "codemirror_mode": {
    "name": "ipython",
    "version": 3
   },
   "file_extension": ".py",
   "mimetype": "text/x-python",
   "name": "python",
   "nbconvert_exporter": "python",
   "pygments_lexer": "ipython3",
   "version": "3.9.7"
  }
 },
 "nbformat": 4,
 "nbformat_minor": 5
}
