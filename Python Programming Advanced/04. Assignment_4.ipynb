{
 "cells": [
  {
   "attachments": {
    "image.png": {
     "image/png": "[encoded data removed]"
    }
   },
   "cell_type": "markdown",
   "id": "bffdbc09",
   "metadata": {},
   "source": [
    "#### 1. In mathematics, the Fibonacci numbers, commonly denoted Fn, form a sequence, called the Fibonacci sequence, such that each number is the sum of the two preceding ones, starting from 0 and 1:  \n",
    "![image.png](attachment:image.png)  \n",
    "The beginning of the sequence is this:\n",
    "\n",
    "0, 1, 1, 2, 3, 5, 8, 13, 21, 34, 55, 89, 144, ...\n",
    "\n",
    "The function fastFib(num) returns the fibonacci number Fn, of the given num as an argument.\n",
    "\n",
    ">Examples\n",
    "\n",
    "fib_fast(5) ➞ 5\n",
    "\n",
    "fib_fast(10) ➞ 55\n",
    "\n",
    "fib_fast(20) ➞ 6765\n",
    "\n",
    "fib_fast(50) ➞ 12586269025"
   ]
  },
  {
   "cell_type": "code",
   "execution_count": 1,
   "id": "c5e8b26f",
   "metadata": {},
   "outputs": [],
   "source": [
    "#Approach 1\n",
    "\n",
    "def fib_fast():\n",
    "    try:\n",
    "        n = int(input(\"Enter a number: \"))\n",
    "        a = 0\n",
    "        b = 1\n",
    "        for i in range(0,n):\n",
    "            a, b = b, a+b\n",
    "        return a\n",
    "    except Exception as e:\n",
    "        print(e)"
   ]
  },
  {
   "cell_type": "code",
   "execution_count": 2,
   "id": "6fd53f8c",
   "metadata": {},
   "outputs": [
    {
     "name": "stdout",
     "output_type": "stream",
     "text": [
      "Enter a number: 50\n"
     ]
    },
    {
     "data": {
      "text/plain": [
       "12586269025"
      ]
     },
     "execution_count": 2,
     "metadata": {},
     "output_type": "execute_result"
    }
   ],
   "source": [
    "fib_fast()"
   ]
  },
  {
   "cell_type": "code",
   "execution_count": 3,
   "id": "ed7de92d",
   "metadata": {},
   "outputs": [],
   "source": [
    "#Approach 2\n",
    "\n",
    "def fib(n):\n",
    "    try:\n",
    "        if n == 0:\n",
    "            return 0\n",
    "        elif n==1:\n",
    "            return 1\n",
    "        else:\n",
    "            return(fib(n-1) + fib(n-2))\n",
    "    except Exception as e:\n",
    "        print(e)"
   ]
  },
  {
   "cell_type": "code",
   "execution_count": 4,
   "id": "02c5bf5e",
   "metadata": {},
   "outputs": [
    {
     "data": {
      "text/plain": [
       "55"
      ]
     },
     "execution_count": 4,
     "metadata": {},
     "output_type": "execute_result"
    }
   ],
   "source": [
    "fib(10)"
   ]
  },
  {
   "cell_type": "markdown",
   "id": "2190a428",
   "metadata": {},
   "source": [
    "#### 2. Create a function that takes a strings characters as ASCII and returns each characters hexadecimal value as a string.\n",
    "\n",
    ">Examples\n",
    "\n",
    "convert_to_hex(\"hello world\") ➞ \"68 65 6c 6c 6f 20 77 6f 72 6c 64\"\n",
    "\n",
    "convert_to_hex(\"Big Boi\") ➞ \"42 69 67 20 42 6f 69\"\n",
    "\n",
    "convert_to_hex(\"Marty Poppinson\") ➞ \"4d 61 72 74 79 20 50 6f 70 70 69 6e 73 6f 6e\""
   ]
  },
  {
   "cell_type": "code",
   "execution_count": 5,
   "id": "176d9ece",
   "metadata": {},
   "outputs": [],
   "source": [
    "def convert_to_hex():\n",
    "    try:\n",
    "        s = input(\"Enter a string: \")\n",
    "        l = []\n",
    "        for i in s:\n",
    "            l.append(hex(ord(i))[2:])\n",
    "        return \" \".join(l)\n",
    "    except Exception as e:\n",
    "        print(e)"
   ]
  },
  {
   "cell_type": "code",
   "execution_count": 6,
   "id": "5da9d7d0",
   "metadata": {},
   "outputs": [
    {
     "name": "stdout",
     "output_type": "stream",
     "text": [
      "Enter a string: hello world\n"
     ]
    },
    {
     "data": {
      "text/plain": [
       "'68 65 6c 6c 6f 20 77 6f 72 6c 64'"
      ]
     },
     "execution_count": 6,
     "metadata": {},
     "output_type": "execute_result"
    }
   ],
   "source": [
    "convert_to_hex()"
   ]
  },
  {
   "cell_type": "markdown",
   "id": "14b2b4df",
   "metadata": {},
   "source": [
    "#### 3. Someone has attempted to censor my strings by replacing every vowel with a *, l*k* th*s. Luckily, I've been able to find the vowels that were removed.\n",
    "\n",
    "Given a censored string and a string of the censored vowels, return the original uncensored string.\n",
    "\n",
    ">Example\n",
    "\n",
    "uncensor(\"Wh * r * d * d my v * w * ls g * ?\", \"eeioeo\") ➞ \"Where did my vowels go?\"\n",
    "\n",
    "uncensor(\"abcd\", \"\") ➞ \"abcd\"\n",
    "\n",
    "uncensor(\"* PP * RC * S *\", \"UEAE\") ➞ \"UPPERCASE\""
   ]
  },
  {
   "cell_type": "code",
   "execution_count": 7,
   "id": "2fef6f74",
   "metadata": {},
   "outputs": [],
   "source": [
    "def uncensor():\n",
    "    try:\n",
    "        s = input(\"Enter the censored string: \")\n",
    "        v = input(\"Enter the vowels: \")\n",
    "        c = 0\n",
    "        s1 = ''\n",
    "        for i in s:\n",
    "            if i == \"*\":\n",
    "                s1 = s1 + v[c]\n",
    "                c = c + 1\n",
    "            else:\n",
    "                s1 = s1 + i\n",
    "        return s1\n",
    "    except Exception as e:\n",
    "        print(e)"
   ]
  },
  {
   "cell_type": "code",
   "execution_count": 8,
   "id": "10a982f8",
   "metadata": {},
   "outputs": [
    {
     "name": "stdout",
     "output_type": "stream",
     "text": [
      "Enter the censored string: Wh*r* d*d my v*w*ls g*?\n",
      "Enter the vowels: eeioeo\n"
     ]
    },
    {
     "data": {
      "text/plain": [
       "'Where did my vowels go?'"
      ]
     },
     "execution_count": 8,
     "metadata": {},
     "output_type": "execute_result"
    }
   ],
   "source": [
    "uncensor()"
   ]
  },
  {
   "cell_type": "markdown",
   "id": "f4029b79",
   "metadata": {},
   "source": [
    "#### 4. Write a function that takes an IP address and returns the domain name using PTR DNS records.\n",
    "\n",
    ">Example\n",
    "\n",
    "get_domain(\"8.8.8.8\") ➞ \"dns.google\"\n",
    "\n",
    "get_domain(\"8.8.4.4\") ➞ \"dns.google\""
   ]
  },
  {
   "cell_type": "code",
   "execution_count": 9,
   "id": "f63f74c8",
   "metadata": {},
   "outputs": [],
   "source": [
    "import socket\n",
    "\n",
    "def get_domain(ip):\n",
    "    try:\n",
    "        domain = socket.gethostbyaddr(ip)[0]\n",
    "        print(domain)\n",
    "    except Exception as e:\n",
    "        print(e)"
   ]
  },
  {
   "cell_type": "code",
   "execution_count": 10,
   "id": "66820baa",
   "metadata": {},
   "outputs": [
    {
     "name": "stdout",
     "output_type": "stream",
     "text": [
      "dns.google\n"
     ]
    }
   ],
   "source": [
    "get_domain(\"8.8.8.8\")"
   ]
  },
  {
   "cell_type": "markdown",
   "id": "4b432980",
   "metadata": {},
   "source": [
    "#### 5. Create a function that takes an integer n and returns the factorial of factorials. See below examples for a better understanding:\n",
    "\n",
    ">Examples\n",
    "\n",
    "fact_of_fact(4) ➞ 288  \n",
    "4! * 3! * 2! * 1! = 288\n",
    "\n",
    "fact_of_fact(5) ➞ 34560\n",
    "\n",
    "fact_of_fact(6) ➞ 24883200"
   ]
  },
  {
   "cell_type": "code",
   "execution_count": 11,
   "id": "fb203bc0",
   "metadata": {},
   "outputs": [],
   "source": [
    "def fact(n):\n",
    "    try:\n",
    "        if n == 1:\n",
    "            return 1\n",
    "        else:\n",
    "            return n*fact(n-1)\n",
    "    except Exception as e:\n",
    "        print(e)"
   ]
  },
  {
   "cell_type": "code",
   "execution_count": 12,
   "id": "c0d98ab9",
   "metadata": {},
   "outputs": [],
   "source": [
    "def fact_of_fact():\n",
    "    try:\n",
    "        num = int(input(\"Enter a number: \"))\n",
    "        c = 1\n",
    "        for i in range(1, num+1):\n",
    "            c = c * fact(i)\n",
    "        return c\n",
    "    except Exception as e:\n",
    "        print(e)"
   ]
  },
  {
   "cell_type": "code",
   "execution_count": 13,
   "id": "d1bede99",
   "metadata": {},
   "outputs": [
    {
     "name": "stdout",
     "output_type": "stream",
     "text": [
      "Enter a number: 6\n"
     ]
    },
    {
     "data": {
      "text/plain": [
       "24883200"
      ]
     },
     "execution_count": 13,
     "metadata": {},
     "output_type": "execute_result"
    }
   ],
   "source": [
    "fact_of_fact()"
   ]
  }
 ],
 "metadata": {
  "kernelspec": {
   "display_name": "Python 3 (ipykernel)",
   "language": "python",
   "name": "python3"
  },
  "language_info": {
   "codemirror_mode": {
    "name": "ipython",
    "version": 3
   },
   "file_extension": ".py",
   "mimetype": "text/x-python",
   "name": "python",
   "nbconvert_exporter": "python",
   "pygments_lexer": "ipython3",
   "version": "3.9.7"
  }
 },
 "nbformat": 4,
 "nbformat_minor": 5
}
