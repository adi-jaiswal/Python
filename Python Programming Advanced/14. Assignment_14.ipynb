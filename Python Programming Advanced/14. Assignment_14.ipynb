{
 "cells": [
  {
   "cell_type": "markdown",
   "id": "0450bbde",
   "metadata": {},
   "source": [
    "#### 1. Given a list of numbers, create a function that removes 25% from every number in the list except the smallest number, and adds the total amount removed to the smallest number.\n",
    "\n",
    ">Examples\n",
    "\n",
    "show_the_love([4, 1, 4]) ➞ [3, 3, 3]\n",
    "\n",
    "show_the_love([16, 10, 8]) ➞ [12, 7.5, 14.5]\n",
    "\n",
    "show_the_love([2, 100]) ➞ [27, 75]"
   ]
  },
  {
   "cell_type": "code",
   "execution_count": 1,
   "id": "53ceeabd",
   "metadata": {},
   "outputs": [],
   "source": [
    "def show_the_love(lst):\n",
    "    try:\n",
    "        l = lst.copy()\n",
    "        c = 0\n",
    "        for i in range(len(l)):\n",
    "            if l[i] is not min(l):\n",
    "                c = c + l[i]*0.25\n",
    "                l[i] = l[i] - l[i]*0.25\n",
    "        l[l.index(min(l))] = c + min(l)\n",
    "        print(l)\n",
    "    except Exception as e:\n",
    "        print(e)"
   ]
  },
  {
   "cell_type": "code",
   "execution_count": 2,
   "id": "901b597d",
   "metadata": {},
   "outputs": [
    {
     "name": "stdout",
     "output_type": "stream",
     "text": [
      "[3.0, 3.0, 3.0]\n"
     ]
    }
   ],
   "source": [
    "show_the_love([4, 1, 4])"
   ]
  },
  {
   "cell_type": "markdown",
   "id": "5ce2b176",
   "metadata": {},
   "source": [
    "#### 2. Create a function that takes in two words as input and returns a list of three elements, in the following order:\n",
    "\n",
    "   1.Shared letters between two words.  \n",
    "   2.Letters unique to word 1.  \n",
    "   3.Letters unique to word 2.  \n",
    "\n",
    "Each element should have unique letters, and have each letter be alphabetically sorted.\n",
    "\n",
    ">Examples\n",
    "\n",
    "letters(\"sharp\", \"soap\") ➞ [\"aps\", \"hr\", \"o\"]\n",
    "\n",
    "letters(\"board\", \"bored\") ➞ [\"bdor\", \"a\", \"e\"]\n",
    "\n",
    "letters(\"happiness\", \"envelope\") ➞ [\"enp\", \"ahis\", \"lov\"]\n",
    "\n",
    "letters(\"kerfuffle\", \"fluffy\") ➞ [\"flu\", \"ekr\", \"y\"]  \n",
    "Even with multiple matching letters (e.g. 3 f's), there should only exist a single \"f\" in your first element.\n",
    "\n",
    "letters(\"match\", \"ham\") ➞ [\"ahm\", \"ct\", \"\"]  \n",
    "\"ham\" does not contain any letters that are not found already in \"match\"."
   ]
  },
  {
   "cell_type": "code",
   "execution_count": 3,
   "id": "ab0f5074",
   "metadata": {},
   "outputs": [],
   "source": [
    "def letters(str1, str2):\n",
    "    try:\n",
    "        s1 = set(str1)\n",
    "        s2 = set(str2)\n",
    "        l = []\n",
    "        l.append(''.join(sorted(s1.intersection(s2))))\n",
    "        l.append(''.join(sorted(s1.difference(s2))))\n",
    "        l.append(''.join(sorted(s2.difference(s1))))\n",
    "        return l\n",
    "    except Exception as e:\n",
    "        print(e)"
   ]
  },
  {
   "cell_type": "code",
   "execution_count": 4,
   "id": "77ecdb80",
   "metadata": {},
   "outputs": [
    {
     "data": {
      "text/plain": [
       "['flu', 'ekr', 'y']"
      ]
     },
     "execution_count": 4,
     "metadata": {},
     "output_type": "execute_result"
    }
   ],
   "source": [
    "letters(\"kerfuffle\", \"fluffy\")"
   ]
  },
  {
   "cell_type": "markdown",
   "id": "93584f9e",
   "metadata": {},
   "source": [
    "#### 3. Write a function that pairs the first number in an array with the last, the second number with the second to last, etc.\n",
    "\n",
    ">Examples\n",
    "\n",
    "pairs([1, 2, 3, 4, 5, 6, 7]) ➞ [[1, 7], [2, 6], [3, 5], [4, 4]]\n",
    "\n",
    "pairs([1, 2, 3, 4, 5, 6]) ➞ [[1, 6], [2, 5], [3, 4]]\n",
    "\n",
    "pairs([5, 9, 8, 1, 2]) ➞ [[5, 2], [9, 1], [8, 8]]\n",
    "\n",
    "pairs([]) ➞ []"
   ]
  },
  {
   "cell_type": "code",
   "execution_count": 5,
   "id": "c656b677",
   "metadata": {},
   "outputs": [],
   "source": [
    "def pairs(lst):\n",
    "    try:\n",
    "        l = []\n",
    "        while True:\n",
    "            if len(lst) > 0:\n",
    "                if len(lst) == 1:\n",
    "                    l.append([lst[0], lst.pop(0)])\n",
    "                else:\n",
    "                    l.append([lst.pop(0), lst.pop(-1)])\n",
    "            else:\n",
    "                break\n",
    "        print(l)\n",
    "    except Exception as e:\n",
    "        print(e)"
   ]
  },
  {
   "cell_type": "code",
   "execution_count": 6,
   "id": "56abbed9",
   "metadata": {},
   "outputs": [
    {
     "name": "stdout",
     "output_type": "stream",
     "text": [
      "[[5, 2], [9, 1], [8, 8]]\n"
     ]
    }
   ],
   "source": [
    "pairs([5, 9, 8, 1, 2])"
   ]
  },
  {
   "cell_type": "markdown",
   "id": "4e2749b3",
   "metadata": {},
   "source": [
    "#### 4. Write a function that adds two numbers. The catch, however, is that the numbers will be strings.\n",
    "\n",
    ">Examples\n",
    "\n",
    "add_str_nums(\"4\", \"5\") ➞ \"9\"\n",
    "\n",
    "add_str_nums(\"abcdefg\", \"3\") ➞ \"-1\"\n",
    "\n",
    "add_str_nums(\"1\", \"\") ➞ \"1\"\n",
    "\n",
    "add_str_nums(\"1874682736267235927359283579235789257\", \"32652983572985729\") ➞ \"1874682736267235927391936562808774986\""
   ]
  },
  {
   "cell_type": "code",
   "execution_count": 7,
   "id": "72fc9835",
   "metadata": {},
   "outputs": [],
   "source": [
    "def add_str_nums(s1, s2):\n",
    "    try:\n",
    "        s1 = s1 if len(s1) > 0 else \"0\"\n",
    "        s2 = s2 if len(s2) > 0 else \"0\"\n",
    "        if s1.isdigit() == False or s2.isdigit() == False:\n",
    "            o = -1\n",
    "        else:\n",
    "            o = int(s1) + int(s2)\n",
    "        return str(o)\n",
    "    except Exception as e:\n",
    "        print(e)"
   ]
  },
  {
   "cell_type": "code",
   "execution_count": 8,
   "id": "d7548299",
   "metadata": {},
   "outputs": [
    {
     "data": {
      "text/plain": [
       "'1874682736267235927391936562808774986'"
      ]
     },
     "execution_count": 8,
     "metadata": {},
     "output_type": "execute_result"
    }
   ],
   "source": [
    "add_str_nums(\"1874682736267235927359283579235789257\", \"32652983572985729\")"
   ]
  },
  {
   "cell_type": "markdown",
   "id": "4630687c",
   "metadata": {},
   "source": [
    "#### 5.  lPaeesh le pemu mnxit ehess rtnisg! Oh, sorry, that was supposed to say: Please help me unmix these strings!\n",
    "\n",
    "Somehow my strings have all become mixed up; every pair of characters has been swapped. Help me undo this so I can understand my strings again.\n",
    "\n",
    ">Examples\n",
    "\n",
    "unmix(\"123456\") ➞ \"214365\"\n",
    "\n",
    "unmix(\"hTsii  s aimex dpus rtni.g\") ➞ \"This is a mixed up string.\"\n",
    "\n",
    "unmix(\"badce\") ➞ \"abcde\""
   ]
  },
  {
   "cell_type": "code",
   "execution_count": 9,
   "id": "0f6b2385",
   "metadata": {},
   "outputs": [],
   "source": [
    "def unmix(s):\n",
    "    try:\n",
    "        o = ''\n",
    "        for i in range(0,len(s)-1,2):\n",
    "            o = o + s[i+1] + s[i]\n",
    "            if (len(s)%2 != 0 and i == len(s)//2):\n",
    "                o = o + s[-1]       \n",
    "        print(o)\n",
    "    except Exception as e:\n",
    "        print(e)"
   ]
  },
  {
   "cell_type": "code",
   "execution_count": 10,
   "id": "c6528477",
   "metadata": {},
   "outputs": [
    {
     "name": "stdout",
     "output_type": "stream",
     "text": [
      "This is a mixed up string.\n"
     ]
    }
   ],
   "source": [
    "unmix(\"hTsii  s aimex dpus rtni.g\")"
   ]
  }
 ],
 "metadata": {
  "kernelspec": {
   "display_name": "Python 3 (ipykernel)",
   "language": "python",
   "name": "python3"
  },
  "language_info": {
   "codemirror_mode": {
    "name": "ipython",
    "version": 3
   },
   "file_extension": ".py",
   "mimetype": "text/x-python",
   "name": "python",
   "nbconvert_exporter": "python",
   "pygments_lexer": "ipython3",
   "version": "3.9.7"
  }
 },
 "nbformat": 4,
 "nbformat_minor": 5
}
