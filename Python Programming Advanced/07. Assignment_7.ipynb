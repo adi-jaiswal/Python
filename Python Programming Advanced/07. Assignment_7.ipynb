{
 "cells": [
  {
   "cell_type": "markdown",
   "id": "765d40f9",
   "metadata": {},
   "source": [
    "#### 1. Write a function that counts how many concentric layers a rug.\n",
    "\n",
    ">Examples\n",
    "\n",
    "count_layers([  \n",
    "  \"AAAA\",  \n",
    "  \"ABBA\",  \n",
    "  \"AAAA\"  \n",
    "]) ➞ 2  \n",
    "\n",
    "count_layers([  \n",
    "  \"AAAAAAAAA\",  \n",
    "  \"ABBBBBBBA\",  \n",
    "  \"ABBAAABBA\",  \n",
    "  \"ABBBBBBBA\",  \n",
    "  \"AAAAAAAAA\"  \n",
    "]) ➞ 3  \n",
    "\n",
    "count_layers([  \n",
    "  \"AAAAAAAAAAA\",  \n",
    "  \"AABBBBBBBAA\",  \n",
    "  \"AABCCCCCBAA\",  \n",
    "  \"AABCAAACBAA\",  \n",
    "  \"AABCADACBAA\",  \n",
    "  \"AABCAAACBAA\",  \n",
    "  \"AABCCCCCBAA\",  \n",
    "  \"AABBBBBBBAA\",  \n",
    "  \"AAAAAAAAAAA\"  \n",
    "]) ➞ 5"
   ]
  },
  {
   "cell_type": "code",
   "execution_count": 1,
   "id": "cc5be4bf",
   "metadata": {},
   "outputs": [],
   "source": [
    "def count_layers(l):\n",
    "    try:\n",
    "        l1 = []\n",
    "        for i in l:\n",
    "            if i not in l1:\n",
    "                l1.append(i)\n",
    "        return len(l1)\n",
    "    except Exception as e:\n",
    "        print(e)"
   ]
  },
  {
   "cell_type": "code",
   "execution_count": 2,
   "id": "b2c46961",
   "metadata": {},
   "outputs": [
    {
     "data": {
      "text/plain": [
       "5"
      ]
     },
     "execution_count": 2,
     "metadata": {},
     "output_type": "execute_result"
    }
   ],
   "source": [
    "count_layers([\n",
    "\"AAAAAAAAAAA\",\n",
    "\"AABBBBBBBAA\",\n",
    "\"AABCCCCCBAA\",\n",
    "\"AABCAAACBAA\",\n",
    "\"AABCADACBAA\",\n",
    "\"AABCAAACBAA\",\n",
    "\"AABCCCCCBAA\",\n",
    "\"AABBBBBBBAA\",\n",
    "\"AAAAAAAAAAA\"\n",
    "])"
   ]
  },
  {
   "cell_type": "markdown",
   "id": "66dbed41",
   "metadata": {},
   "source": [
    "#### 2. There are many different styles of music and many albums exhibit multiple styles. Create a function that takes a list of musical styles from albums and returns how many styles are unique.\n",
    "\n",
    ">Examples\n",
    "\n",
    "unique_styles([  \n",
    "  \"Dub,Dancehall\",  \n",
    "  \"Industrial,Heavy Metal\",  \n",
    "  \"Techno,Dubstep\",  \n",
    "  \"Synth-pop,Euro-Disco\",  \n",
    "  \"Industrial,Techno,Minimal\"  \n",
    "]) ➞ 9\n",
    "\n",
    "unique_styles([  \n",
    "  \"Soul\",  \n",
    "  \"House,Folk\",  \n",
    "  \"Trance,Downtempo,Big Beat,House\",  \n",
    "  \"Deep House\",  \n",
    "  \"Soul\"  \n",
    "]) ➞ 7"
   ]
  },
  {
   "cell_type": "code",
   "execution_count": 3,
   "id": "08a634bb",
   "metadata": {},
   "outputs": [],
   "source": [
    "def unique_styles(s):\n",
    "    try:\n",
    "        l = []\n",
    "        for i in s:\n",
    "            for j in i.split(','):\n",
    "                l.append(j)\n",
    "        return len(set(l))\n",
    "    except Exception as e:\n",
    "        print(e)"
   ]
  },
  {
   "cell_type": "code",
   "execution_count": 4,
   "id": "bee36d1f",
   "metadata": {},
   "outputs": [
    {
     "data": {
      "text/plain": [
       "9"
      ]
     },
     "execution_count": 4,
     "metadata": {},
     "output_type": "execute_result"
    }
   ],
   "source": [
    "unique_styles([\n",
    "\"Dub,Dancehall\",\n",
    "\"Industrial,Heavy Metal\",\n",
    "\"Techno,Dubstep\",\n",
    "\"Synth-pop,Euro-Disco\",\n",
    "\"Industrial,Techno,Minimal\"\n",
    "])"
   ]
  },
  {
   "cell_type": "markdown",
   "id": "cb62cbd8",
   "metadata": {},
   "source": [
    "#### 3. Create a function that finds a target number in a list of prime numbers. Implement a binary search algorithm in your function. The target number will be from 2 through 97. If the target is prime then return \"yes\" else return \"no\".\n",
    "\n",
    ">Examples\n",
    "\n",
    "primes = [2, 3, 5, 7, 11, 13, 17, 19, 23, 29, 31, 37, 41, 43, 47, 53, 59, 61, 67, 71, 73, 79, 83, 89, 97]\n",
    "\n",
    "\n",
    "is_prime(primes, 3) ➞ \"yes\"\n",
    "\n",
    "is_prime(primes, 4) ➞ \"no\"\n",
    "\n",
    "is_prime(primes, 67) ➞ \"yes\"\n",
    "\n",
    "is_prime(primes, 36) ➞ \"no\"\n"
   ]
  },
  {
   "cell_type": "code",
   "execution_count": 5,
   "id": "d5b798f2",
   "metadata": {},
   "outputs": [],
   "source": [
    "def is_prime(primes, n):\n",
    "    try:\n",
    "        l = 0\n",
    "        u = len(primes)-1\n",
    "        while l <= u:\n",
    "            mid = (l+u)//2\n",
    "            if primes[mid] == n:\n",
    "                return 'yes'\n",
    "            else:\n",
    "                if n > primes[mid]:\n",
    "                    l = mid+1\n",
    "                else:\n",
    "                    u = mid-1\n",
    "        return 'no'\n",
    "    except Exception as e:\n",
    "        print(e)"
   ]
  },
  {
   "cell_type": "code",
   "execution_count": 6,
   "id": "0fb99b42",
   "metadata": {},
   "outputs": [],
   "source": [
    "primes = [2, 3, 5, 7, 11, 13, 17, 19, 23, 29, 31, 37, 41, 43, 47, 53, 59, 61, 67, 71, 73, 79, 83, 89, 97]"
   ]
  },
  {
   "cell_type": "code",
   "execution_count": 7,
   "id": "b536d461",
   "metadata": {},
   "outputs": [
    {
     "data": {
      "text/plain": [
       "'yes'"
      ]
     },
     "execution_count": 7,
     "metadata": {},
     "output_type": "execute_result"
    }
   ],
   "source": [
    "is_prime(primes, 67)"
   ]
  },
  {
   "cell_type": "markdown",
   "id": "cd0780a3",
   "metadata": {},
   "source": [
    "#### 4. Create a function that takes in n, a, b and returns the number of positive values raised to the nth power that lie in the range [a, b], inclusive.\n",
    "\n",
    ">Examples\n",
    "\n",
    "power_ranger(2, 49, 65) ➞ 2  \n",
    "2 squares (n^2) lie between 49 and 65, 49 (7^2) and 64 (8^2)\n",
    "\n",
    "power_ranger(3, 1, 27) ➞ 3  \n",
    "3 cubes (n^3) lie between 1 and 27, 1 (1^3), 8 (2^3) and 27 (3^3)\n",
    "\n",
    "power_ranger(10, 1, 5) ➞ 1  \n",
    "1 value raised to the 10th power lies between 1 and 5, 1 (1^10)\n",
    "\n",
    "power_ranger(5, 31, 33) ➞ 1  \n",
    "\n",
    "power_ranger(4, 250, 1300) ➞ 3\n"
   ]
  },
  {
   "cell_type": "code",
   "execution_count": 8,
   "id": "9e163079",
   "metadata": {},
   "outputs": [],
   "source": [
    "import math\n",
    "def power_ranger(n,a,b):\n",
    "    try:\n",
    "        l = []\n",
    "        for i in range(a,b+1):\n",
    "            r = round(math.exp(math.log(i)/n),1)\n",
    "            if str(r).split(\".\")[1] == '0':\n",
    "                l.append(int(r))\n",
    "        return len(set(l))\n",
    "    except Exception as e:\n",
    "        print(e)"
   ]
  },
  {
   "cell_type": "code",
   "execution_count": 9,
   "id": "349397cd",
   "metadata": {},
   "outputs": [
    {
     "data": {
      "text/plain": [
       "3"
      ]
     },
     "execution_count": 9,
     "metadata": {},
     "output_type": "execute_result"
    }
   ],
   "source": [
    "power_ranger(4, 250, 1300)"
   ]
  },
  {
   "cell_type": "markdown",
   "id": "99475526",
   "metadata": {},
   "source": [
    "#### 5. Given a number, return the difference between the maximum and minimum numbers that can be formed when the digits are rearranged.\n",
    "\n",
    ">Examples\n",
    "\n",
    "rearranged_difference(972882) ➞ 760833  \n",
    "988722 - 227889 = 760833\n",
    "\n",
    "rearranged_difference(3320707) ➞ 7709823  \n",
    "7733200 - 23377 = 7709823\n",
    "\n",
    "rearranged_difference(90010) ➞ 90981  \n",
    "91000 - 19 = 90981\n"
   ]
  },
  {
   "cell_type": "code",
   "execution_count": 10,
   "id": "c434954f",
   "metadata": {},
   "outputs": [],
   "source": [
    "def rearranged_difference():\n",
    "    try:\n",
    "        n = int(input(\"Enter a number: \"))\n",
    "        l = []\n",
    "        for i in str(n):\n",
    "            l.append(i)\n",
    "        min_n = int(''.join(sorted(l)))\n",
    "        max_n = int(''.join(sorted(l, reverse=True)))\n",
    "        return (max_n - min_n)\n",
    "    except Exception as e:\n",
    "        print(e)"
   ]
  },
  {
   "cell_type": "code",
   "execution_count": 11,
   "id": "6c87f15e",
   "metadata": {},
   "outputs": [
    {
     "name": "stdout",
     "output_type": "stream",
     "text": [
      "Enter a number: 3320707\n"
     ]
    },
    {
     "data": {
      "text/plain": [
       "7709823"
      ]
     },
     "execution_count": 11,
     "metadata": {},
     "output_type": "execute_result"
    }
   ],
   "source": [
    "rearranged_difference()"
   ]
  }
 ],
 "metadata": {
  "kernelspec": {
   "display_name": "Python 3 (ipykernel)",
   "language": "python",
   "name": "python3"
  },
  "language_info": {
   "codemirror_mode": {
    "name": "ipython",
    "version": 3
   },
   "file_extension": ".py",
   "mimetype": "text/x-python",
   "name": "python",
   "nbconvert_exporter": "python",
   "pygments_lexer": "ipython3",
   "version": "3.9.7"
  }
 },
 "nbformat": 4,
 "nbformat_minor": 5
}
