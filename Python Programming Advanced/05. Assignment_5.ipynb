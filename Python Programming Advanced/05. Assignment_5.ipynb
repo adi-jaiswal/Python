{
 "cells": [
  {
   "cell_type": "markdown",
   "id": "b9703fa9",
   "metadata": {},
   "source": [
    "#### 1. Create a function that takes a number n (integer greater than zero) as an argument, and returns 2 if n is odd and 8 if n is even.\n",
    "\n",
    "You can only use the following arithmetic operators: addition of numbers +, subtraction of numbers -, multiplication of number *, division of number /, and exponentiation **.\n",
    "\n",
    "You are not allowed to use any other methods in this challenge (i.e. no if statements, comparison operators, etc).\n",
    "\n",
    ">Examples\n",
    "\n",
    "f(1) ➞ 2\n",
    "\n",
    "f(2) ➞ 8\n",
    "\n",
    "f(3) ➞ 2"
   ]
  },
  {
   "cell_type": "code",
   "execution_count": 1,
   "id": "41edd86e",
   "metadata": {},
   "outputs": [],
   "source": [
    "def f():\n",
    "    try:\n",
    "        n = int(input(\"Enter a number: \"))\n",
    "        s = [8,2]\n",
    "        return s[n&1]\n",
    "    except Exception as e:\n",
    "        print(e)"
   ]
  },
  {
   "cell_type": "code",
   "execution_count": 2,
   "id": "909da04b",
   "metadata": {},
   "outputs": [
    {
     "name": "stdout",
     "output_type": "stream",
     "text": [
      "Enter a number: 2\n"
     ]
    },
    {
     "data": {
      "text/plain": [
       "8"
      ]
     },
     "execution_count": 2,
     "metadata": {},
     "output_type": "execute_result"
    }
   ],
   "source": [
    "f()"
   ]
  },
  {
   "cell_type": "markdown",
   "id": "3c1a4381",
   "metadata": {},
   "source": [
    "#### 2. Create a function that returns the majority vote in a list. A majority vote is an element that occurs > N/2 times in a list (where N is the length of the list).\n",
    "\n",
    ">Examples\n",
    "\n",
    "majority_vote([\"A\", \"A\", \"B\"]) ➞ \"A\"\n",
    "\n",
    "majority_vote([\"A\", \"A\", \"A\", \"B\", \"C\", \"A\"]) ➞ \"A\"\n",
    "\n",
    "majority_vote([\"A\", \"B\", \"B\", \"A\", \"C\", \"C\"]) ➞ None"
   ]
  },
  {
   "cell_type": "code",
   "execution_count": 3,
   "id": "8e07fd74",
   "metadata": {},
   "outputs": [],
   "source": [
    "def majority_vote():\n",
    "    try:\n",
    "        l = eval(input(\"Enter a list: \"))\n",
    "        for i in l:\n",
    "            if l.count(i) > len(l)/2:\n",
    "                return i\n",
    "            return \"None\"\n",
    "    except Exception as e:\n",
    "        print(e)"
   ]
  },
  {
   "cell_type": "code",
   "execution_count": 4,
   "id": "a2a124b5",
   "metadata": {},
   "outputs": [
    {
     "name": "stdout",
     "output_type": "stream",
     "text": [
      "Enter a list: [\"A\", \"A\", \"A\", \"B\", \"C\", \"A\"]\n"
     ]
    },
    {
     "data": {
      "text/plain": [
       "'A'"
      ]
     },
     "execution_count": 4,
     "metadata": {},
     "output_type": "execute_result"
    }
   ],
   "source": [
    "majority_vote()"
   ]
  },
  {
   "cell_type": "markdown",
   "id": "7b7dfe14",
   "metadata": {},
   "source": [
    "#### 3. Create a function that takes a string txt and censors any word from a given list lst. The text removed must be replaced by the given character char.\n",
    "\n",
    ">Examples\n",
    "\n",
    "censor_string(\"Today is a Wednesday!\", [\"Today\", \"a\"], \"-\") ➞ \"----- is - Wednesday!\"\n",
    "\n",
    "censor_string(\"The cow jumped over the moon.\", [\"cow\", \"over\"], \"*\"), \"The *** jumped **** the moon.\")\n",
    "\n",
    "censor_string(\"Why did the chicken cross the road?\", [\"Did\", \"chicken\", \"road\"], \"*\") ➞ \"Why *** the ******* cross the ****?\""
   ]
  },
  {
   "cell_type": "code",
   "execution_count": 5,
   "id": "47af81c2",
   "metadata": {},
   "outputs": [],
   "source": [
    "def censor_string(s, l, c):\n",
    "    try:\n",
    "        l1 = []\n",
    "        for i in s.split():\n",
    "            if (i.title() in l) or (i.lower() in l) or (i.upper() in l):\n",
    "                l1.append(c*len(i))\n",
    "            else:\n",
    "                l1.append(i)\n",
    "        return \" \".join(l1)\n",
    "    except Exception as e:\n",
    "        print(e)"
   ]
  },
  {
   "cell_type": "code",
   "execution_count": 6,
   "id": "c278ae68",
   "metadata": {},
   "outputs": [
    {
     "data": {
      "text/plain": [
       "'----- is - Wednesday!'"
      ]
     },
     "execution_count": 6,
     "metadata": {},
     "output_type": "execute_result"
    }
   ],
   "source": [
    "censor_string(\"Today is a Wednesday!\", [\"Today\", \"a\"], \"-\")"
   ]
  },
  {
   "cell_type": "markdown",
   "id": "2b77939f",
   "metadata": {},
   "source": [
    "#### 4. In mathematics a Polydivisible Number (or magic number) is a number in a given number base with digits abcde... that has the following properties:\n",
    "\n",
    "-  Its first digit a is not 0.\n",
    "- The number formed by its first two digits ab is a multiple of 2.\n",
    "- The number formed by its first three digits abc is a multiple of 3.\n",
    "- The number formed by its first four digits abcd is a multiple of 4.\n",
    "\n",
    "Create a function which takes an integer n and returns True if the given number is a Polydivisible Number and False otherwise.\n",
    "\n",
    ">Examples\n",
    "\n",
    "is_polydivisible(1232) ➞ True  \n",
    "1     / 1 = 1  \n",
    "12    / 2 = 6  \n",
    "123   / 3 = 41  \n",
    "1232  / 4 = 308\n",
    "\n",
    "is_polydivisible(123220 ) ➞ False  \n",
    "1   / 1 = 1  \n",
    "12   / 2 = 6  \n",
    "123   / 3 = 41  \n",
    "1232   / 4 = 308  \n",
    "12322   / 5 = 2464.4         # Not a Whole Number  \n",
    "123220   /6 = 220536.333...  # Not a Whole Number"
   ]
  },
  {
   "cell_type": "code",
   "execution_count": 7,
   "id": "7e725a40",
   "metadata": {},
   "outputs": [],
   "source": [
    "def is_polydivisible():\n",
    "    try:\n",
    "        n = int(input(\"Enter a number: \"))\n",
    "        for i in range(len(str(n))):\n",
    "            if int(str(n)[:i+1])%(i+1) == 0:\n",
    "                o = True\n",
    "            else:\n",
    "                o = False\n",
    "        return o\n",
    "    except Exception as e:\n",
    "        print(e)"
   ]
  },
  {
   "cell_type": "code",
   "execution_count": 8,
   "id": "918436c6",
   "metadata": {},
   "outputs": [
    {
     "name": "stdout",
     "output_type": "stream",
     "text": [
      "Enter a number: 1232\n"
     ]
    },
    {
     "data": {
      "text/plain": [
       "True"
      ]
     },
     "execution_count": 8,
     "metadata": {},
     "output_type": "execute_result"
    }
   ],
   "source": [
    "is_polydivisible()"
   ]
  },
  {
   "cell_type": "markdown",
   "id": "fa1dca82",
   "metadata": {},
   "source": [
    "#### 5. Create a function that takes a list of numbers and returns the sum of all prime numbers in the list.\n",
    "\n",
    ">Examples\n",
    "\n",
    "sum_primes([1, 2, 3, 4, 5, 6, 7, 8, 9, 10]) ➞ 17\n",
    "\n",
    "sum_primes([2, 3, 4, 11, 20, 50, 71]) ➞ 87\n",
    "\n",
    "sum_primes([]) ➞ None"
   ]
  },
  {
   "cell_type": "code",
   "execution_count": 11,
   "id": "85737d99",
   "metadata": {},
   "outputs": [],
   "source": [
    "def sum_primes():\n",
    "    try:\n",
    "        l = eval(input(\"Enter a list of integers: \"))\n",
    "        s = 0\n",
    "        if len(l) > 0:\n",
    "            for i in l:\n",
    "                if i > 1:\n",
    "                    a = 2\n",
    "                    b = 1\n",
    "                    while a <= i/2:\n",
    "                        if i%a == 0:\n",
    "                            b = 0\n",
    "                            break\n",
    "                        a = a + 1\n",
    "                    if b == 1:\n",
    "                        s = s + i\n",
    "            return s\n",
    "        else:\n",
    "            return \"None\"\n",
    "    except Exception as e:\n",
    "        print(e)"
   ]
  },
  {
   "cell_type": "code",
   "execution_count": 13,
   "id": "c26a7393",
   "metadata": {},
   "outputs": [
    {
     "name": "stdout",
     "output_type": "stream",
     "text": [
      "Enter a list of integers: [1, 2, 3, 4, 5, 6, 7, 8, 9, 10]\n"
     ]
    },
    {
     "data": {
      "text/plain": [
       "17"
      ]
     },
     "execution_count": 13,
     "metadata": {},
     "output_type": "execute_result"
    }
   ],
   "source": [
    "sum_primes()"
   ]
  }
 ],
 "metadata": {
  "kernelspec": {
   "display_name": "Python 3 (ipykernel)",
   "language": "python",
   "name": "python3"
  },
  "language_info": {
   "codemirror_mode": {
    "name": "ipython",
    "version": 3
   },
   "file_extension": ".py",
   "mimetype": "text/x-python",
   "name": "python",
   "nbconvert_exporter": "python",
   "pygments_lexer": "ipython3",
   "version": "3.9.7"
  }
 },
 "nbformat": 4,
 "nbformat_minor": 5
}
