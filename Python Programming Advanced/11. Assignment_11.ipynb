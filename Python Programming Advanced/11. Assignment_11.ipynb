{
 "cells": [
  {
   "cell_type": "markdown",
   "id": "47b72cff",
   "metadata": {},
   "source": [
    "#### 1. Create a function that takes a list and returns a new list containing only prime numbers.\n",
    "\n",
    ">Examples\n",
    "\n",
    "filter_primes([7, 9, 3, 9, 10, 11, 27]) ➞ [7, 3, 11]\n",
    "\n",
    "filter_primes([10007, 1009, 1007, 27, 147, 77, 1001, 70]) ➞ [10007, 1009]\n",
    "\n",
    "filter_primes([1009, 10, 10, 10, 3, 33, 9, 4, 1, 61, 63, 69, 1087, 1091, 1093, 1097]) ➞ [1009, 3, 61, 1087, 1091, 1093, 1097]"
   ]
  },
  {
   "cell_type": "code",
   "execution_count": 1,
   "id": "e5f31735",
   "metadata": {},
   "outputs": [],
   "source": [
    "def filter_primes(l):\n",
    "    try:\n",
    "        prime = []\n",
    "        for i in l:\n",
    "            c = 0\n",
    "            for j in range(1,i):\n",
    "                if i%j == 0:\n",
    "                    c = c + 1\n",
    "            if c == 1:\n",
    "                prime.append(i)\n",
    "        return prime\n",
    "    except Exception as e:\n",
    "        print(e)"
   ]
  },
  {
   "cell_type": "code",
   "execution_count": 2,
   "id": "2c910e36",
   "metadata": {},
   "outputs": [
    {
     "data": {
      "text/plain": [
       "[1009, 3, 61, 1087, 1091, 1093, 1097]"
      ]
     },
     "execution_count": 2,
     "metadata": {},
     "output_type": "execute_result"
    }
   ],
   "source": [
    "filter_primes([1009, 10, 10, 10, 3, 33, 9, 4, 1, 61, 63, 69, 1087, 1091, 1093, 1097])"
   ]
  },
  {
   "cell_type": "markdown",
   "id": "1330c06c",
   "metadata": {},
   "source": [
    "#### 2. Once a water balloon pops, is soaks the area around it. The ground gets drier the further away you travel from the balloon.\n",
    "\n",
    "The effect of a water balloon popping can be modeled using a list. Create a function that takes a list which takes the pre-pop state and returns the state after the balloon is popped. The pre-pop state will contain at most a single balloon, whose size is represented by the only non-zero element.\n",
    "\n",
    ">Examples\n",
    "\n",
    "pop([0, 0, 0, 0, 4, 0, 0, 0, 0]) ➞ [0, 1, 2, 3, 4, 3, 2, 1, 0]\n",
    "\n",
    "pop([0, 0, 0, 3, 0, 0, 0]) ➞ [0, 1, 2, 3, 2, 1, 0]\n",
    "\n",
    "pop([0, 0, 2, 0, 0]) ➞ [0, 1, 2, 1, 0]\n",
    "\n",
    "pop([0]) ➞ [0]"
   ]
  },
  {
   "cell_type": "code",
   "execution_count": 3,
   "id": "5202b6f7",
   "metadata": {},
   "outputs": [],
   "source": [
    "def pop(l):\n",
    "    try:\n",
    "        x = sorted(l, reverse = True)[0]\n",
    "        o = []\n",
    "        if x == 0:\n",
    "            o.append(0)\n",
    "        else:\n",
    "            o.extend([x for x in range((len(l)-1)//2)])\n",
    "            o.append(x)\n",
    "            o.extend([((len(l)-2)//2)-x for x in range((len(l)-1)//2)])\n",
    "        return o\n",
    "    except Exception as e:\n",
    "        print(e)"
   ]
  },
  {
   "cell_type": "code",
   "execution_count": 4,
   "id": "7b92927c",
   "metadata": {},
   "outputs": [
    {
     "data": {
      "text/plain": [
       "[0, 1, 2, 3, 4, 3, 2, 1, 0]"
      ]
     },
     "execution_count": 4,
     "metadata": {},
     "output_type": "execute_result"
    }
   ],
   "source": [
    "pop([0, 0, 0, 0, 4, 0, 0, 0, 0])"
   ]
  },
  {
   "cell_type": "markdown",
   "id": "dca43d4c",
   "metadata": {},
   "source": [
    "#### 3. \"Loves me, loves me not\" is a traditional game in which a person plucks off all the petals of a flower one by one, saying the phrase \"Loves me\" and \"Loves me not\" when determining whether the one that they love, loves them back.\n",
    "\n",
    "Given a number of petals, return a string which repeats the phrases \"Loves me\" and \"Loves me not\" for every alternating petal, and return the last phrase in all caps. Remember to put a comma and space between phrases.\n",
    "\n",
    ">Examples\n",
    "\n",
    "loves_me(3) ➞ \"Loves me, Loves me not, LOVES ME\"\n",
    "\n",
    "loves_me(6) ➞ \"Loves me, Loves me not, Loves me, Loves me not, Loves me, LOVES ME NOT\"\n",
    "\n",
    "loves_me(1) ➞ \"LOVES ME\""
   ]
  },
  {
   "cell_type": "code",
   "execution_count": 5,
   "id": "25da5dee",
   "metadata": {},
   "outputs": [],
   "source": [
    "def loves_me(n):\n",
    "    try:\n",
    "        l = []\n",
    "        for i in range(n):\n",
    "            if i%2 == 0:\n",
    "                l.append('Loves me')\n",
    "            else:\n",
    "                l.append('Loves me not')\n",
    "        l[-1] = l[-1].upper()\n",
    "        print(\", \".join(l))\n",
    "    except Exception as e:\n",
    "        print(e)"
   ]
  },
  {
   "cell_type": "code",
   "execution_count": 6,
   "id": "54f732cf",
   "metadata": {},
   "outputs": [
    {
     "name": "stdout",
     "output_type": "stream",
     "text": [
      "Loves me, Loves me not, LOVES ME\n"
     ]
    }
   ],
   "source": [
    "loves_me(3)"
   ]
  },
  {
   "cell_type": "markdown",
   "id": "59110918",
   "metadata": {},
   "source": [
    "#### 4. Write a function that sorts each string in a list by the letter in alphabetic ascending order (a-z).\n",
    "\n",
    ">Examples\n",
    "\n",
    "sort_by_letter([\"932c\", \"832u32\", \"2344b\"])\n",
    "➞ [\"2344b\", \"932c\", \"832u32\"]\n",
    "\n",
    "sort_by_letter([\"99a\", \"78b\", \"c2345\", \"11d\"])\n",
    "➞ [\"99a\", \"78b\", \"c2345\", \"11d\"]\n",
    "\n",
    "sort_by_letter([\"572z\", \"5y5\", \"304q2\"])\n",
    "➞ [\"304q2\", \"5y5\", \"572z\"]\n",
    "\n",
    "sort_by_letter([])\n",
    "➞ []"
   ]
  },
  {
   "cell_type": "code",
   "execution_count": 7,
   "id": "d23faf8c",
   "metadata": {},
   "outputs": [],
   "source": [
    "def sort_by_letter(l):\n",
    "    try:\n",
    "        l1 = []\n",
    "        l2 = []\n",
    "        for i in l:\n",
    "            for j in i:\n",
    "                if j.isalpha():\n",
    "                    l1.append(j)\n",
    "        l1.sort()\n",
    "        for i in l1:\n",
    "            for j in l:\n",
    "                if i in j:\n",
    "                    l2.append(j)\n",
    "        print(l2)\n",
    "    except Exception as e:\n",
    "        print(e)"
   ]
  },
  {
   "cell_type": "code",
   "execution_count": 8,
   "id": "66e4264e",
   "metadata": {},
   "outputs": [
    {
     "name": "stdout",
     "output_type": "stream",
     "text": [
      "['2344b', '932c', '832u32']\n"
     ]
    }
   ],
   "source": [
    "sort_by_letter([\"932c\", \"832u32\", \"2344b\"])"
   ]
  },
  {
   "cell_type": "markdown",
   "id": "5900fff4",
   "metadata": {},
   "source": [
    "#### 5. There are three cups on a table, at positions A, B, and C. At the start, there is a ball hidden under the cup at position B.\n",
    "\n",
    "However, I perform several swaps on the cups, which is notated as two letters. For example, if I swap the cups at positions A and B, I could notate this as AB or BA.\n",
    "\n",
    "Create a function that returns the letter position that the ball is at, once I finish swapping the cups. The swaps will be given to you as a list.\n",
    "\n",
    ">Example\n",
    "\n",
    "cup_swapping([\"AB\", \"CA\", \"AB\"]) ➞ \"C\"\n",
    "\n",
    "Ball begins at position B.  \n",
    "Cups A and B swap, so the ball is at position A.  \n",
    "Cups C and A swap, so the ball is at position C.  \n",
    "Cups A and B swap, but the ball is at position C, so it doesn't move.  "
   ]
  },
  {
   "cell_type": "code",
   "execution_count": 9,
   "id": "7d8ef22c",
   "metadata": {},
   "outputs": [],
   "source": [
    "def cup_swapping(lst, initial_pos):\n",
    "    try:\n",
    "        pos = initial_pos\n",
    "        for i in lst:\n",
    "            if pos in i:\n",
    "                pos = i.replace(pos, '')\n",
    "        return pos\n",
    "    except Exception as e:\n",
    "        print(e)"
   ]
  },
  {
   "cell_type": "code",
   "execution_count": 10,
   "id": "59c5e480",
   "metadata": {},
   "outputs": [
    {
     "data": {
      "text/plain": [
       "'C'"
      ]
     },
     "execution_count": 10,
     "metadata": {},
     "output_type": "execute_result"
    }
   ],
   "source": [
    "cup_swapping([\"AB\", \"CA\", \"AB\"], 'B')"
   ]
  }
 ],
 "metadata": {
  "kernelspec": {
   "display_name": "Python 3 (ipykernel)",
   "language": "python",
   "name": "python3"
  },
  "language_info": {
   "codemirror_mode": {
    "name": "ipython",
    "version": 3
   },
   "file_extension": ".py",
   "mimetype": "text/x-python",
   "name": "python",
   "nbconvert_exporter": "python",
   "pygments_lexer": "ipython3",
   "version": "3.9.7"
  }
 },
 "nbformat": 4,
 "nbformat_minor": 5
}
