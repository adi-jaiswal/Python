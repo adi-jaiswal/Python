{
 "cells": [
  {
   "cell_type": "markdown",
   "id": "9cf3a0c5",
   "metadata": {},
   "source": [
    "#### 1. Write a function that takes a list of lists and returns the value of all of the symbols in it, where each symbol adds or takes something from the total score. Symbol values:\n",
    "\n",
    "* '#' = 5\n",
    "* O = 3\n",
    "* X = 1\n",
    "* ! = -1\n",
    "* !! = -3\n",
    "* !!! = -5\n",
    "\n",
    "A list of lists containing 2 #s, a O, and a !!! would equal (0 + 5 + 5 + 3 - 5) = 8.\n",
    "\n",
    "If the final score is negative, return 0 (e.g. 3 #s, 3 !!s, 2 !!!s and a X would be (0 + 5 + 5 + 5 - 3 - 3 - 3 - 5 - 5 + 1) = -3, so return 0.\n",
    "\n",
    ">Examples\n",
    "\n",
    "check_score([\n",
    "  [\"#\", \"!\"],\n",
    "  [\"!!\", \"X\"]\n",
    "]) ➞ 2\n",
    "\n",
    "check_score([\n",
    "  [\"!!!\", \"O\", \"!\"],\n",
    "  [\"X\", \"#\", \"!!!\"],\n",
    "  [\"!!\", \"X\", \"O\"]\n",
    "]) ➞ 0\n"
   ]
  },
  {
   "cell_type": "code",
   "execution_count": 1,
   "id": "09b866ea",
   "metadata": {},
   "outputs": [],
   "source": [
    "def check_score():\n",
    "    try:\n",
    "        l = eval(input(\"Enter a list of lists: \"))\n",
    "        d = {\"#\" : 5, \"O\" : 3, \"X\" : 1, \"!\" : -1, \"!!\" : -3, \"!!!\" : -5}\n",
    "        n = 0\n",
    "        for i in l:\n",
    "            for j in i:\n",
    "                n = n + d[j]\n",
    "        if n>0:\n",
    "            return n\n",
    "        else:\n",
    "            return 0\n",
    "    except Exception as e:\n",
    "        print(e)"
   ]
  },
  {
   "cell_type": "code",
   "execution_count": 2,
   "id": "6ec233cd",
   "metadata": {},
   "outputs": [
    {
     "name": "stdout",
     "output_type": "stream",
     "text": [
      "Enter a list of lists: [ [\"#\", \"!\"], [\"!!\", \"X\"] ]\n"
     ]
    },
    {
     "data": {
      "text/plain": [
       "2"
      ]
     },
     "execution_count": 2,
     "metadata": {},
     "output_type": "execute_result"
    }
   ],
   "source": [
    "check_score()"
   ]
  },
  {
   "cell_type": "markdown",
   "id": "b7886176",
   "metadata": {},
   "source": [
    "#### 2. Create a function that takes a variable number of arguments, each argument representing the number of items in a group, and returns the number of permutations (combinations) of items that you could get by taking one item from each group.\n",
    "\n",
    ">Examples\n",
    "\n",
    "combinations(2, 3) ➞ 6\n",
    "\n",
    "combinations(3, 7, 4) ➞ 84\n",
    "\n",
    "combinations(2, 3, 4, 5) ➞ 120"
   ]
  },
  {
   "cell_type": "code",
   "execution_count": 3,
   "id": "a6cc8479",
   "metadata": {},
   "outputs": [],
   "source": [
    "def combinations():\n",
    "    try:\n",
    "        l = eval(input(\"Enter numbers seperated by comma: \"))\n",
    "        n = 1\n",
    "        for i in l:\n",
    "            n = n * i\n",
    "        return n\n",
    "    except Exception as e:\n",
    "        print(e)"
   ]
  },
  {
   "cell_type": "code",
   "execution_count": 4,
   "id": "6cc53950",
   "metadata": {},
   "outputs": [
    {
     "name": "stdout",
     "output_type": "stream",
     "text": [
      "Enter numbers seperated by comma: 2,3,4,5\n"
     ]
    },
    {
     "data": {
      "text/plain": [
       "120"
      ]
     },
     "execution_count": 4,
     "metadata": {},
     "output_type": "execute_result"
    }
   ],
   "source": [
    "combinations()"
   ]
  },
  {
   "cell_type": "markdown",
   "id": "92dd4c1f",
   "metadata": {},
   "source": [
    "#### 3. Create a function that takes a string as an argument and returns the Morse code equivalent.\n",
    "\n",
    ">Examples\n",
    "\n",
    "encode_morse(\"EDABBIT CHALLENGE\") ➞ \". -.. .- -... -... .. -   -.-. .... .- .-.. .-.. . -. --. .\"\n",
    "\n",
    "encode_morse(\"HELP ME !\") ➞ \".... . .-.. .--.   -- .   -.-.--\"\n",
    "\n",
    "This dictionary can be used for coding:\n",
    "\n",
    "char_to_dots = {\n",
    "  'A': '.-', 'B': '-...', 'C': '-.-.', 'D': '-..', 'E': '.', 'F': '..-.',\n",
    "  'G': '--.', 'H': '....', 'I': '..', 'J': '.---', 'K': '-.-', 'L': '.-..',\n",
    "  'M': '--', 'N': '-.', 'O': '---', 'P': '.--.', 'Q': '--.-', 'R': '.-.',\n",
    "  'S': '...', 'T': '-', 'U': '..-', 'V': '...-', 'W': '.--', 'X': '-..-',\n",
    "  'Y': '-.--', 'Z': '--..', ' ': ' ', '0': '-----',\n",
    "  '1': '.----', '2': '..---', '3': '...--', '4': '....-', '5': '.....',\n",
    "  '6': '-....', '7': '--...', '8': '---..', '9': '----.',\n",
    "  '&': '.-...', \"'\": '.----.', '@': '.--.-.', ')': '-.--.-', '(': '-.--.',\n",
    "  ':': '---...', ',': '--..--', '=': '-...-', '!': '-.-.--', '.': '.-.-.-',\n",
    "  '-': '-....-', '+': '.-.-.', '\"': '.-..-.', '?': '..--..', '/': '-..-.'\n",
    "}"
   ]
  },
  {
   "cell_type": "code",
   "execution_count": 5,
   "id": "4a7321a3",
   "metadata": {},
   "outputs": [],
   "source": [
    "def encode_morse():\n",
    "    try:\n",
    "        s = input(\"Enter a string: \")\n",
    "        char_to_dots = {\n",
    "                          'A': '.-', 'B': '-...', 'C': '-.-.', 'D': '-..', 'E': '.', 'F': '..-.',\n",
    "                          'G': '--.', 'H': '....', 'I': '..', 'J': '.---', 'K': '-.-', 'L': '.-..',\n",
    "                          'M': '--', 'N': '-.', 'O': '---', 'P': '.--.', 'Q': '--.-', 'R': '.-.',\n",
    "                          'S': '...', 'T': '-', 'U': '..-', 'V': '...-', 'W': '.--', 'X': '-..-',\n",
    "                          'Y': '-.--', 'Z': '--..', ' ': ' ', '0': '-----',\n",
    "                          '1': '.----', '2': '..---', '3': '...--', '4': '....-', '5': '.....',\n",
    "                          '6': '-....', '7': '--...', '8': '---..', '9': '----.',\n",
    "                          '&': '.-...', \"'\": '.----.', '@': '.--.-.', ')': '-.--.-', '(': '-.--.',\n",
    "                          ':': '---...', ',': '--..--', '=': '-...-', '!': '-.-.--', '.': '.-.-.-',\n",
    "                          '-': '-....-', '+': '.-.-.', '\"': '.-..-.', '?': '..--..', '/': '-..-.'\n",
    "                        }\n",
    "        s1 = ''\n",
    "        for i in s.upper():\n",
    "            s1 = s1 + char_to_dots[i]\n",
    "        return s1\n",
    "    except Exception as e:\n",
    "        print(e)"
   ]
  },
  {
   "cell_type": "code",
   "execution_count": 6,
   "id": "f22585b9",
   "metadata": {},
   "outputs": [
    {
     "name": "stdout",
     "output_type": "stream",
     "text": [
      "Enter a string: HELP ME!\n"
     ]
    },
    {
     "data": {
      "text/plain": [
       "'......-...--. --.-.-.--'"
      ]
     },
     "execution_count": 6,
     "metadata": {},
     "output_type": "execute_result"
    }
   ],
   "source": [
    "encode_morse()"
   ]
  },
  {
   "cell_type": "markdown",
   "id": "ee5092b5",
   "metadata": {},
   "source": [
    "#### 4.  Write a function that takes a number and returns True if it's a prime; False otherwise. The number can be 2^64-1 (2 to the power of 63, not XOR). With the standard technique it would be O(2^64-1), which is much too large for the 10 second time limit.\n",
    "\n",
    ">Examples\n",
    "\n",
    "prime(7) ➞ True\n",
    "\n",
    "prime(56963) ➞ True\n",
    "\n",
    "prime(5151512515524) ➞ False"
   ]
  },
  {
   "cell_type": "code",
   "execution_count": 7,
   "id": "99ae7126",
   "metadata": {},
   "outputs": [],
   "source": [
    "def prime():\n",
    "    try:\n",
    "        n = int(input(\"Enter a number: \"))\n",
    "        if n == 1:\n",
    "            return False\n",
    "        elif n == 2:\n",
    "            return True\n",
    "        else:\n",
    "            for i in range(2,n):\n",
    "                if n%i == 0:\n",
    "                    return False\n",
    "            return True\n",
    "    except Exception as e:\n",
    "        print(e)"
   ]
  },
  {
   "cell_type": "code",
   "execution_count": 8,
   "id": "a655aa2a",
   "metadata": {},
   "outputs": [
    {
     "name": "stdout",
     "output_type": "stream",
     "text": [
      "Enter a number: 56963\n"
     ]
    },
    {
     "data": {
      "text/plain": [
       "True"
      ]
     },
     "execution_count": 8,
     "metadata": {},
     "output_type": "execute_result"
    }
   ],
   "source": [
    "prime()"
   ]
  },
  {
   "cell_type": "markdown",
   "id": "dc2354ac",
   "metadata": {},
   "source": [
    "#### 5.  Create a function that converts a word to a bitstring and then to a boolean list based on the following criteria:\n",
    "\n",
    "    1. Locate the position of the letter in the English alphabet (from 1 to 26).\n",
    "    2. Odd positions will be represented as 1 and 0 otherwise.\n",
    "    3. Convert the represented positions to boolean values, 1 for True and 0 for False.\n",
    "    4. Store the conversions into an array.\n",
    "\n",
    ">Examples\n",
    "\n",
    "to_boolean_list(\"deep\") ➞ [False, True, True, False]\n",
    "* deep converts to 0110\n",
    "* d is the 4th alphabet - 0\n",
    "* e is the 5th alphabet - 1\n",
    "* e is the 5th alphabet - 1\n",
    "* p is the 16th alphabet - 0\n",
    "\n",
    "to_boolean_list(\"loves\") ➞ [False, True, False, True, True]\n",
    "\n",
    "to_boolean_list(\"tesh\") ➞ [False, True, True, False]"
   ]
  },
  {
   "cell_type": "code",
   "execution_count": 9,
   "id": "0749fdfd",
   "metadata": {},
   "outputs": [],
   "source": [
    "import string\n",
    "\n",
    "def to_boolean_list():\n",
    "    try:\n",
    "        s = input(\"Enter a string: \")\n",
    "        l = []\n",
    "        for i in s.lower():\n",
    "            if (ord(i)-96)%2 == 0:\n",
    "                l.append(False)\n",
    "            else:\n",
    "                l.append(True)\n",
    "        return l\n",
    "    except Exception as e:\n",
    "        print(e)"
   ]
  },
  {
   "cell_type": "code",
   "execution_count": 10,
   "id": "cbdb6598",
   "metadata": {},
   "outputs": [
    {
     "name": "stdout",
     "output_type": "stream",
     "text": [
      "Enter a string: loves\n"
     ]
    },
    {
     "data": {
      "text/plain": [
       "[False, True, False, True, True]"
      ]
     },
     "execution_count": 10,
     "metadata": {},
     "output_type": "execute_result"
    }
   ],
   "source": [
    "to_boolean_list()"
   ]
  }
 ],
 "metadata": {
  "kernelspec": {
   "display_name": "Python 3 (ipykernel)",
   "language": "python",
   "name": "python3"
  },
  "language_info": {
   "codemirror_mode": {
    "name": "ipython",
    "version": 3
   },
   "file_extension": ".py",
   "mimetype": "text/x-python",
   "name": "python",
   "nbconvert_exporter": "python",
   "pygments_lexer": "ipython3",
   "version": "3.9.7"
  }
 },
 "nbformat": 4,
 "nbformat_minor": 5
}
