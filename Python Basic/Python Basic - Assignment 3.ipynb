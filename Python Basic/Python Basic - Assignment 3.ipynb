{
 "cells": [
  {
   "cell_type": "markdown",
   "id": "472fff57",
   "metadata": {},
   "source": [
    "#### 1. Why are functions advantageous to have in your programs?"
   ]
  },
  {
   "cell_type": "markdown",
   "id": "b2a2e7d8",
   "metadata": {},
   "source": [
    "Ans: Funtions are advantgeous because we can write a function once and can excute it as many times as we want. We don't need to write the same set of code again and again.\n",
    "* eg. Suppose we have created a function to convert KMS to MILES. So we will create a funtion only once and we can pass diffrent KMS values to get the MILES value."
   ]
  },
  {
   "cell_type": "markdown",
   "id": "1d5d2603",
   "metadata": {},
   "source": [
    "#### 2. When does the code in a function run: when it's specified or when it's called?"
   ]
  },
  {
   "cell_type": "markdown",
   "id": "ec2aa9d2",
   "metadata": {},
   "source": [
    "Ans: The code inside a function runs when it is called."
   ]
  },
  {
   "cell_type": "markdown",
   "id": "5fc02062",
   "metadata": {},
   "source": [
    "#### 3. What statement creates a function?"
   ]
  },
  {
   "cell_type": "markdown",
   "id": "09aa4157",
   "metadata": {},
   "source": [
    "Ans: We can create a funtion using \"def\"."
   ]
  },
  {
   "cell_type": "markdown",
   "id": "d24ac358",
   "metadata": {},
   "source": [
    "#### 4.  What is the difference between a function and a function call?"
   ]
  },
  {
   "cell_type": "markdown",
   "id": "e0af0ab1",
   "metadata": {},
   "source": [
    "Ans: When we create a function and we call it when we want to use it."
   ]
  },
  {
   "cell_type": "code",
   "execution_count": 1,
   "id": "f3abdcb0",
   "metadata": {},
   "outputs": [
    {
     "data": {
      "text/plain": [
       "9"
      ]
     },
     "execution_count": 1,
     "metadata": {},
     "output_type": "execute_result"
    }
   ],
   "source": [
    "def X(a,b):  # This is the function\n",
    "    return a+b\n",
    "\n",
    "X(4,5)  # Here we have called to funtion to use it"
   ]
  },
  {
   "cell_type": "markdown",
   "id": "5a304d9f",
   "metadata": {},
   "source": [
    "#### 5. How many global scopes are there in a Python program? How many local scopes?"
   ]
  },
  {
   "cell_type": "markdown",
   "id": "320c96f9",
   "metadata": {},
   "source": [
    "Ans: One global scope, and one local scope."
   ]
  },
  {
   "cell_type": "markdown",
   "id": "ae4e9a09",
   "metadata": {},
   "source": [
    "#### 6. What happens to variables in a local scope when the function call returns?"
   ]
  },
  {
   "cell_type": "markdown",
   "id": "dc1a2632",
   "metadata": {},
   "source": [
    "Ans: When the function call returns, all the varibles in the local scope gets vanished."
   ]
  },
  {
   "cell_type": "markdown",
   "id": "3e351d38",
   "metadata": {},
   "source": [
    "#### 7. What is the concept of a return value? Is it possible to have a return value in an expression?"
   ]
  },
  {
   "cell_type": "markdown",
   "id": "a69e439b",
   "metadata": {},
   "source": [
    "Ans: When we call a funtion it gets evaluated and returns the value. Yes it is possible to have a return value in an expression."
   ]
  },
  {
   "cell_type": "markdown",
   "id": "71669be8",
   "metadata": {},
   "source": [
    "#### 8. If a function does not have a return statement, what is the return value of a call to that function?"
   ]
  },
  {
   "cell_type": "markdown",
   "id": "3338e341",
   "metadata": {},
   "source": [
    "Ans: If a function does not have a return statement it will not return any value. But if some piece of code is written inside that function it will get executed and not return any value when we call it."
   ]
  },
  {
   "cell_type": "markdown",
   "id": "eef52b66",
   "metadata": {},
   "source": [
    "#### 9. How do you make a function variable refer to the global variable?"
   ]
  },
  {
   "cell_type": "markdown",
   "id": "4fb73bc8",
   "metadata": {},
   "source": [
    "Ans: If we want to use a global varible inside a funtion we can use the \"global\" keyword to declare that variable."
   ]
  },
  {
   "cell_type": "markdown",
   "id": "5c421f60",
   "metadata": {},
   "source": [
    "#### 10. What is the data type of None?"
   ]
  },
  {
   "cell_type": "code",
   "execution_count": 2,
   "id": "8b12eb37",
   "metadata": {},
   "outputs": [
    {
     "data": {
      "text/plain": [
       "NoneType"
      ]
     },
     "execution_count": 2,
     "metadata": {},
     "output_type": "execute_result"
    }
   ],
   "source": [
    "type(None)"
   ]
  },
  {
   "cell_type": "markdown",
   "id": "da99e055",
   "metadata": {},
   "source": [
    "#### 11. What does the sentence import areallyourpetsnamederic do?"
   ]
  },
  {
   "cell_type": "markdown",
   "id": "ff7d9b1c",
   "metadata": {},
   "source": [
    "Ans: It will import the module \"areallyourpetsnamederic\", if there is available any else it will give an error."
   ]
  },
  {
   "cell_type": "markdown",
   "id": "a1456860",
   "metadata": {},
   "source": [
    "#### 12. If you had a bacon() feature in a spam module, what would you call it after importing spam?"
   ]
  },
  {
   "cell_type": "markdown",
   "id": "ace24ad7",
   "metadata": {},
   "source": [
    "Ans: spam.bacon()"
   ]
  },
  {
   "cell_type": "markdown",
   "id": "b18735db",
   "metadata": {},
   "source": [
    "#### 13. What can you do to save a programme from crashing if it encounters an error?"
   ]
  },
  {
   "cell_type": "markdown",
   "id": "84763da2",
   "metadata": {},
   "source": [
    "Ans: We can write the code in \"try\" and \"except\" block and it will handle the error."
   ]
  },
  {
   "cell_type": "markdown",
   "id": "47451489",
   "metadata": {},
   "source": [
    "#### 14. What is the purpose of the try clause? What is the purpose of the except clause?"
   ]
  },
  {
   "cell_type": "markdown",
   "id": "36d91b4d",
   "metadata": {},
   "source": [
    "Ans: If some code error occurs in try block then it moves to except block and executes it."
   ]
  }
 ],
 "metadata": {
  "kernelspec": {
   "display_name": "Python 3 (ipykernel)",
   "language": "python",
   "name": "python3"
  },
  "language_info": {
   "codemirror_mode": {
    "name": "ipython",
    "version": 3
   },
   "file_extension": ".py",
   "mimetype": "text/x-python",
   "name": "python",
   "nbconvert_exporter": "python",
   "pygments_lexer": "ipython3",
   "version": "3.9.7"
  }
 },
 "nbformat": 4,
 "nbformat_minor": 5
}
