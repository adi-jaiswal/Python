{
 "cells": [
  {
   "cell_type": "markdown",
   "id": "59b79301",
   "metadata": {},
   "source": [
    "#### 1. In the below elements which of them are values or an expression? eg:- values can be integer or string and expressions will be mathematical operators.\n",
    "\n",
    "#### *, 'hello', -87.8, -, /, +, 6 "
   ]
  },
  {
   "cell_type": "markdown",
   "id": "5bc3ddb1",
   "metadata": {},
   "source": [
    "Ans:\n",
    "\n",
    "Values - 'hello', -87.8, 6\n",
    "\n",
    "Expression/ Operators - *, -, /, +"
   ]
  },
  {
   "cell_type": "markdown",
   "id": "a59ff3f0",
   "metadata": {},
   "source": [
    "#### 2. What is the difference between string and variable?"
   ]
  },
  {
   "cell_type": "markdown",
   "id": "359c5e10",
   "metadata": {},
   "source": [
    "Ans:\n",
    "\n",
    "Variable - An identifier to store value in a memory location. e.g. x = 10\n",
    "\n",
    "String - Any variable inside a \"  \" or '  ' is considered as a string. e.g. x = \"10\" OR y = \"hello\""
   ]
  },
  {
   "cell_type": "markdown",
   "id": "cd83c138",
   "metadata": {},
   "source": [
    "#### 3. Describe three different data types."
   ]
  },
  {
   "cell_type": "markdown",
   "id": "d3041d6c",
   "metadata": {},
   "source": [
    "Ans: Three basic data types are:\n",
    "\n",
    "int - Stores integer values e.g. 1, 56, 332\n",
    "\n",
    "float - Stores decimal values e.g. 12.4, 11134.23\n",
    "\n",
    "complex - Stores complex values e.g. 1+2j, 3+6j"
   ]
  },
  {
   "cell_type": "markdown",
   "id": "bd2eb662",
   "metadata": {},
   "source": [
    "#### 4. What is an expression made up of? What do all expressions do?"
   ]
  },
  {
   "cell_type": "markdown",
   "id": "a7a4ac17",
   "metadata": {},
   "source": [
    "Ans: Combination of values, variables and operators"
   ]
  },
  {
   "cell_type": "code",
   "execution_count": 1,
   "id": "fb45ff7d",
   "metadata": {},
   "outputs": [
    {
     "data": {
      "text/plain": [
       "33.91304347826087"
      ]
     },
     "execution_count": 1,
     "metadata": {},
     "output_type": "execute_result"
    }
   ],
   "source": [
    "42+3-15*17/23"
   ]
  },
  {
   "cell_type": "markdown",
   "id": "f9ff5cb5",
   "metadata": {},
   "source": [
    "#### 5. This assignment statements, like spam = 10. What is the difference between an expression and a statement?"
   ]
  },
  {
   "cell_type": "markdown",
   "id": "9f7109c2",
   "metadata": {},
   "source": [
    "Ans: An expression always executes a value and a statement creates a variable or displays a value."
   ]
  },
  {
   "cell_type": "code",
   "execution_count": 2,
   "id": "5325646a",
   "metadata": {},
   "outputs": [
    {
     "name": "stdout",
     "output_type": "stream",
     "text": [
      "8\n"
     ]
    }
   ],
   "source": [
    "a = 2 # Statement\n",
    "b = 6 \n",
    "print(a+b) # Expression "
   ]
  },
  {
   "cell_type": "code",
   "execution_count": 3,
   "id": "44d6caec",
   "metadata": {},
   "outputs": [
    {
     "data": {
      "text/plain": [
       "33.91304347826087"
      ]
     },
     "execution_count": 3,
     "metadata": {},
     "output_type": "execute_result"
    }
   ],
   "source": [
    "42+3-15*17/23 # Expression"
   ]
  },
  {
   "cell_type": "markdown",
   "id": "5f5adace",
   "metadata": {},
   "source": [
    "#### 6. After running the following code, what does the variable bacon contain?\n",
    "bacon = 22\n",
    "\n",
    "bacon + 1"
   ]
  },
  {
   "cell_type": "markdown",
   "id": "f9d2f185",
   "metadata": {},
   "source": [
    "Ans:"
   ]
  },
  {
   "cell_type": "code",
   "execution_count": 4,
   "id": "460a5834",
   "metadata": {},
   "outputs": [
    {
     "name": "stdout",
     "output_type": "stream",
     "text": [
      "22\n"
     ]
    }
   ],
   "source": [
    "bacon = 22\n",
    "bacon + 1\n",
    "print(bacon)"
   ]
  },
  {
   "cell_type": "markdown",
   "id": "cbca807a",
   "metadata": {},
   "source": [
    "#### 7. What should the values of the following two terms be?\n",
    "'spam' + 'spamspam'\n",
    "\n",
    "'spam' * 3"
   ]
  },
  {
   "cell_type": "markdown",
   "id": "ae863f2f",
   "metadata": {},
   "source": [
    "Ans:"
   ]
  },
  {
   "cell_type": "code",
   "execution_count": 5,
   "id": "87e78fe8",
   "metadata": {},
   "outputs": [
    {
     "data": {
      "text/plain": [
       "'spamspamspam'"
      ]
     },
     "execution_count": 5,
     "metadata": {},
     "output_type": "execute_result"
    }
   ],
   "source": [
    "'spam' + 'spamspam'"
   ]
  },
  {
   "cell_type": "code",
   "execution_count": 6,
   "id": "63cf583c",
   "metadata": {},
   "outputs": [
    {
     "data": {
      "text/plain": [
       "'spamspamspam'"
      ]
     },
     "execution_count": 6,
     "metadata": {},
     "output_type": "execute_result"
    }
   ],
   "source": [
    "'spam' * 3"
   ]
  },
  {
   "cell_type": "markdown",
   "id": "1e746059",
   "metadata": {},
   "source": [
    "#### 8. Why is eggs a valid variable name while 100 is invalid?"
   ]
  },
  {
   "cell_type": "markdown",
   "id": "fdf0897e",
   "metadata": {},
   "source": [
    "Ans: Variable name cannot start with a number"
   ]
  },
  {
   "cell_type": "code",
   "execution_count": 7,
   "id": "99f76f5c",
   "metadata": {},
   "outputs": [
    {
     "ename": "SyntaxError",
     "evalue": "cannot assign to literal (Temp/ipykernel_10776/2060288474.py, line 2)",
     "output_type": "error",
     "traceback": [
      "\u001b[1;36m  File \u001b[1;32m\"C:\\Users\\adity\\AppData\\Local\\Temp/ipykernel_10776/2060288474.py\"\u001b[1;36m, line \u001b[1;32m2\u001b[0m\n\u001b[1;33m    100 = \"data\"\u001b[0m\n\u001b[1;37m    ^\u001b[0m\n\u001b[1;31mSyntaxError\u001b[0m\u001b[1;31m:\u001b[0m cannot assign to literal\n"
     ]
    }
   ],
   "source": [
    "eggs = \"data\"\n",
    "100 = \"data\""
   ]
  },
  {
   "cell_type": "markdown",
   "id": "ee5786b4",
   "metadata": {},
   "source": [
    "#### 9. What three functions can be used to get the integer, floating-point number, or string version of a value?"
   ]
  },
  {
   "cell_type": "markdown",
   "id": "4d0e0693",
   "metadata": {},
   "source": [
    "Ans: integer - int(), floating point number - float(), string - str()"
   ]
  },
  {
   "cell_type": "code",
   "execution_count": 8,
   "id": "6f9f847c",
   "metadata": {},
   "outputs": [
    {
     "data": {
      "text/plain": [
       "10"
      ]
     },
     "execution_count": 8,
     "metadata": {},
     "output_type": "execute_result"
    }
   ],
   "source": [
    "int(10.2421)"
   ]
  },
  {
   "cell_type": "code",
   "execution_count": 9,
   "id": "34dcd999",
   "metadata": {},
   "outputs": [
    {
     "data": {
      "text/plain": [
       "23.0"
      ]
     },
     "execution_count": 9,
     "metadata": {},
     "output_type": "execute_result"
    }
   ],
   "source": [
    "float(23)"
   ]
  },
  {
   "cell_type": "code",
   "execution_count": 10,
   "id": "ab5c3261",
   "metadata": {},
   "outputs": [
    {
     "data": {
      "text/plain": [
       "'12'"
      ]
     },
     "execution_count": 10,
     "metadata": {},
     "output_type": "execute_result"
    }
   ],
   "source": [
    "str(12)"
   ]
  },
  {
   "cell_type": "markdown",
   "id": "2d9d3823",
   "metadata": {},
   "source": [
    "#### 10. Why does this expression cause an error? How can you fix it?\n",
    "'I have eaten ' + 99 + ' burritos.'"
   ]
  },
  {
   "cell_type": "markdown",
   "id": "5e88d250",
   "metadata": {},
   "source": [
    "Ans:"
   ]
  },
  {
   "cell_type": "code",
   "execution_count": 11,
   "id": "ee1aba29",
   "metadata": {},
   "outputs": [
    {
     "name": "stdout",
     "output_type": "stream",
     "text": [
      "I have eaten 99 burritos.\n"
     ]
    }
   ],
   "source": [
    "print('I have eaten ' + str(99) + ' burritos.')"
   ]
  }
 ],
 "metadata": {
  "kernelspec": {
   "display_name": "Python 3 (ipykernel)",
   "language": "python",
   "name": "python3"
  },
  "language_info": {
   "codemirror_mode": {
    "name": "ipython",
    "version": 3
   },
   "file_extension": ".py",
   "mimetype": "text/x-python",
   "name": "python",
   "nbconvert_exporter": "python",
   "pygments_lexer": "ipython3",
   "version": "3.9.7"
  }
 },
 "nbformat": 4,
 "nbformat_minor": 5
}
