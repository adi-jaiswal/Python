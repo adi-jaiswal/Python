{
 "cells": [
  {
   "cell_type": "markdown",
   "id": "50526943",
   "metadata": {},
   "source": [
    "#### 1. Given two arrays, write a function that will return an array with common elements in both arrays (order doesn’t matter).  \n",
    "• All elements are positive integers  \n",
    "• If no common element return [-1]  \n",
    "• If one element is common multiple times add it to returning array multiple times.  \n",
    "\n",
    "• Sample  \n",
    "o input: a=[1,2,1,3], b=[1,1,1,4] output: [1,1]   \n",
    "o input: a=[9,5,4,9], b=[5,5,9] output: [9,5]   \n",
    "o input: a=[1,2,3], b=[4,5,6] output: [-1]  "
   ]
  },
  {
   "cell_type": "code",
   "execution_count": 1,
   "id": "146d8191",
   "metadata": {},
   "outputs": [],
   "source": [
    "def get_common():\n",
    "    try:\n",
    "        a = eval(input(\"Enter first list: \"))\n",
    "        b = eval(input(\"Enter second list: \"))\n",
    "        l = []\n",
    "        for i in range(0,len(a)):\n",
    "                if a[i] in b:\n",
    "                    l.append(a[i])\n",
    "                    b.remove(a[i])\n",
    "        if len(l) == 0:\n",
    "            l.append(-1)\n",
    "            print(l)\n",
    "        else:\n",
    "            print(l)\n",
    "    except Exception as e:\n",
    "        print(e)"
   ]
  },
  {
   "cell_type": "code",
   "execution_count": 2,
   "id": "74fcc5ab",
   "metadata": {},
   "outputs": [
    {
     "name": "stdout",
     "output_type": "stream",
     "text": [
      "Enter first list: [9,5,4,9]\n",
      "Enter second list: [5,5,9]\n",
      "[9, 5]\n"
     ]
    }
   ],
   "source": [
    "get_common()"
   ]
  },
  {
   "cell_type": "code",
   "execution_count": 3,
   "id": "0ebcedcf",
   "metadata": {},
   "outputs": [
    {
     "name": "stdout",
     "output_type": "stream",
     "text": [
      "Enter first list: [1,2,1,3]\n",
      "Enter second list: [1,1,1,4]\n",
      "[1, 1]\n"
     ]
    }
   ],
   "source": [
    "get_common()"
   ]
  },
  {
   "cell_type": "code",
   "execution_count": 4,
   "id": "2e137a50",
   "metadata": {},
   "outputs": [
    {
     "name": "stdout",
     "output_type": "stream",
     "text": [
      "Enter first list: [1,2,3]\n",
      "Enter second list: [4,5,6]\n",
      "[-1]\n"
     ]
    }
   ],
   "source": [
    "get_common()"
   ]
  },
  {
   "cell_type": "markdown",
   "id": "8dc45551",
   "metadata": {},
   "source": [
    "#### 2. Given a receipt of grocery bought. Write an SQL query to return 5th cheapest article in the list."
   ]
  },
  {
   "cell_type": "code",
   "execution_count": null,
   "id": "9238be2f",
   "metadata": {},
   "outputs": [],
   "source": [
    "# Considering few thigs before writing the query\n",
    "1. Table Name - receipt\n",
    "2. Columns - sno, article_name, price\n",
    "\n",
    "WITH price_rnk AS  \n",
    "    (SELECT  \n",
    "         article_name,  \n",
    "         price,  \n",
    "         ROW_NUMBER() OVER(ORDER BY price) AS RNK  \n",
    "     FROM receipt)  \n",
    "\n",
    "SELECT  \n",
    "    article_name  \n",
    "FROM price_rnk  \n",
    "WHERE RNK = 5;"
   ]
  }
 ],
 "metadata": {
  "kernelspec": {
   "display_name": "Python 3 (ipykernel)",
   "language": "python",
   "name": "python3"
  },
  "language_info": {
   "codemirror_mode": {
    "name": "ipython",
    "version": 3
   },
   "file_extension": ".py",
   "mimetype": "text/x-python",
   "name": "python",
   "nbconvert_exporter": "python",
   "pygments_lexer": "ipython3",
   "version": "3.9.7"
  }
 },
 "nbformat": 4,
 "nbformat_minor": 5
}
