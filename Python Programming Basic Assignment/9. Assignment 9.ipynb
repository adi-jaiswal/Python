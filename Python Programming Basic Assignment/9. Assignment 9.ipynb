{
 "cells": [
  {
   "cell_type": "markdown",
   "id": "0adc7f4c",
   "metadata": {},
   "source": [
    "#### 1. Write a Python program to check if the given number is a Disarium Number?"
   ]
  },
  {
   "cell_type": "code",
   "execution_count": 1,
   "id": "c28dd5ec",
   "metadata": {},
   "outputs": [],
   "source": [
    "def isDisarium():\n",
    "    try:\n",
    "        a = int(input(\"Enter a number: \"))\n",
    "        temp = a\n",
    "        r = 0\n",
    "        s = 0\n",
    "        l = len(str(a))\n",
    "        while temp>0:\n",
    "            r = temp % 10\n",
    "            s = s + (r**l)\n",
    "            temp = temp//10\n",
    "            l = l - 1\n",
    "        if s == a:\n",
    "            print(f\"{a} is a Disarium Number\")\n",
    "        else:\n",
    "            print(f\"{a} is not a Disarium Number\")\n",
    "    except Exception as e:\n",
    "        print(e)"
   ]
  },
  {
   "cell_type": "code",
   "execution_count": 2,
   "id": "cf3edc65",
   "metadata": {},
   "outputs": [
    {
     "name": "stdout",
     "output_type": "stream",
     "text": [
      "Enter a number: 135\n",
      "135 is a Disarium Number\n"
     ]
    }
   ],
   "source": [
    "isDisarium()"
   ]
  },
  {
   "cell_type": "markdown",
   "id": "1d98b451",
   "metadata": {},
   "source": [
    "#### 2. Write a Python program to print all disarium numbers between 1 to 100?"
   ]
  },
  {
   "cell_type": "code",
   "execution_count": 3,
   "id": "16b4f179",
   "metadata": {},
   "outputs": [],
   "source": [
    "def getDisarium(a):\n",
    "    try:\n",
    "        temp = a\n",
    "        r = 0\n",
    "        s = 0\n",
    "        l = len(str(a))\n",
    "        while temp>0:\n",
    "            r = temp % 10\n",
    "            s = s + (r**l)\n",
    "            temp = temp//10\n",
    "            l = l - 1\n",
    "        return s\n",
    "    except Exception as e:\n",
    "        print(e)"
   ]
  },
  {
   "cell_type": "code",
   "execution_count": 4,
   "id": "f664cdb7",
   "metadata": {},
   "outputs": [
    {
     "name": "stdout",
     "output_type": "stream",
     "text": [
      "Enter a lower range: 1\n",
      "Enter an upper range: 100\n",
      "1 2 3 4 5 6 7 8 9 89 "
     ]
    }
   ],
   "source": [
    "result = 0\n",
    "lower = int(input(\"Enter a lower range: \"))\n",
    "upper = int(input(\"Enter an upper range: \"))\n",
    "for i in range(lower, upper):\n",
    "    result = getDisarium(i)\n",
    "    if result == i:\n",
    "        print(i, end = ' ')"
   ]
  },
  {
   "cell_type": "markdown",
   "id": "153eded6",
   "metadata": {},
   "source": [
    "#### 3. Write a Python program to check if the given number is Happy Number?"
   ]
  },
  {
   "cell_type": "code",
   "execution_count": 5,
   "id": "5f4c6ac9",
   "metadata": {},
   "outputs": [],
   "source": [
    "def sumOfSq(n):\n",
    "    s = 0\n",
    "    while n>0:\n",
    "        r = n % 10\n",
    "        s += r**2\n",
    "        n = n//10\n",
    "    return s"
   ]
  },
  {
   "cell_type": "code",
   "execution_count": 6,
   "id": "5f5c408b",
   "metadata": {},
   "outputs": [],
   "source": [
    "def isHappy():\n",
    "    try:\n",
    "        n = int(input(\"Enter a number: \"))\n",
    "        temp = n\n",
    "        x = set()\n",
    "        while n not in x:\n",
    "            x.add(n)\n",
    "            n = sumOfSq(n)\n",
    "            if n == 1:\n",
    "                return f\"{temp} is a Happy Number\"\n",
    "        return f\"{temp} is not a Happy Number\"\n",
    "    except Exception as e:\n",
    "        print(e)"
   ]
  },
  {
   "cell_type": "code",
   "execution_count": 7,
   "id": "c2322216",
   "metadata": {},
   "outputs": [
    {
     "name": "stdout",
     "output_type": "stream",
     "text": [
      "Enter a number: 19\n"
     ]
    },
    {
     "data": {
      "text/plain": [
       "'19 is a Happy Number'"
      ]
     },
     "execution_count": 7,
     "metadata": {},
     "output_type": "execute_result"
    }
   ],
   "source": [
    "isHappy()"
   ]
  },
  {
   "cell_type": "markdown",
   "id": "659755f6",
   "metadata": {},
   "source": [
    "#### 4. Write a Python program to print all happy numbers between 1 and 100?"
   ]
  },
  {
   "cell_type": "code",
   "execution_count": 8,
   "id": "bf39816c",
   "metadata": {},
   "outputs": [],
   "source": [
    "def sumOfSq(n):\n",
    "    s = 0\n",
    "    while n>0:\n",
    "        r = n % 10\n",
    "        s += r**2\n",
    "        n = n//10\n",
    "    return s"
   ]
  },
  {
   "cell_type": "code",
   "execution_count": 9,
   "id": "ee106b40",
   "metadata": {},
   "outputs": [],
   "source": [
    "def getHappy(n):\n",
    "    try:\n",
    "        temp = n\n",
    "        x = set()\n",
    "        while n not in x:\n",
    "            x.add(n)\n",
    "            n = sumOfSq(n)\n",
    "            if n == 1:\n",
    "                return temp\n",
    "    except Exception as e:\n",
    "        print(e)"
   ]
  },
  {
   "cell_type": "code",
   "execution_count": 10,
   "id": "9556130c",
   "metadata": {},
   "outputs": [
    {
     "name": "stdout",
     "output_type": "stream",
     "text": [
      "Enter lower range: 1\n",
      "Enter upper range: 100\n",
      "1 7 10 13 19 23 28 31 32 44 49 68 70 79 82 86 91 94 97 "
     ]
    }
   ],
   "source": [
    "result = 0\n",
    "lower = int(input(\"Enter lower range: \"))\n",
    "upper = int(input(\"Enter upper range: \"))\n",
    "for i in range(lower, upper):\n",
    "    result = getHappy(i)\n",
    "    if result == i:\n",
    "        print(i, end = ' ')"
   ]
  },
  {
   "cell_type": "markdown",
   "id": "1ded7195",
   "metadata": {},
   "source": [
    "#### 5. Write a Python program to determine whether the given number is a Harshad Number?"
   ]
  },
  {
   "cell_type": "code",
   "execution_count": 11,
   "id": "930f5bc3",
   "metadata": {},
   "outputs": [],
   "source": [
    "def isHarshad():\n",
    "    try:\n",
    "        n = int(input(\"Enter a number: \"))\n",
    "        temp = n\n",
    "        s = 0\n",
    "        r = 0\n",
    "        while temp>0:\n",
    "            r = temp % 10\n",
    "            s = s + r\n",
    "            temp = temp//10\n",
    "        if n % s == 0:\n",
    "            return f\"{n} is a Harshad Number\"\n",
    "        return f\"{n} is not a Harshad Number\"\n",
    "    except Exception as e:\n",
    "        print(e)"
   ]
  },
  {
   "cell_type": "code",
   "execution_count": 12,
   "id": "b33c772d",
   "metadata": {},
   "outputs": [
    {
     "name": "stdout",
     "output_type": "stream",
     "text": [
      "Enter a number: 18\n"
     ]
    },
    {
     "data": {
      "text/plain": [
       "'18 is a Harshad Number'"
      ]
     },
     "execution_count": 12,
     "metadata": {},
     "output_type": "execute_result"
    }
   ],
   "source": [
    "isHarshad()"
   ]
  },
  {
   "cell_type": "markdown",
   "id": "8fb6a79d",
   "metadata": {},
   "source": [
    "#### 6. Write a Python program to print all pronic numbers between 1 and 100?"
   ]
  },
  {
   "cell_type": "code",
   "execution_count": 13,
   "id": "2885781e",
   "metadata": {},
   "outputs": [],
   "source": [
    "def getPronic(n):\n",
    "    try:\n",
    "        for i in range(0, n):\n",
    "            if i*(i+1) == n:\n",
    "                return n\n",
    "    except Exception as e:\n",
    "        print(e)"
   ]
  },
  {
   "cell_type": "code",
   "execution_count": 14,
   "id": "927447ae",
   "metadata": {},
   "outputs": [
    {
     "name": "stdout",
     "output_type": "stream",
     "text": [
      "Enter a lower range: 1\n",
      "Enter an upper range: 100\n",
      "2 6 12 20 30 42 56 72 90 "
     ]
    }
   ],
   "source": [
    "result = 0\n",
    "lower = int(input(\"Enter a lower range: \"))\n",
    "upper = int(input(\"Enter an upper range: \"))\n",
    "for i in range(lower, upper):\n",
    "    result = getPronic(i)\n",
    "    if result == i:\n",
    "        print(i, end = ' ')"
   ]
  }
 ],
 "metadata": {
  "kernelspec": {
   "display_name": "Python 3 (ipykernel)",
   "language": "python",
   "name": "python3"
  },
  "language_info": {
   "codemirror_mode": {
    "name": "ipython",
    "version": 3
   },
   "file_extension": ".py",
   "mimetype": "text/x-python",
   "name": "python",
   "nbconvert_exporter": "python",
   "pygments_lexer": "ipython3",
   "version": "3.9.7"
  }
 },
 "nbformat": 4,
 "nbformat_minor": 5
}
