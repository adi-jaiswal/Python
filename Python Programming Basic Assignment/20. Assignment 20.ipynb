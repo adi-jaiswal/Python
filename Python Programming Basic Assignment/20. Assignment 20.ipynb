{
 "cells": [
  {
   "cell_type": "markdown",
   "id": "14cd3d78",
   "metadata": {},
   "source": [
    "#### 1. Create a function that takes a list of strings and integers, and filters out the list so that it returns a list of integers only.\n",
    "\n",
    ">Examples\n",
    "\n",
    "filter_list([1, 2, 3, \"a\", \"b\", 4]) ➞ [1, 2, 3, 4]\n",
    "\n",
    "filter_list([\"A\", 0, \"Edabit\", 1729, \"Python\", \"1729\"]) ➞ [0, 1729]\n",
    "\n",
    "filter_list([\"Nothing\", \"here\"]) ➞ []"
   ]
  },
  {
   "cell_type": "code",
   "execution_count": 1,
   "id": "2c8dd3f2",
   "metadata": {},
   "outputs": [],
   "source": [
    "def filter_list():\n",
    "    try:\n",
    "        s = eval(input(\"Enter a list containing strings and integers: \"))\n",
    "        l  = []\n",
    "        for i in s:\n",
    "            if type(i) == int:\n",
    "                l.append(i)\n",
    "        return l\n",
    "    except Exception as e:\n",
    "        print(e)"
   ]
  },
  {
   "cell_type": "code",
   "execution_count": 2,
   "id": "1a1edb26",
   "metadata": {},
   "outputs": [
    {
     "name": "stdout",
     "output_type": "stream",
     "text": [
      "Enter a list containing strings and integers: [1, 2, 3, \"a\", \"b\", 4]\n"
     ]
    },
    {
     "data": {
      "text/plain": [
       "[1, 2, 3, 4]"
      ]
     },
     "execution_count": 2,
     "metadata": {},
     "output_type": "execute_result"
    }
   ],
   "source": [
    "filter_list()"
   ]
  },
  {
   "cell_type": "markdown",
   "id": "9b1181d0",
   "metadata": {},
   "source": [
    "#### 2. Given a list of numbers, create a function which returns the list but with each element's index in the list added to itself. This means you add 0 to the number at index 0, add 1 to the number at index 1, etc...\n",
    "\n",
    ">Examples\n",
    "\n",
    "add_indexes([0, 0, 0, 0, 0]) ➞ [0, 1, 2, 3, 4]\n",
    "\n",
    "add_indexes([1, 2, 3, 4, 5]) ➞ [1, 3, 5, 7, 9]\n",
    "\n",
    "add_indexes([5, 4, 3, 2, 1]) ➞ [5, 5, 5, 5, 5]"
   ]
  },
  {
   "cell_type": "code",
   "execution_count": 3,
   "id": "eb60dd3a",
   "metadata": {},
   "outputs": [],
   "source": [
    "def add_indexes():\n",
    "    try:\n",
    "        s = eval(input(\"Enter a list: \"))\n",
    "        l = []\n",
    "        for i in range(len(s)):\n",
    "            x = i + s[i]\n",
    "            l.append(x)\n",
    "        return l\n",
    "    except Exception as e:\n",
    "        print(e)"
   ]
  },
  {
   "cell_type": "code",
   "execution_count": 4,
   "id": "9731a3c9",
   "metadata": {},
   "outputs": [
    {
     "name": "stdout",
     "output_type": "stream",
     "text": [
      "Enter a list: [1, 2, 3, 4, 5]\n"
     ]
    },
    {
     "data": {
      "text/plain": [
       "[1, 3, 5, 7, 9]"
      ]
     },
     "execution_count": 4,
     "metadata": {},
     "output_type": "execute_result"
    }
   ],
   "source": [
    "add_indexes()"
   ]
  },
  {
   "cell_type": "markdown",
   "id": "e498455b",
   "metadata": {},
   "source": [
    "#### 3. Create a function that takes the height and radius of a cone as arguments and returns the volume of the cone rounded to the nearest hundredth. See the resources tab for the formula.\n",
    "\n",
    ">Examples\n",
    "\n",
    "cone_volume(3, 2) ➞ 12.57\n",
    "\n",
    "cone_volume(15, 6) ➞ 565.49\n",
    "\n",
    "cone_volume(18, 0) ➞ 0"
   ]
  },
  {
   "cell_type": "code",
   "execution_count": 5,
   "id": "5e0db99c",
   "metadata": {},
   "outputs": [],
   "source": [
    "import math\n",
    "\n",
    "def cone_volume():\n",
    "    try:\n",
    "        h = float(input(\"Enter the height of the cone: \"))\n",
    "        r = float(input(\"Enter the radius of the cone: \"))\n",
    "        V = 1/3 * (math.pi * (r**2) * h) \n",
    "        return round(V,2)\n",
    "    except Exception as e:\n",
    "        print(e)"
   ]
  },
  {
   "cell_type": "code",
   "execution_count": 6,
   "id": "45703be1",
   "metadata": {},
   "outputs": [
    {
     "name": "stdout",
     "output_type": "stream",
     "text": [
      "Enter the height of the cone: 15\n",
      "Enter the radius of the cone: 6\n"
     ]
    },
    {
     "data": {
      "text/plain": [
       "565.49"
      ]
     },
     "execution_count": 6,
     "metadata": {},
     "output_type": "execute_result"
    }
   ],
   "source": [
    "cone_volume()"
   ]
  },
  {
   "cell_type": "markdown",
   "id": "9acb204c",
   "metadata": {},
   "source": [
    "#### 4. This Triangular Number Sequence is generated from a pattern of dots that form a triangle. The first 5 numbers of the sequence, or dots, are: 1, 3, 6, 10, 15. This means that the first triangle has just one dot, the second one has three dots, the third one has 6 dots and so on. Write a function that gives the number of dots with its corresponding triangle number of the sequence.\n",
    "\n",
    ">Examples\n",
    "\n",
    "triangle(1) ➞ 1\n",
    "\n",
    "triangle(6) ➞ 21\n",
    "\n",
    "triangle(215) ➞ 23220"
   ]
  },
  {
   "cell_type": "code",
   "execution_count": 7,
   "id": "1301828c",
   "metadata": {},
   "outputs": [],
   "source": [
    "def triangle():\n",
    "    try:\n",
    "        n = int(input(\"Enter the number: \"))\n",
    "        a = 1\n",
    "        for i in range(2,n+1):\n",
    "            a = a + i\n",
    "        return a\n",
    "    except Exception as e:\n",
    "        print(e)"
   ]
  },
  {
   "cell_type": "code",
   "execution_count": 8,
   "id": "5ca5f187",
   "metadata": {},
   "outputs": [
    {
     "name": "stdout",
     "output_type": "stream",
     "text": [
      "Enter the number: 6\n"
     ]
    },
    {
     "data": {
      "text/plain": [
       "21"
      ]
     },
     "execution_count": 8,
     "metadata": {},
     "output_type": "execute_result"
    }
   ],
   "source": [
    "triangle()"
   ]
  },
  {
   "cell_type": "markdown",
   "id": "07736755",
   "metadata": {},
   "source": [
    "#### 5. Create a function that takes a list of numbers between 1 and 10 (excluding one number) and returns the missing number.\n",
    "\n",
    ">Examples\n",
    "\n",
    "missing_num([1, 2, 3, 4, 6, 7, 8, 9, 10]) ➞ 5\n",
    "\n",
    "missing_num([7, 2, 3, 6, 5, 9, 1, 4, 8]) ➞ 10\n",
    "\n",
    "missing_num([10, 5, 1, 2, 4, 6, 8, 3, 9]) ➞ 7"
   ]
  },
  {
   "cell_type": "code",
   "execution_count": 9,
   "id": "7cc5f4ec",
   "metadata": {},
   "outputs": [],
   "source": [
    "def missing_num():\n",
    "    try:\n",
    "        l = eval(input(\"Enter a list of numbers between 1 and 10 (excluding one number): \"))\n",
    "        for i in range(1,11):\n",
    "            if i not in l:\n",
    "                print(i)\n",
    "    except Exception as e:\n",
    "        print(e)"
   ]
  },
  {
   "cell_type": "code",
   "execution_count": 10,
   "id": "33f78b02",
   "metadata": {},
   "outputs": [
    {
     "name": "stdout",
     "output_type": "stream",
     "text": [
      "Enter a list of numbers between 1 and 10 (excluding one number): [1, 2, 3, 4, 6, 7, 8, 9, 10]\n",
      "5\n"
     ]
    }
   ],
   "source": [
    "missing_num()"
   ]
  }
 ],
 "metadata": {
  "kernelspec": {
   "display_name": "Python 3 (ipykernel)",
   "language": "python",
   "name": "python3"
  },
  "language_info": {
   "codemirror_mode": {
    "name": "ipython",
    "version": 3
   },
   "file_extension": ".py",
   "mimetype": "text/x-python",
   "name": "python",
   "nbconvert_exporter": "python",
   "pygments_lexer": "ipython3",
   "version": "3.9.7"
  }
 },
 "nbformat": 4,
 "nbformat_minor": 5
}
