{
 "cells": [
  {
   "cell_type": "markdown",
   "id": "fdcdeb93",
   "metadata": {},
   "source": [
    "#### 1. Create a function that takes a number as an argument and returns True or False depending on whether the number is symmetrical or not. A number is symmetrical when it is the same as its reverse.\n",
    "\n",
    ">Examples\n",
    "\n",
    "is_symmetrical(7227) ➞ True\n",
    "\n",
    "is_symmetrical(12567) ➞ False\n",
    "\n",
    "is_symmetrical(44444444) ➞ True\n",
    "\n",
    "is_symmetrical(9939) ➞ False\n",
    "\n",
    "is_symmetrical(1112111) ➞ True"
   ]
  },
  {
   "cell_type": "code",
   "execution_count": 1,
   "id": "6a3e24fb",
   "metadata": {},
   "outputs": [],
   "source": [
    "def is_symmetrical():\n",
    "    try:\n",
    "        n = int(input(\"Enter a number: \"))\n",
    "        s = str(n)\n",
    "        if s == s[::-1]:\n",
    "            return True\n",
    "        return False\n",
    "    except Exception as e:\n",
    "        print(e)"
   ]
  },
  {
   "cell_type": "code",
   "execution_count": 2,
   "id": "760da21d",
   "metadata": {},
   "outputs": [
    {
     "name": "stdout",
     "output_type": "stream",
     "text": [
      "Enter a number: 1112111\n"
     ]
    },
    {
     "data": {
      "text/plain": [
       "True"
      ]
     },
     "execution_count": 2,
     "metadata": {},
     "output_type": "execute_result"
    }
   ],
   "source": [
    "is_symmetrical()"
   ]
  },
  {
   "cell_type": "markdown",
   "id": "394b4d26",
   "metadata": {},
   "source": [
    "#### 2. Given a string of numbers separated by a comma and space, return the product of the numbers.\n",
    "\n",
    ">Examples\n",
    "\n",
    "multiply_nums(\"2, 3\") ➞ 6\n",
    "\n",
    "multiply_nums(\"1, 2, 3, 4\") ➞ 24\n",
    "\n",
    "multiply_nums(\"54, 75, 453, 0\") ➞ 0\n",
    "\n",
    "multiply_nums(\"10, -2\") ➞ -20"
   ]
  },
  {
   "cell_type": "code",
   "execution_count": 3,
   "id": "f7746b18",
   "metadata": {},
   "outputs": [],
   "source": [
    "def multiply_nums():\n",
    "    try:\n",
    "        s = input(\"Enter a string of numbers separated by a comma and space: \")\n",
    "        x = 1\n",
    "        for i in s.split(\", \"):\n",
    "            x = x * int(i)\n",
    "        return x\n",
    "    except Exception as e:\n",
    "        print(e)"
   ]
  },
  {
   "cell_type": "code",
   "execution_count": 4,
   "id": "235bcfb5",
   "metadata": {},
   "outputs": [
    {
     "name": "stdout",
     "output_type": "stream",
     "text": [
      "Enter a string of numbers separated by a comma and space: 2, 3\n"
     ]
    },
    {
     "data": {
      "text/plain": [
       "6"
      ]
     },
     "execution_count": 4,
     "metadata": {},
     "output_type": "execute_result"
    }
   ],
   "source": [
    "multiply_nums()"
   ]
  },
  {
   "cell_type": "markdown",
   "id": "494321e8",
   "metadata": {},
   "source": [
    "#### 3. Create a function that squares every digit of a number.\n",
    "\n",
    ">Examples\n",
    "\n",
    "square_digits(9119) ➞ 811181\n",
    "\n",
    "square_digits(2483) ➞ 416649\n",
    "\n",
    "square_digits(3212) ➞ 9414\n",
    "\n",
    ">Notes\n",
    "\n",
    "The function receives an integer and must return an integer."
   ]
  },
  {
   "cell_type": "code",
   "execution_count": 5,
   "id": "394f8611",
   "metadata": {},
   "outputs": [],
   "source": [
    "def square_digits():\n",
    "    try:\n",
    "        n = int(input(\"Enter a number: \"))\n",
    "        l = []\n",
    "        for i in str(n):\n",
    "            x = str(int(i)**2)\n",
    "            l.append(x)\n",
    "        return int(''.join(l))\n",
    "    except Exception as e:\n",
    "        print(e)"
   ]
  },
  {
   "cell_type": "code",
   "execution_count": 6,
   "id": "51857c7b",
   "metadata": {},
   "outputs": [
    {
     "name": "stdout",
     "output_type": "stream",
     "text": [
      "Enter a number: 9119\n"
     ]
    },
    {
     "data": {
      "text/plain": [
       "811181"
      ]
     },
     "execution_count": 6,
     "metadata": {},
     "output_type": "execute_result"
    }
   ],
   "source": [
    "square_digits()"
   ]
  },
  {
   "cell_type": "markdown",
   "id": "7472a449",
   "metadata": {},
   "source": [
    "#### 4. Create a function that sorts a list and removes all duplicate items from it.\n",
    "\n",
    ">Examples\n",
    "\n",
    "setify([1, 3, 3, 5, 5]) ➞ [1, 3, 5]\n",
    "\n",
    "setify([4, 4, 4, 4]) ➞ [4]\n",
    "\n",
    "setify([5, 7, 8, 9, 10, 15]) ➞ [5, 7, 8, 9, 10, 15]\n",
    "\n",
    "setify([3, 3, 3, 2, 1]) ➞ [1, 2, 3]"
   ]
  },
  {
   "cell_type": "code",
   "execution_count": 7,
   "id": "5f045c77",
   "metadata": {},
   "outputs": [],
   "source": [
    "def setify():\n",
    "    try:\n",
    "        l = eval(input(\"Enter a list: \"))\n",
    "        s = set(sorted(l))\n",
    "        return s\n",
    "    except Exception as e:\n",
    "        print(e)"
   ]
  },
  {
   "cell_type": "code",
   "execution_count": 8,
   "id": "93897a4e",
   "metadata": {},
   "outputs": [
    {
     "name": "stdout",
     "output_type": "stream",
     "text": [
      "Enter a list: [1, 3, 3, 5, 5]\n"
     ]
    },
    {
     "data": {
      "text/plain": [
       "{1, 3, 5}"
      ]
     },
     "execution_count": 8,
     "metadata": {},
     "output_type": "execute_result"
    }
   ],
   "source": [
    "setify()"
   ]
  },
  {
   "cell_type": "markdown",
   "id": "8f282c90",
   "metadata": {},
   "source": [
    "#### 5. Create a function that returns the mean of all digits.\n",
    "\n",
    ">Examples\n",
    "\n",
    "mean(42) ➞ 3\n",
    "\n",
    "mean(12345) ➞ 3\n",
    "\n",
    "mean(666) ➞ 6\n",
    "\n",
    ">Notes\n",
    "\n",
    "The mean of all digits is the sum of digits / how many digits there are (e.g. mean of digits in 512 is (5+1+2)/3(number of digits) = 8/3=2).\n",
    "\n",
    "The mean will always be an integer."
   ]
  },
  {
   "cell_type": "code",
   "execution_count": 9,
   "id": "b4be8665",
   "metadata": {},
   "outputs": [],
   "source": [
    "def mean():\n",
    "    try:\n",
    "        n = int(input(\"Enter a number: \"))\n",
    "        l = []\n",
    "        for i in str(n):\n",
    "            l.append(int(i))\n",
    "            m = sum(l)/len(l)\n",
    "        return int(m)\n",
    "    except Exception as e:\n",
    "        print(e)"
   ]
  },
  {
   "cell_type": "code",
   "execution_count": 10,
   "id": "bbc4a0e8",
   "metadata": {},
   "outputs": [
    {
     "name": "stdout",
     "output_type": "stream",
     "text": [
      "Enter a number: 666\n"
     ]
    },
    {
     "data": {
      "text/plain": [
       "6"
      ]
     },
     "execution_count": 10,
     "metadata": {},
     "output_type": "execute_result"
    }
   ],
   "source": [
    "mean()"
   ]
  }
 ],
 "metadata": {
  "kernelspec": {
   "display_name": "Python 3 (ipykernel)",
   "language": "python",
   "name": "python3"
  },
  "language_info": {
   "codemirror_mode": {
    "name": "ipython",
    "version": 3
   },
   "file_extension": ".py",
   "mimetype": "text/x-python",
   "name": "python",
   "nbconvert_exporter": "python",
   "pygments_lexer": "ipython3",
   "version": "3.9.7"
  }
 },
 "nbformat": 4,
 "nbformat_minor": 5
}
