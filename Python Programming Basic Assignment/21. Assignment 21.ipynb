{
 "cells": [
  {
   "cell_type": "markdown",
   "id": "7432ff8f",
   "metadata": {},
   "source": [
    "#### 1. Write a function that takes a list and a number as arguments. Add the number to the end of the list, then remove the first element of the list. The function should then return the updated list.\n",
    "\n",
    ">Examples\n",
    "\n",
    "next_in_line([5, 6, 7, 8, 9], 1) ➞ [6, 7, 8, 9, 1]\n",
    "\n",
    "next_in_line([7, 6, 3, 23, 17], 10) ➞ [6, 3, 23, 17, 10]\n",
    "\n",
    "next_in_line([1, 10, 20, 42 ], 6) ➞ [10, 20, 42, 6]\n",
    "\n",
    "next_in_line([], 6) ➞ \"No list has been selected\""
   ]
  },
  {
   "cell_type": "code",
   "execution_count": 1,
   "id": "7486ef2a",
   "metadata": {},
   "outputs": [],
   "source": [
    "def next_in_line():\n",
    "    try:\n",
    "        l = eval(input(\"Enter a list: \"))\n",
    "        n = int(input(\"Enter the number which you want to add at the end: \"))\n",
    "        if l != []:\n",
    "            l.append(n)\n",
    "            l.pop(0)\n",
    "            return l\n",
    "        return \"No list has been selected\"\n",
    "    except Exception as e:\n",
    "        print(e)"
   ]
  },
  {
   "cell_type": "code",
   "execution_count": 2,
   "id": "392a49a9",
   "metadata": {},
   "outputs": [
    {
     "name": "stdout",
     "output_type": "stream",
     "text": [
      "Enter a list: [5, 6, 7, 8, 9]\n",
      "Enter the number which you want to add at the end: 1\n"
     ]
    },
    {
     "data": {
      "text/plain": [
       "[6, 7, 8, 9, 1]"
      ]
     },
     "execution_count": 2,
     "metadata": {},
     "output_type": "execute_result"
    }
   ],
   "source": [
    "next_in_line()"
   ]
  },
  {
   "cell_type": "markdown",
   "id": "c83cfd80",
   "metadata": {},
   "source": [
    "#### 2. Create the function that takes a list of dictionaries and returns the sum of people's budgets.\n",
    "\n",
    ">Examples\n",
    "\n",
    "get_budgets([\n",
    "  { \"name\": \"John\", \"age\": 21, \"budget\": 23000 },\n",
    "  { \"name\": \"Steve\",  \"age\": 32, \"budget\": 40000 },\n",
    "  { \"name\": \"Martin\",  \"age\": 16, \"budget\": 2700 }\n",
    "]) ➞ 65700\n",
    "\n",
    "get_budgets([\n",
    "  { \"name\": \"John\",  \"age\": 21, \"budget\": 29000 },\n",
    "  { \"name\": \"Steve\",  \"age\": 32, \"budget\": 32000 },\n",
    "  { \"name\": \"Martin\",  \"age\": 16, \"budget\": 1600 }\n",
    "]) ➞ 62600\n"
   ]
  },
  {
   "cell_type": "code",
   "execution_count": 3,
   "id": "5256f1a5",
   "metadata": {},
   "outputs": [],
   "source": [
    "def get_budgets(d):\n",
    "    try:\n",
    "        s = 0\n",
    "        for i in d:\n",
    "            s = s + i[\"budget\"]\n",
    "        print(s)\n",
    "    except Exception as e:\n",
    "        print(e)"
   ]
  },
  {
   "cell_type": "code",
   "execution_count": 4,
   "id": "50d26a6f",
   "metadata": {},
   "outputs": [
    {
     "name": "stdout",
     "output_type": "stream",
     "text": [
      "65700\n"
     ]
    }
   ],
   "source": [
    "get_budgets([ { \"name\": \"John\", \"age\": 21, \"budget\": 23000 }, { \"name\": \"Steve\", \"age\": 32, \"budget\": 40000 }, { \"name\": \"Martin\", \"age\": 16, \"budget\": 2700 } ])"
   ]
  },
  {
   "cell_type": "markdown",
   "id": "b98de697",
   "metadata": {},
   "source": [
    "#### 3. Create a function that takes a string and returns a string with its letters in alphabetical order.\n",
    "\n",
    ">Examples\n",
    "\n",
    "alphabet_soup(\"hello\") ➞ \"ehllo\"\n",
    "\n",
    "alphabet_soup(\"edabit\") ➞ \"abdeit\"\n",
    "\n",
    "alphabet_soup(\"hacker\") ➞ \"acehkr\"\n",
    "\n",
    "alphabet_soup(\"geek\") ➞ \"eegk\"\n",
    "\n",
    "alphabet_soup(\"javascript\") ➞ \"aacijprstv\"\n"
   ]
  },
  {
   "cell_type": "code",
   "execution_count": 5,
   "id": "ad11ba90",
   "metadata": {},
   "outputs": [],
   "source": [
    "def alphabet_soup():\n",
    "    try:\n",
    "        s = input(\"Enter a string: \")\n",
    "        x = \"\"\n",
    "        for i in sorted(s):\n",
    "            x = x + i\n",
    "        return x\n",
    "    except Exception as e:\n",
    "        print(e)"
   ]
  },
  {
   "cell_type": "code",
   "execution_count": 6,
   "id": "6930c4a3",
   "metadata": {},
   "outputs": [
    {
     "name": "stdout",
     "output_type": "stream",
     "text": [
      "Enter a string: hello\n"
     ]
    },
    {
     "data": {
      "text/plain": [
       "'ehllo'"
      ]
     },
     "execution_count": 6,
     "metadata": {},
     "output_type": "execute_result"
    }
   ],
   "source": [
    "alphabet_soup()"
   ]
  },
  {
   "cell_type": "markdown",
   "id": "cb386f62",
   "metadata": {},
   "source": [
    "#### 4. Suppose that you invest 10,000 dollars for 10 years at an interest rate of 6% compounded monthly. What will be the value of your investment at the end of the 10 year period?\n",
    "\n",
    "Create a function that accepts the principal p, the term in years t, the interest rate r, and the number of compounding periods per year n. The function returns the value at the end of term rounded to the nearest cent.\n",
    "\n",
    "For the example above:\n",
    "\n",
    "compound_interest(10000, 10, 0.06, 12) ➞ 18193.97\n",
    "\n",
    "Note that the interest rate is given as a decimal and n=12 because with monthly compounding there are 12 periods per year. Compounding can also be done annually, quarterly, weekly, or daily.\n",
    "\n",
    ">Examples\n",
    "\n",
    "compound_interest(100, 1, 0.05, 1) ➞ 105.0\n",
    "\n",
    "compound_interest(3500, 15, 0.1, 4) ➞ 15399.26\n",
    "\n",
    "compound_interest(100000, 20, 0.15, 365) ➞ 2007316.26\n"
   ]
  },
  {
   "cell_type": "code",
   "execution_count": 7,
   "id": "6dbc2f1d",
   "metadata": {},
   "outputs": [],
   "source": [
    "def compound_interest():\n",
    "    try:\n",
    "        p = float(input(\"Enter the principal amount: \"))\n",
    "        t = int(input(\"Enter the term (in years): \"))\n",
    "        r = float(input(\"Enter the interest rate (without % sign): \"))\n",
    "        n = int(input(\"Enter the number of compounding periods per year: \"))\n",
    "        a = p * (1 + (r/(100*n)))**(n*t)\n",
    "        return round(a, 2)\n",
    "    except Exception as e:\n",
    "        print(e)"
   ]
  },
  {
   "cell_type": "code",
   "execution_count": 8,
   "id": "b780100b",
   "metadata": {},
   "outputs": [
    {
     "name": "stdout",
     "output_type": "stream",
     "text": [
      "Enter the principal amount: 100000\n",
      "Enter the term (in years): 20\n",
      "Enter the interest rate (without % sign): 15\n",
      "Enter the number of compounding periods per year: 365\n"
     ]
    },
    {
     "data": {
      "text/plain": [
       "2007316.26"
      ]
     },
     "execution_count": 8,
     "metadata": {},
     "output_type": "execute_result"
    }
   ],
   "source": [
    "compound_interest()"
   ]
  },
  {
   "cell_type": "markdown",
   "id": "679596ab",
   "metadata": {},
   "source": [
    "#### 5. Write a function that takes a list of elements and returns only the integers.\n",
    "\n",
    ">Examples\n",
    "\n",
    "return_only_integer([9, 2, \"space\", \"car\", \"lion\", 16]) ➞ [9, 2, 16]\n",
    "\n",
    "return_only_integer([\"hello\", 81, \"basketball\", 123, \"fox\"]) ➞ [81, 123]\n",
    "\n",
    "return_only_integer([10, \"121\", 56, 20, \"car\", 3, \"lion\"]) ➞ [10, 56, 20, 3]\n",
    "\n",
    "return_only_integer([\"String\",  True,  3.3,  1]) ➞ [1]"
   ]
  },
  {
   "cell_type": "code",
   "execution_count": 9,
   "id": "7b8dfeee",
   "metadata": {},
   "outputs": [],
   "source": [
    "def return_only_integer():\n",
    "    try:\n",
    "        l1 = eval(input(\"Enter a list: \"))\n",
    "        l2 = []\n",
    "        for i in l1:\n",
    "            if type(i) == int:\n",
    "                l2.append(i)\n",
    "        return l2\n",
    "    except Exception as e:\n",
    "        print(e)"
   ]
  },
  {
   "cell_type": "code",
   "execution_count": 10,
   "id": "7daadcfb",
   "metadata": {},
   "outputs": [
    {
     "name": "stdout",
     "output_type": "stream",
     "text": [
      "Enter a list: [9, 2, \"space\", \"car\", \"lion\", 16]\n"
     ]
    },
    {
     "data": {
      "text/plain": [
       "[9, 2, 16]"
      ]
     },
     "execution_count": 10,
     "metadata": {},
     "output_type": "execute_result"
    }
   ],
   "source": [
    "return_only_integer()"
   ]
  }
 ],
 "metadata": {
  "kernelspec": {
   "display_name": "Python 3 (ipykernel)",
   "language": "python",
   "name": "python3"
  },
  "language_info": {
   "codemirror_mode": {
    "name": "ipython",
    "version": 3
   },
   "file_extension": ".py",
   "mimetype": "text/x-python",
   "name": "python",
   "nbconvert_exporter": "python",
   "pygments_lexer": "ipython3",
   "version": "3.9.7"
  }
 },
 "nbformat": 4,
 "nbformat_minor": 5
}
