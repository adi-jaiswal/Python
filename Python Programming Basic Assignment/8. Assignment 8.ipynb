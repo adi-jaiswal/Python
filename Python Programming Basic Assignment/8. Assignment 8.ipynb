{
 "cells": [
  {
   "cell_type": "markdown",
   "id": "096a41dc",
   "metadata": {},
   "source": [
    "#### 1. Write a Python Program to Add Two Matrices?"
   ]
  },
  {
   "cell_type": "code",
   "execution_count": 1,
   "id": "5dc160be",
   "metadata": {},
   "outputs": [],
   "source": [
    "def addMatrices(a,b):\n",
    "    try:\n",
    "        result = [[0,0,0],[0,0,0],[0,0,0]]\n",
    "        for i in range(len(a)):\n",
    "            for j in range(len(a[0])):\n",
    "                result[i][j] = a[i][j] + b[i][j]\n",
    "        for k in result:\n",
    "                print(k)\n",
    "    except Exception as e:\n",
    "        print(e)"
   ]
  },
  {
   "cell_type": "code",
   "execution_count": 2,
   "id": "2761a7ec",
   "metadata": {},
   "outputs": [
    {
     "name": "stdout",
     "output_type": "stream",
     "text": [
      "[2, 4, 6]\n",
      "[8, 10, 12]\n",
      "[14, 16, 18]\n"
     ]
    }
   ],
   "source": [
    "a = [[1,2,3],[4,5,6],[7,8,9]]\n",
    "b = [[1,2,3],[4,5,6],[7,8,9]]\n",
    "addMatrices(a,b)"
   ]
  },
  {
   "cell_type": "markdown",
   "id": "c3d376e8",
   "metadata": {},
   "source": [
    "#### 2. Write a Python Program to Multiply Two Matrices?"
   ]
  },
  {
   "cell_type": "code",
   "execution_count": 3,
   "id": "a391da34",
   "metadata": {},
   "outputs": [],
   "source": [
    "def multMatrices(a,b):\n",
    "    try:\n",
    "        result = [[0,0,0],[0,0,0],[0,0,0]]\n",
    "        for i in range(len(a)):\n",
    "            for j in range(len(b[0])):\n",
    "                for k in range(len(b)):\n",
    "                    result[i][j] += a[i][k] * b[k][j]\n",
    "        for r in result:\n",
    "            print(r)\n",
    "    except Exception as e:\n",
    "        print(e)"
   ]
  },
  {
   "cell_type": "code",
   "execution_count": 4,
   "id": "476bad87",
   "metadata": {},
   "outputs": [
    {
     "name": "stdout",
     "output_type": "stream",
     "text": [
      "[30, 36, 42]\n",
      "[66, 81, 96]\n",
      "[102, 126, 150]\n"
     ]
    }
   ],
   "source": [
    "a = [[1,2,3],[4,5,6],[7,8,9]]\n",
    "b = [[1,2,3],[4,5,6],[7,8,9]]\n",
    "multMatrices(a,b)"
   ]
  },
  {
   "cell_type": "markdown",
   "id": "4695f161",
   "metadata": {},
   "source": [
    "#### 3. Write a Python Program to Transpose a Matrix?"
   ]
  },
  {
   "cell_type": "code",
   "execution_count": 5,
   "id": "5fb59706",
   "metadata": {},
   "outputs": [],
   "source": [
    "def transposeMatrics(a):\n",
    "    try:\n",
    "        matrix = []\n",
    "        for i in range(len(a)):\n",
    "            r = []\n",
    "            for j in range(len(a[0])):\n",
    "                r.append(a[j][i])\n",
    "            matrix.append(r)\n",
    "        return matrix\n",
    "    except Exception as e:\n",
    "        print(e)"
   ]
  },
  {
   "cell_type": "code",
   "execution_count": 6,
   "id": "45bca976",
   "metadata": {},
   "outputs": [
    {
     "data": {
      "text/plain": [
       "[[1, 4, 7], [2, 5, 8], [3, 6, 9]]"
      ]
     },
     "execution_count": 6,
     "metadata": {},
     "output_type": "execute_result"
    }
   ],
   "source": [
    "a = [[1,2,3],[4,5,6],[7,8,9]]\n",
    "transposeMatrics(a)"
   ]
  },
  {
   "cell_type": "markdown",
   "id": "c8576edb",
   "metadata": {},
   "source": [
    "#### 4. Write a Python Program to Sort Words in Alphabetic Order?\n"
   ]
  },
  {
   "cell_type": "code",
   "execution_count": 7,
   "id": "8f7f727f",
   "metadata": {},
   "outputs": [],
   "source": [
    "def sortWords():\n",
    "    try:\n",
    "        a = str(input(\"Enter a sentence: \"))\n",
    "        b = a.split(\" \")\n",
    "        for i in range(len(b)):\n",
    "            b[i] = b[i].lower()\n",
    "        b.sort()\n",
    "        return ' '.join(b)\n",
    "    except Exception as e:\n",
    "        print(e)"
   ]
  },
  {
   "cell_type": "code",
   "execution_count": 8,
   "id": "5849a5d2",
   "metadata": {},
   "outputs": [
    {
     "name": "stdout",
     "output_type": "stream",
     "text": [
      "Enter a sentence: Hello how are You Doing\n"
     ]
    },
    {
     "data": {
      "text/plain": [
       "'are doing hello how you'"
      ]
     },
     "execution_count": 8,
     "metadata": {},
     "output_type": "execute_result"
    }
   ],
   "source": [
    "sortWords()"
   ]
  },
  {
   "cell_type": "markdown",
   "id": "f3b375d1",
   "metadata": {},
   "source": [
    "#### 5. Write a Python Program to Remove Punctuation From a String?"
   ]
  },
  {
   "cell_type": "code",
   "execution_count": 9,
   "id": "f45a6101",
   "metadata": {},
   "outputs": [],
   "source": [
    "def removePunc():\n",
    "    try:\n",
    "        a = str(input(\"Enter a string with punctuations: \"))\n",
    "        punc = '''!()-[]{};:'\"\\,<>./?@#$%^&*_~'''\n",
    "        for i in a:\n",
    "            if i in punc:\n",
    "                a = a.replace(i, \"\")\n",
    "        print(a)\n",
    "    except Exception as e:\n",
    "        print(e)"
   ]
  },
  {
   "cell_type": "code",
   "execution_count": 10,
   "id": "b291d37d",
   "metadata": {},
   "outputs": [
    {
     "name": "stdout",
     "output_type": "stream",
     "text": [
      "Enter a string with punctuations: Hello, how are: you doing?\n",
      "Hello how are you doing\n"
     ]
    }
   ],
   "source": [
    "removePunc()"
   ]
  }
 ],
 "metadata": {
  "kernelspec": {
   "display_name": "Python 3 (ipykernel)",
   "language": "python",
   "name": "python3"
  },
  "language_info": {
   "codemirror_mode": {
    "name": "ipython",
    "version": 3
   },
   "file_extension": ".py",
   "mimetype": "text/x-python",
   "name": "python",
   "nbconvert_exporter": "python",
   "pygments_lexer": "ipython3",
   "version": "3.9.7"
  }
 },
 "nbformat": 4,
 "nbformat_minor": 5
}
