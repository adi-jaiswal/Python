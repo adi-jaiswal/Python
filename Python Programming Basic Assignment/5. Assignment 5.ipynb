{
 "cells": [
  {
   "cell_type": "markdown",
   "id": "a8f2fc2e",
   "metadata": {},
   "source": [
    "#### 1. Write a Python Program to Find LCM?"
   ]
  },
  {
   "cell_type": "code",
   "execution_count": 1,
   "id": "02cf3a62",
   "metadata": {},
   "outputs": [],
   "source": [
    "def get_lcm():\n",
    "    try:\n",
    "        n1 = int(input(\"Enter first number: \"))\n",
    "        n2 = int(input(\"Enter second number: \"))\n",
    "        m = max(n1,n2)\n",
    "        \n",
    "        while m>0:\n",
    "            if m%n1 == 0 and m%n2 == 0:\n",
    "                break\n",
    "            m = m + 1\n",
    "        print(f\"LCM of {n1} and {n2} is {m}\")\n",
    "        \n",
    "    except Exception as e:\n",
    "        print(e)"
   ]
  },
  {
   "cell_type": "code",
   "execution_count": 2,
   "id": "1d986c53",
   "metadata": {},
   "outputs": [
    {
     "name": "stdout",
     "output_type": "stream",
     "text": [
      "Enter first number: 14\n",
      "Enter second number: 13\n",
      "LCM of 14 and 13 is 182\n"
     ]
    }
   ],
   "source": [
    "get_lcm()"
   ]
  },
  {
   "cell_type": "markdown",
   "id": "7063e5f8",
   "metadata": {},
   "source": [
    "#### 2. Write a Python Program to Find HCF?"
   ]
  },
  {
   "cell_type": "code",
   "execution_count": 3,
   "id": "9b1d2169",
   "metadata": {},
   "outputs": [],
   "source": [
    "def get_hcf():\n",
    "    try:\n",
    "        a = int(input(\"Enter first number: \"))\n",
    "        b = int(input(\"Enter second number: \"))\n",
    "        \n",
    "        if b > a:\n",
    "            m = a\n",
    "        else:\n",
    "            m = b\n",
    "        \n",
    "        for i in range(1,m+1):\n",
    "            if a%i == 0 and b%i == 0:\n",
    "                hcf = i\n",
    "        print(f\"HCF of {a} and {b} is {hcf}\")\n",
    "    \n",
    "    except Exception as e:\n",
    "        print(e)"
   ]
  },
  {
   "cell_type": "code",
   "execution_count": 4,
   "id": "d9c8c211",
   "metadata": {},
   "outputs": [
    {
     "name": "stdout",
     "output_type": "stream",
     "text": [
      "Enter first number: 24\n",
      "Enter second number: 36\n",
      "HCF of 24 and 36 is 12\n"
     ]
    }
   ],
   "source": [
    "get_hcf()"
   ]
  },
  {
   "cell_type": "markdown",
   "id": "08021bcf",
   "metadata": {},
   "source": [
    "#### 3. Write a Python Program to Convert Decimal to Binary, Octal and Hexadecimal?"
   ]
  },
  {
   "cell_type": "code",
   "execution_count": 5,
   "id": "99014887",
   "metadata": {},
   "outputs": [],
   "source": [
    "def base_conversion():\n",
    "    try:\n",
    "        a = int(input(\"Enter a number: \"))\n",
    "        print(f\"The value of {a} in binary is {bin(a)}\")\n",
    "        print(f\"The value of {a} in octal is {oct(a)}\")\n",
    "        print(f\"The value of {a} in hexadecimal is {hex(a)}\")\n",
    "    except Exception as e:\n",
    "        print(e)"
   ]
  },
  {
   "cell_type": "code",
   "execution_count": 6,
   "id": "6c6f747d",
   "metadata": {},
   "outputs": [
    {
     "name": "stdout",
     "output_type": "stream",
     "text": [
      "Enter a number: 20\n",
      "The value of 20 in binary is 0b10100\n",
      "The value of 20 in octal is 0o24\n",
      "The value of 20 in hexadecimal is 0x14\n"
     ]
    }
   ],
   "source": [
    "base_conversion()"
   ]
  },
  {
   "cell_type": "markdown",
   "id": "d2f53689",
   "metadata": {},
   "source": [
    "#### 4. Write a Python Program To Find ASCII value of a character?"
   ]
  },
  {
   "cell_type": "code",
   "execution_count": 7,
   "id": "e77d3541",
   "metadata": {},
   "outputs": [],
   "source": [
    "def get_ASCII():\n",
    "    try:\n",
    "        a = input(\"Enter the character: \")\n",
    "        print(f\"ASCII value for {a} is {ord(a)}\")\n",
    "    except Exception as e:\n",
    "        print(e)"
   ]
  },
  {
   "cell_type": "code",
   "execution_count": 8,
   "id": "dc48ad41",
   "metadata": {},
   "outputs": [
    {
     "name": "stdout",
     "output_type": "stream",
     "text": [
      "Enter the character: g\n",
      "ASCII value for g is 103\n"
     ]
    }
   ],
   "source": [
    "get_ASCII()"
   ]
  },
  {
   "cell_type": "markdown",
   "id": "8258a9c6",
   "metadata": {},
   "source": [
    "#### 5. Write a Python Program to Make a Simple Calculator with 4 basic mathematical operations?"
   ]
  },
  {
   "cell_type": "code",
   "execution_count": 9,
   "id": "771ec388",
   "metadata": {},
   "outputs": [
    {
     "name": "stdout",
     "output_type": "stream",
     "text": [
      "Please select one option\n",
      "Addition [1]\n",
      "Subtraction [2]\n",
      "Multiplication [3]\n",
      "Division [4]\n",
      "Enter your choice(1/2/3/4): 1\n",
      "Enter first number: 3\n",
      "Enter second number: 2\n",
      "Addition of 3.0 and 2.0 is 5.0\n",
      "Do you want another calculation? (yes/no)yes\n",
      "Enter your choice(1/2/3/4): 3\n",
      "Enter first number: 4\n",
      "Enter second number: 7\n",
      "Multiplication of 4.0 and 7.0 is 28.0 \n",
      "Do you want another calculation? (yes/no)yes\n",
      "Enter your choice(1/2/3/4): 2\n",
      "Enter first number: 6\n",
      "Enter second number: 2\n",
      "Sbtraction of 6.0 and 2.0 is 4.0 \n",
      "Do you want another calculation? (yes/no)no\n"
     ]
    }
   ],
   "source": [
    "def addition(x,y):\n",
    "    return x+y\n",
    "\n",
    "def subtraction(x,y):\n",
    "    return x-y\n",
    "\n",
    "def multiplication(x,y):\n",
    "    return x*y\n",
    "\n",
    "def division(x,y):\n",
    "    return x/y\n",
    "    \n",
    "    \n",
    "print(\"Please select one option\")\n",
    "print(\"Addition [1]\")\n",
    "print(\"Subtraction [2]\")\n",
    "print(\"Multiplication [3]\")\n",
    "print(\"Division [4]\")\n",
    "\n",
    "while True:\n",
    "    c = input(\"Enter your choice(1/2/3/4): \")\n",
    "    \n",
    "    if c in ('1', '2', '3', '4'):\n",
    "        n1 = float(input(\"Enter first number: \"))\n",
    "        n2 = float(input(\"Enter second number: \"))\n",
    "        \n",
    "        if c == '1':\n",
    "            print(f\"Addition of {n1} and {n2} is {addition(n1,n2)}\")\n",
    "        elif c == '2':\n",
    "            print(f\"Sbtraction of {n1} and {n2} is {subtraction(n1,n2)} \")\n",
    "        elif c == '3':\n",
    "            print(f\"Multiplication of {n1} and {n2} is {multiplication(n1,n2)} \")\n",
    "        elif c == '4':\n",
    "            print(f\"Division of {n1} and {n2} is {division(n1,n2)} \")\n",
    "        \n",
    "        calc = input(\"Do you want another calculation? (yes/no)\")\n",
    "        if calc == 'no':\n",
    "            break\n",
    "    else:\n",
    "        print(\"invalid input\")"
   ]
  }
 ],
 "metadata": {
  "kernelspec": {
   "display_name": "Python 3 (ipykernel)",
   "language": "python",
   "name": "python3"
  },
  "language_info": {
   "codemirror_mode": {
    "name": "ipython",
    "version": 3
   },
   "file_extension": ".py",
   "mimetype": "text/x-python",
   "name": "python",
   "nbconvert_exporter": "python",
   "pygments_lexer": "ipython3",
   "version": "3.9.7"
  }
 },
 "nbformat": 4,
 "nbformat_minor": 5
}
