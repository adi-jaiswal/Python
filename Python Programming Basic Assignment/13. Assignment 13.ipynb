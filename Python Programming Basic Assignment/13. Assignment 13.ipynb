{
 "cells": [
  {
   "cell_type": "markdown",
   "id": "b9313993",
   "metadata": {},
   "source": [
    "#### 1. Write a program that calculates and prints the value according to the given formula:\n",
    ">Q = Square root of [(2 * C * D)/H]\n",
    "\n",
    "Following are the fixed values of C and H:\n",
    "\n",
    "C is 50. H is 30.\n",
    "D is the variable whose values should be input to your program in a comma-separated sequence.\n",
    "\n",
    ">Example: \n",
    "Let us assume the following comma separated input sequence is given to the program:\n",
    "100,150,180\n",
    "The output of the program should be:\n",
    "18,22,24"
   ]
  },
  {
   "cell_type": "code",
   "execution_count": 1,
   "id": "3ea46893",
   "metadata": {},
   "outputs": [],
   "source": [
    "from math import sqrt\n",
    "\n",
    "def getQ():\n",
    "    try:\n",
    "        C = 50\n",
    "        H = 30\n",
    "        D = eval(input(\"Enter the sequence: \"))\n",
    "        for i in D:\n",
    "            Q = sqrt((2 * C * i)/H)\n",
    "            print(int(Q))\n",
    "    except Exception as e:\n",
    "        print(e)"
   ]
  },
  {
   "cell_type": "code",
   "execution_count": 2,
   "id": "080942b7",
   "metadata": {},
   "outputs": [
    {
     "name": "stdout",
     "output_type": "stream",
     "text": [
      "Enter the sequence: 100, 150, 180\n",
      "18\n",
      "22\n",
      "24\n"
     ]
    }
   ],
   "source": [
    "getQ()"
   ]
  },
  {
   "cell_type": "markdown",
   "id": "a2ab3743",
   "metadata": {},
   "source": [
    "#### 2. Write a program which takes 2 digits, X,Y as input and generates a 2-dimensional array. The element value in the i-th row and j-th column of the array should be i*j.\n",
    "\n",
    "Note: i=0,1.., X-1; j=0,1,¡Y-1.\n",
    "\n",
    ">Example: \n",
    "Suppose the following inputs are given to the program: \n",
    "3,5. \n",
    "Then, the output of the program should be: \n",
    "[[0, 0, 0, 0, 0], [0, 1, 2, 3, 4], [0, 2, 4, 6, 8]] "
   ]
  },
  {
   "cell_type": "code",
   "execution_count": 3,
   "id": "ca0f2d6a",
   "metadata": {},
   "outputs": [],
   "source": [
    "def generateArray():\n",
    "    try:\n",
    "        X = int(input(\"Enter the value of X: \"))\n",
    "        Y = int(input(\"Enter the value of Y: \"))\n",
    "        a = []\n",
    "        for i in range(X):\n",
    "            a.insert(X, [])\n",
    "            for j in range(Y):\n",
    "                a[i].append(i*j)\n",
    "        return a\n",
    "    except Exception as e:\n",
    "        print(e)"
   ]
  },
  {
   "cell_type": "code",
   "execution_count": 4,
   "id": "3a65cf53",
   "metadata": {
    "scrolled": true
   },
   "outputs": [
    {
     "name": "stdout",
     "output_type": "stream",
     "text": [
      "Enter the value of X: 3\n",
      "Enter the value of Y: 5\n"
     ]
    },
    {
     "data": {
      "text/plain": [
       "[[0, 0, 0, 0, 0], [0, 1, 2, 3, 4], [0, 2, 4, 6, 8]]"
      ]
     },
     "execution_count": 4,
     "metadata": {},
     "output_type": "execute_result"
    }
   ],
   "source": [
    "generateArray()"
   ]
  },
  {
   "cell_type": "markdown",
   "id": "9f5dfc85",
   "metadata": {},
   "source": [
    "#### 3. Write a program that accepts a comma separated sequence of words as input and prints the words in a comma-separated sequence after sorting them alphabetically.\n",
    "\n",
    ">Suppose the following input is supplied to the program: \n",
    "without,hello,bag,world. \n",
    "Then, the output should be: \n",
    "bag,hello,without,world"
   ]
  },
  {
   "cell_type": "code",
   "execution_count": 5,
   "id": "6ed83799",
   "metadata": {},
   "outputs": [],
   "source": [
    "def sortSequence():\n",
    "    try:\n",
    "        s = input(\"Enter a comma seperated sequence: \")\n",
    "        a = s.split(\",\")\n",
    "        for i in range(len(a)):\n",
    "            a[i] = a[i].lower()\n",
    "            a.sort()\n",
    "        print(\",\".join(a))\n",
    "    except Exception as e:\n",
    "        print(e)"
   ]
  },
  {
   "cell_type": "code",
   "execution_count": 6,
   "id": "47ccb2f6",
   "metadata": {},
   "outputs": [
    {
     "name": "stdout",
     "output_type": "stream",
     "text": [
      "Enter a comma seperated sequence: without,hello,bag,world\n",
      "bag,hello,without,world\n"
     ]
    }
   ],
   "source": [
    "sortSequence()"
   ]
  },
  {
   "cell_type": "markdown",
   "id": "dd111d9a",
   "metadata": {},
   "source": [
    "#### 4. Write a program that accepts a sequence of whitespace separated words as input and prints the words after removing all duplicate words and sorting them alphanumerically.\n",
    "\n",
    ">Suppose the following input is supplied to the program: \n",
    "hello world and practice makes perfect and hello world again. \n",
    "Then, the output should be: \n",
    "again and hello makes perfect practice world"
   ]
  },
  {
   "cell_type": "code",
   "execution_count": 7,
   "id": "a1f189ac",
   "metadata": {},
   "outputs": [],
   "source": [
    "def removeDuplicate():\n",
    "    try:\n",
    "        s = input(\"Enter a sequence of whitespace separated words: \")\n",
    "        s1 = s.split(\" \")\n",
    "        s2 = sorted(list(set(s1)))\n",
    "        return \" \".join(sorted(s2))\n",
    "    except Exception as e:\n",
    "        print(e)"
   ]
  },
  {
   "cell_type": "code",
   "execution_count": 8,
   "id": "0cf66056",
   "metadata": {},
   "outputs": [
    {
     "name": "stdout",
     "output_type": "stream",
     "text": [
      "Enter a sequence of whitespace separated words: hello world and practice makes perfect and hello world again\n"
     ]
    },
    {
     "data": {
      "text/plain": [
       "'again and hello makes perfect practice world'"
      ]
     },
     "execution_count": 8,
     "metadata": {},
     "output_type": "execute_result"
    }
   ],
   "source": [
    "removeDuplicate()"
   ]
  },
  {
   "cell_type": "markdown",
   "id": "b62eb208",
   "metadata": {},
   "source": [
    "#### 5. Write a program that accepts a sentence and calculate the number of letters and digits.\n",
    "\n",
    ">Suppose the following input is supplied to the program: \n",
    "hello world! 123 \n",
    "Then, the output should be: \n",
    "LETTERS 10 \n",
    "DIGITS 3"
   ]
  },
  {
   "cell_type": "code",
   "execution_count": 9,
   "id": "29c6fcdd",
   "metadata": {},
   "outputs": [],
   "source": [
    "import string\n",
    "\n",
    "def getCount():\n",
    "    try:\n",
    "        s = input(\"Enter a sentence: \")\n",
    "        letters = string.ascii_letters\n",
    "        digits = \"0123456789\"\n",
    "        l = 0\n",
    "        d = 0\n",
    "        for i in s:\n",
    "            if i in letters:\n",
    "                l = l + 1\n",
    "            if i in digits:\n",
    "                d = d + 1\n",
    "        print(f\"LETTERS {l} \\nDIGITS {d}\")\n",
    "    except Exception as e:\n",
    "        print(e)"
   ]
  },
  {
   "cell_type": "code",
   "execution_count": 10,
   "id": "33382d20",
   "metadata": {},
   "outputs": [
    {
     "name": "stdout",
     "output_type": "stream",
     "text": [
      "Enter a sentence: hello world! 123\n",
      "LETTERS 10 \n",
      "DIGITS 3\n"
     ]
    }
   ],
   "source": [
    "getCount()"
   ]
  },
  {
   "cell_type": "markdown",
   "id": "af7cd201",
   "metadata": {},
   "source": [
    "#### 6. A website requires the users to input username and password to register. Write a program to check the validity of password input by users.\n",
    "\n",
    ">Following are the criteria for checking the password:\n",
    "\n",
    "1. At least 1 letter between [a-z]\n",
    "\n",
    "2. At least 1 number between [0-9]\n",
    "\n",
    "1. At least 1 letter between [A-Z]\n",
    "\n",
    "3. At least 1 character from [$#@]\n",
    "\n",
    "4. Minimum length of transaction password: 6\n",
    "\n",
    "5. Maximum length of transaction password: 12\n",
    "\n",
    ">Your program should accept a sequence of comma separated passwords and will check them according to the above criteria. Passwords that match the criteria are to be printed, each separated by a comma.\n",
    "\n",
    ">Example:\n",
    "\n",
    "If the following passwords are given as input to the program: ABd1234@1,a F1#,2w3E*,2We3345 \n",
    "\n",
    "Then, the output of the program should be: ABd1234@1\n"
   ]
  },
  {
   "cell_type": "code",
   "execution_count": 11,
   "id": "acdd864d",
   "metadata": {},
   "outputs": [],
   "source": [
    "import string\n",
    "\n",
    "def checkPwd():\n",
    "    try:\n",
    "        s = input(\"Enter the password: \")\n",
    "        digits = \"0123456789\"\n",
    "        special_char = \"$#@\"\n",
    "        for i in s.split(','):\n",
    "            if len(i) <= 12 and len(i) >= 6:\n",
    "                if any(j.isupper() for j in i):\n",
    "                    if any(j.islower() for j in i):\n",
    "                        if any(j for j in i if j in digits):\n",
    "                            if any(j for j in i if j in special_char):\n",
    "                                print(i)\n",
    "    except Exception as e:\n",
    "        print(e)"
   ]
  },
  {
   "cell_type": "code",
   "execution_count": 12,
   "id": "0233a8de",
   "metadata": {},
   "outputs": [
    {
     "name": "stdout",
     "output_type": "stream",
     "text": [
      "Enter the password: ABd1234@1,a F1#,2w3E*,2We3345\n",
      "ABd1234@1\n"
     ]
    }
   ],
   "source": [
    "checkPwd()"
   ]
  }
 ],
 "metadata": {
  "kernelspec": {
   "display_name": "Python 3 (ipykernel)",
   "language": "python",
   "name": "python3"
  },
  "language_info": {
   "codemirror_mode": {
    "name": "ipython",
    "version": 3
   },
   "file_extension": ".py",
   "mimetype": "text/x-python",
   "name": "python",
   "nbconvert_exporter": "python",
   "pygments_lexer": "ipython3",
   "version": "3.9.7"
  }
 },
 "nbformat": 4,
 "nbformat_minor": 5
}
