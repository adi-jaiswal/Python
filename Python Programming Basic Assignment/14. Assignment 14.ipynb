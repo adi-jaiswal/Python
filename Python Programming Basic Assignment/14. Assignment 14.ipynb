{
 "cells": [
  {
   "cell_type": "markdown",
   "id": "665d8ed1",
   "metadata": {},
   "source": [
    "#### 1. Define a class with a generator which can iterate the numbers, which are divisible by 7, between a given range 0 and n."
   ]
  },
  {
   "cell_type": "code",
   "execution_count": 1,
   "id": "36cb04a5",
   "metadata": {},
   "outputs": [
    {
     "name": "stdout",
     "output_type": "stream",
     "text": [
      "0 7 14 21 28 35 42 49 56 63 70 77 84 91 98 105 112 119 126 133 140 147 154 161 168 175 182 189 196 203 210 217 224 231 238 245 252 259 266 273 280 287 294 301 308 315 322 329 336 343 350 357 364 371 378 385 392 399 406 413 420 427 434 441 448 455 462 469 476 483 490 497 504 511 518 525 532 539 546 "
     ]
    }
   ],
   "source": [
    "class num_generator:\n",
    "    def __init__(self,a):\n",
    "        self.a = a\n",
    "    def get_num(self):\n",
    "        for i in range(0,self.a+1):\n",
    "            if i % 7 == 0:\n",
    "                yield i\n",
    "\n",
    "P = num_generator(550)\n",
    "for i in P.get_num():\n",
    "    print(i, end = \" \")"
   ]
  },
  {
   "cell_type": "markdown",
   "id": "39c33238",
   "metadata": {},
   "source": [
    "#### 2. Write a program to compute the frequency of the words from the input. The output should output after sorting the key alphanumerically. \n",
    "\n",
    "Suppose the following input is supplied to the program:\n",
    "\n",
    ">New to Python or choosing between Python 2 and Python 3? Read Python 2 or Python 3.\n",
    "\n",
    "Then, the output should be:\n",
    "\n",
    ">2:2 3.:1 3?:1 New:1 Python:5 Read:1 and:1 between:1 choosing:1 or:2 to:1"
   ]
  },
  {
   "cell_type": "code",
   "execution_count": 2,
   "id": "f5b9f4e0",
   "metadata": {},
   "outputs": [],
   "source": [
    "def getFrequency():\n",
    "    try:\n",
    "        s = input(\"Enter a string: \")\n",
    "        f = {}\n",
    "        for i in s.split(\" \"):\n",
    "            if f.get(i) == None:\n",
    "                f[i] = 1\n",
    "            else:\n",
    "                f[i] = f[i] + 1\n",
    "        for i in sorted(f):\n",
    "            print(f\"{i}:{f[i]}\", end = \" \")\n",
    "    except Exception as e:\n",
    "        print(e) "
   ]
  },
  {
   "cell_type": "code",
   "execution_count": 3,
   "id": "46ae48ce",
   "metadata": {
    "scrolled": true
   },
   "outputs": [
    {
     "name": "stdout",
     "output_type": "stream",
     "text": [
      "Enter a string: New to Python or choosing between Python 2 and Python 3? Read Python 2 or Python 3\n",
      "2:2 3:1 3?:1 New:1 Python:5 Read:1 and:1 between:1 choosing:1 or:2 to:1 "
     ]
    }
   ],
   "source": [
    "getFrequency()"
   ]
  },
  {
   "cell_type": "markdown",
   "id": "49565002",
   "metadata": {},
   "source": [
    "#### 3. Define a class Person and its two child classes: Male and Female. All classes have a method \"getGender\" which can print \"Male\" for Male class and \"Female\" for Female class."
   ]
  },
  {
   "cell_type": "code",
   "execution_count": 4,
   "id": "87960057",
   "metadata": {},
   "outputs": [],
   "source": [
    "class Person:\n",
    "    def getGender():\n",
    "        pass\n",
    "\n",
    "class Male(Person):\n",
    "    def getGender():\n",
    "        print(\"Male\")\n",
    "\n",
    "class Female(Person):\n",
    "    def getGender():\n",
    "        print(\"Female\")"
   ]
  },
  {
   "cell_type": "code",
   "execution_count": 5,
   "id": "54af250f",
   "metadata": {},
   "outputs": [
    {
     "name": "stdout",
     "output_type": "stream",
     "text": [
      "Male\n",
      "Female\n"
     ]
    }
   ],
   "source": [
    "Male.getGender()\n",
    "Female.getGender()"
   ]
  },
  {
   "cell_type": "markdown",
   "id": "908b3a9a",
   "metadata": {},
   "source": [
    "#### 4. Please write a program to generate all sentences where subject is in [\"I\", \"You\"] and verb is in [\"Play\", \"Love\"] and the object is in [\"Hockey\",\"Football\"].\n"
   ]
  },
  {
   "cell_type": "code",
   "execution_count": 6,
   "id": "0437c566",
   "metadata": {},
   "outputs": [],
   "source": [
    "def generateSentences():\n",
    "    try:\n",
    "        s = [\"I\", \"You\"]\n",
    "        v = [\"Play\", \"Love\"]\n",
    "        o = [\"Hockey\", \"Football\"]\n",
    "        for i in s:\n",
    "            for j in v:\n",
    "                for k in o:\n",
    "                    print(f\"{i} {j} {k}\")\n",
    "    except Exception as e:\n",
    "        print(e)"
   ]
  },
  {
   "cell_type": "code",
   "execution_count": 7,
   "id": "183e9857",
   "metadata": {},
   "outputs": [
    {
     "name": "stdout",
     "output_type": "stream",
     "text": [
      "I Play Hockey\n",
      "I Play Football\n",
      "I Love Hockey\n",
      "I Love Football\n",
      "You Play Hockey\n",
      "You Play Football\n",
      "You Love Hockey\n",
      "You Love Football\n"
     ]
    }
   ],
   "source": [
    "generateSentences()"
   ]
  },
  {
   "cell_type": "markdown",
   "id": "c8ec6296",
   "metadata": {},
   "source": [
    "#### 5. Please write a program to compress and decompress the string \"hello world!hello world!hello world!hello world!\"."
   ]
  },
  {
   "cell_type": "code",
   "execution_count": 8,
   "id": "4844ab69",
   "metadata": {},
   "outputs": [],
   "source": [
    "def compress():\n",
    "    try:\n",
    "        s = input(\"Enter a string: \")\n",
    "        o = s[0]\n",
    "        c = 1\n",
    "        for i in range(len(s)-1):\n",
    "            if s[i] == s[i+1]:\n",
    "                c = c + 1\n",
    "            else:\n",
    "                if c > 1:\n",
    "                    o = o + str(c)\n",
    "                o = o + s[i+1]\n",
    "                c = 1\n",
    "        if c > 1:\n",
    "            o = o + str(c)\n",
    "        print(o)\n",
    "    except Exception as e:\n",
    "        print(e)"
   ]
  },
  {
   "cell_type": "code",
   "execution_count": 9,
   "id": "708d669b",
   "metadata": {
    "scrolled": true
   },
   "outputs": [
    {
     "name": "stdout",
     "output_type": "stream",
     "text": [
      "Enter a string: hello world!hello world!hello world!hello world!\n",
      "hel2o world!hel2o world!hel2o world!hel2o world!\n"
     ]
    }
   ],
   "source": [
    "compress()"
   ]
  },
  {
   "cell_type": "code",
   "execution_count": 11,
   "id": "dd8a34ba",
   "metadata": {},
   "outputs": [],
   "source": [
    "def decompress():\n",
    "    try:\n",
    "        s = input(\"Enter a string: \")\n",
    "        o = \" \"\n",
    "        for i in range(len(s)):\n",
    "            if s[i].isdigit():\n",
    "                o = o + o[-1]*(int(s[i])-1)\n",
    "            else:\n",
    "                o = o + s[i]\n",
    "        print(o)\n",
    "    except Exception as e:\n",
    "        print(e)"
   ]
  },
  {
   "cell_type": "code",
   "execution_count": 12,
   "id": "ec2e2182",
   "metadata": {},
   "outputs": [
    {
     "name": "stdout",
     "output_type": "stream",
     "text": [
      "Enter a string: hel2o world!hel2o world!hel2o world!hel2o world!\n",
      " hello world!hello world!hello world!hello world!\n"
     ]
    }
   ],
   "source": [
    "decompress()"
   ]
  },
  {
   "cell_type": "markdown",
   "id": "94e4cb61",
   "metadata": {},
   "source": [
    "#### 6. Please write a binary search function which searches an item in a sorted list. The function should return the index of element to be searched in the list."
   ]
  },
  {
   "cell_type": "code",
   "execution_count": 13,
   "id": "2def0134",
   "metadata": {},
   "outputs": [],
   "source": [
    "def binarySearch():  \n",
    "    try:\n",
    "        l = eval(input(\"Enter a list: \"))\n",
    "        s = sorted(l)\n",
    "        print(f\"Sorted List: {s}\")\n",
    "        \n",
    "        t = int(input(\"Enter the element for which you want to see the index: \"))\n",
    "        start = 0\n",
    "        end = len(l) - 1\n",
    "        while start <= end:\n",
    "            mid_point = start + (end-start)//2\n",
    "            mid_value = s[mid_point]\n",
    "            if mid_value == t:\n",
    "                return f\"Index of {t} is {mid_point} in sorted list\"\n",
    "            elif t < mid_value:\n",
    "                end = mid_point - 1\n",
    "            else:\n",
    "                start = mid_point + 1\n",
    "        return \"Element is not in the list\"\n",
    "    except Exception as e:\n",
    "        print(e)"
   ]
  },
  {
   "cell_type": "code",
   "execution_count": 14,
   "id": "d645c0f5",
   "metadata": {},
   "outputs": [
    {
     "name": "stdout",
     "output_type": "stream",
     "text": [
      "Enter a list: [5,6,1,7,8,9]\n",
      "Sorted List: [1, 5, 6, 7, 8, 9]\n",
      "Enter the element for which you want to see the index: 5\n"
     ]
    },
    {
     "data": {
      "text/plain": [
       "'Index of 5 is 1 in sorted list'"
      ]
     },
     "execution_count": 14,
     "metadata": {},
     "output_type": "execute_result"
    }
   ],
   "source": [
    "binarySearch()"
   ]
  }
 ],
 "metadata": {
  "kernelspec": {
   "display_name": "Python 3 (ipykernel)",
   "language": "python",
   "name": "python3"
  },
  "language_info": {
   "codemirror_mode": {
    "name": "ipython",
    "version": 3
   },
   "file_extension": ".py",
   "mimetype": "text/x-python",
   "name": "python",
   "nbconvert_exporter": "python",
   "pygments_lexer": "ipython3",
   "version": "3.9.7"
  }
 },
 "nbformat": 4,
 "nbformat_minor": 5
}
