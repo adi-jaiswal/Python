{
 "cells": [
  {
   "cell_type": "markdown",
   "id": "f5c1e6c1",
   "metadata": {},
   "source": [
    "#### 1. Please write a program using generator to print the numbers which can be divisible by 5 and 7 between 0 and n in comma separated form while n is input by console.\n",
    ">Example:\n",
    "\n",
    "If the following n is given as input to the program: 100\n",
    "\n",
    "Then, the output of the program should be: 0,35,70"
   ]
  },
  {
   "cell_type": "code",
   "execution_count": 1,
   "id": "03f09220",
   "metadata": {},
   "outputs": [],
   "source": [
    "class numGenerator:\n",
    "    def __init__(self, a):\n",
    "        self.a = a\n",
    "    def generateNum(self):\n",
    "        try:\n",
    "            for i in range(0, self.a+1):\n",
    "                if i % 5 == 0 and i % 7 == 0:\n",
    "                    yield i\n",
    "        except Exception as e:\n",
    "            print(e)"
   ]
  },
  {
   "cell_type": "code",
   "execution_count": 2,
   "id": "c15b4cee",
   "metadata": {},
   "outputs": [
    {
     "name": "stdout",
     "output_type": "stream",
     "text": [
      "0,35,70,"
     ]
    }
   ],
   "source": [
    "P = numGenerator(100)\n",
    "for i in P.generateNum():\n",
    "    print(i, end = \",\")"
   ]
  },
  {
   "cell_type": "markdown",
   "id": "50d96614",
   "metadata": {},
   "source": [
    "#### 2. Please write a program using generator to print the even numbers between 0 and n in comma separated form while n is input by console.\n",
    ">Example:\n",
    "\n",
    "If the following n is given as input to the program: 10\n",
    "\n",
    "Then, the output of the program should be: 0,2,4,6,8,10\n"
   ]
  },
  {
   "cell_type": "code",
   "execution_count": 3,
   "id": "4e6659e7",
   "metadata": {},
   "outputs": [],
   "source": [
    "class evenNumGenerator:\n",
    "    def __init__(self, a):\n",
    "        self.a = a\n",
    "    def getEven(self):\n",
    "        for i in range(0, self.a+1):\n",
    "            if i % 2 == 0:\n",
    "                yield i"
   ]
  },
  {
   "cell_type": "code",
   "execution_count": 4,
   "id": "a39e507a",
   "metadata": {},
   "outputs": [
    {
     "name": "stdout",
     "output_type": "stream",
     "text": [
      "0,2,4,6,8,10,"
     ]
    }
   ],
   "source": [
    "P = evenNumGenerator(10)\n",
    "for i in P.getEven():\n",
    "    print(i, end = \",\")"
   ]
  },
  {
   "cell_type": "markdown",
   "id": "7c258c99",
   "metadata": {},
   "source": [
    "#### 3. The Fibonacci Sequence is computed based on the following formula:\n",
    "\n",
    "f(n)=0 if n=0\n",
    "\n",
    "f(n)=1 if n=1\n",
    "\n",
    "f(n)=f(n-1)+f(n-2) if n>1\n",
    "\n",
    "Please write a program using list comprehension to print the Fibonacci Sequence in comma separated form with a given n input by console.\n",
    "\n",
    ">Example:\n",
    "\n",
    "If the following n is given as input to the program: 7\n",
    "\n",
    "Then, the output of the program should be: 0,1,1,2,3,5,8,13"
   ]
  },
  {
   "cell_type": "code",
   "execution_count": 5,
   "id": "67487c53",
   "metadata": {},
   "outputs": [],
   "source": [
    "def fibonacci(n):\n",
    "    try:\n",
    "        if n == 0:\n",
    "            return 0\n",
    "        elif n == 1:\n",
    "            return 1\n",
    "        else:\n",
    "            return fibonacci(n-1)+fibonacci(n-2)\n",
    "    except Exception as e:\n",
    "        print(e)"
   ]
  },
  {
   "cell_type": "code",
   "execution_count": 6,
   "id": "79806b16",
   "metadata": {},
   "outputs": [
    {
     "name": "stdout",
     "output_type": "stream",
     "text": [
      "Enter len: 7\n",
      "0, 1, 1, 2, 3, 5, 8, 13\n"
     ]
    }
   ],
   "source": [
    "n = int(input(\"Enter len: \"))\n",
    "s = [str(fibonacci(i)) for i in range(n+1)]\n",
    "print(\", \".join(s))"
   ]
  },
  {
   "cell_type": "markdown",
   "id": "809c1e13",
   "metadata": {},
   "source": [
    "#### 4. Assuming that we have some email addresses in the \"username@companyname.com\" format, please write program to print the user name of a given email address. Both user names and company names are composed of letters only.\n",
    "\n",
    ">Example:\n",
    "\n",
    "If the following email address is given as input to the program: john@google.com\n",
    "\n",
    "Then, the output of the program should be: john"
   ]
  },
  {
   "cell_type": "code",
   "execution_count": 7,
   "id": "91ceedf8",
   "metadata": {},
   "outputs": [],
   "source": [
    "def getUserName():\n",
    "    try:\n",
    "        s = input(\"Enter an email: \")\n",
    "        sp = s.split(\"@\")\n",
    "        print(f\"User name of {s} is {sp[0]}\")\n",
    "    except Exception as e:\n",
    "        print(e)"
   ]
  },
  {
   "cell_type": "code",
   "execution_count": 8,
   "id": "49a2bd6e",
   "metadata": {},
   "outputs": [
    {
     "name": "stdout",
     "output_type": "stream",
     "text": [
      "Enter an email: john@google.com\n",
      "User name of john@google.com is john\n"
     ]
    }
   ],
   "source": [
    "getUserName()"
   ]
  },
  {
   "cell_type": "markdown",
   "id": "ef0521f6",
   "metadata": {},
   "source": [
    "#### 5. Define a class named Shape and its subclass Square. The Square class has an init function which takes a length as argument. Both classes have a area function which can print the area of the shape where Shape's area is 0 by default."
   ]
  },
  {
   "cell_type": "code",
   "execution_count": 9,
   "id": "c5836edf",
   "metadata": {},
   "outputs": [],
   "source": [
    "class Shape:\n",
    "    def area(self):\n",
    "        return 0\n",
    "    \n",
    "class Square(Shape):\n",
    "    def __init__(self, length):\n",
    "        self.length = length\n",
    "    def area(self):\n",
    "        return self.length*self.length"
   ]
  },
  {
   "cell_type": "code",
   "execution_count": 10,
   "id": "515ba29a",
   "metadata": {},
   "outputs": [
    {
     "data": {
      "text/plain": [
       "400"
      ]
     },
     "execution_count": 10,
     "metadata": {},
     "output_type": "execute_result"
    }
   ],
   "source": [
    "Q = Square(20)\n",
    "Q.area()"
   ]
  }
 ],
 "metadata": {
  "kernelspec": {
   "display_name": "Python 3 (ipykernel)",
   "language": "python",
   "name": "python3"
  },
  "language_info": {
   "codemirror_mode": {
    "name": "ipython",
    "version": 3
   },
   "file_extension": ".py",
   "mimetype": "text/x-python",
   "name": "python",
   "nbconvert_exporter": "python",
   "pygments_lexer": "ipython3",
   "version": "3.9.7"
  }
 },
 "nbformat": 4,
 "nbformat_minor": 5
}
