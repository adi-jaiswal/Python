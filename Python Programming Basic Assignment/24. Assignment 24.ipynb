{
 "cells": [
  {
   "cell_type": "markdown",
   "id": "2109c612",
   "metadata": {},
   "source": [
    "#### 1. Create a function that takes an integer and returns a list from 1 to the given number, where:\n",
    "* If the number can be divided evenly by 4, amplify it by 10 (i.e. return 10 times the number).\n",
    "* If the number cannot be divided evenly by 4, simply return the number.\n",
    ">Examples\n",
    "\n",
    "amplify(4) ➞ [1, 2, 3, 40]\n",
    "\n",
    "amplify(3) ➞ [1, 2, 3]\n",
    "\n",
    "amplify(25) ➞ [1, 2, 3, 40, 5, 6, 7, 80, 9, 10, 11, 120, 13, 14, 15, 160, 17, 18, 19, 200, 21, 22, 23, 240, 25]\n",
    "\n",
    ">Notes\n",
    "\n",
    "* The given integer will always be equal to or greater than 1.\n",
    "* Include the number (see example above).\n",
    "* To perform this problem with its intended purpose, try doing it with list comprehensions. If that's too difficult, just solve the challenge any way you can.\n"
   ]
  },
  {
   "cell_type": "code",
   "execution_count": 1,
   "id": "2f9a1ded",
   "metadata": {},
   "outputs": [],
   "source": [
    "def amplify():\n",
    "    try:\n",
    "        n = int(input(\"Enter a number: \"))\n",
    "        l = []\n",
    "        for i in range(1, n+1):\n",
    "            if i % 4 == 0:\n",
    "                l.append(i*10)\n",
    "            else:\n",
    "                l.append(i)\n",
    "        print(l, end = \"\")\n",
    "    except Exception as e:\n",
    "        print(e)"
   ]
  },
  {
   "cell_type": "code",
   "execution_count": 2,
   "id": "1cabc611",
   "metadata": {},
   "outputs": [
    {
     "name": "stdout",
     "output_type": "stream",
     "text": [
      "Enter a number: 25\n",
      "[1, 2, 3, 40, 5, 6, 7, 80, 9, 10, 11, 120, 13, 14, 15, 160, 17, 18, 19, 200, 21, 22, 23, 240, 25]"
     ]
    }
   ],
   "source": [
    "amplify()"
   ]
  },
  {
   "cell_type": "markdown",
   "id": "fd177b42",
   "metadata": {},
   "source": [
    "#### 2. Create a function that takes a list of numbers and return the number that's unique.\n",
    "\n",
    ">Examples\n",
    "\n",
    "unique([3, 3, 3, 7, 3, 3]) ➞ 7\n",
    "\n",
    "unique([0, 0, 0.77, 0, 0]) ➞ 0.77\n",
    "\n",
    "unique([0, 1, 1, 1, 1, 1, 1, 1]) ➞ 0\n",
    "\n",
    ">Notes\n",
    "\n",
    "Test cases will always have exactly one unique number while all others are the same."
   ]
  },
  {
   "cell_type": "code",
   "execution_count": 3,
   "id": "0fb6da0d",
   "metadata": {},
   "outputs": [],
   "source": [
    "def unique():\n",
    "    try:\n",
    "        l = eval(input(\"Enter a list: \"))\n",
    "        s = ''\n",
    "        for i in l:\n",
    "            if l.count(i) == 1:\n",
    "                s = i\n",
    "        return s\n",
    "    except Exception as e:\n",
    "        print(e)"
   ]
  },
  {
   "cell_type": "code",
   "execution_count": 4,
   "id": "25c0bd5e",
   "metadata": {},
   "outputs": [
    {
     "name": "stdout",
     "output_type": "stream",
     "text": [
      "Enter a list: [0, 1, 1, 1, 1, 1, 1, 1]\n"
     ]
    },
    {
     "data": {
      "text/plain": [
       "0"
      ]
     },
     "execution_count": 4,
     "metadata": {},
     "output_type": "execute_result"
    }
   ],
   "source": [
    "unique()"
   ]
  },
  {
   "cell_type": "markdown",
   "id": "89422de6",
   "metadata": {},
   "source": [
    "#### 3. Your task is to create a Circle constructor that creates a circle with a radius provided by an argument. The circles constructed must have two getters getArea() (PIr^2) and getPerimeter() (2PI*r) which give both respective areas and perimeter (circumference).\n",
    "\n",
    "For help with this class, I have provided you with a Rectangle constructor which you can use as a base example.\n",
    "\n",
    ">Examples\n",
    "\n",
    "circy = Circle(11)\n",
    "\n",
    "circy.getArea()\n",
    "\n",
    "Should return 380.132711084365\n",
    "\n",
    "circy = Circle(4.44)\n",
    "\n",
    "circy.getPerimeter()\n",
    "\n",
    "Should return 27.897342763877365\n",
    "\n",
    ">Notes\n",
    "\n",
    "Round results up to the nearest integer."
   ]
  },
  {
   "cell_type": "code",
   "execution_count": 5,
   "id": "5a6304b6",
   "metadata": {},
   "outputs": [],
   "source": [
    "import math\n",
    "\n",
    "class Circle:\n",
    "    def __init__(self, r):\n",
    "        self.r = r\n",
    "        \n",
    "    def getArea(self):\n",
    "        return (math.pi)*(self.r**2)\n",
    "    \n",
    "    def getPerimeter(self):\n",
    "        return 2*(math.pi)*(self.r)"
   ]
  },
  {
   "cell_type": "code",
   "execution_count": 6,
   "id": "0f6f6c71",
   "metadata": {},
   "outputs": [
    {
     "data": {
      "text/plain": [
       "380.132711084365"
      ]
     },
     "execution_count": 6,
     "metadata": {},
     "output_type": "execute_result"
    }
   ],
   "source": [
    "P = Circle(11)\n",
    "P.getArea()"
   ]
  },
  {
   "cell_type": "code",
   "execution_count": 7,
   "id": "7366637b",
   "metadata": {},
   "outputs": [
    {
     "data": {
      "text/plain": [
       "27.897342763877365"
      ]
     },
     "execution_count": 7,
     "metadata": {},
     "output_type": "execute_result"
    }
   ],
   "source": [
    "P = Circle(4.44)\n",
    "P.getPerimeter()"
   ]
  },
  {
   "cell_type": "markdown",
   "id": "3948034a",
   "metadata": {},
   "source": [
    "#### 4. Create a function that takes a list of strings and return a list, sorted from shortest to longest.\n",
    "\n",
    ">Examples\n",
    "\n",
    "sort_by_length([\"Google\", \"Apple\", \"Microsoft\"])\n",
    "➞ [\"Apple\", \"Google\", \"Microsoft\"]\n",
    "\n",
    "sort_by_length([\"Leonardo\", \"Michelangelo\", \"Raphael\", \"Donatello\"])\n",
    "➞ [\"Raphael\", \"Leonardo\", \"Donatello\", \"Michelangelo\"]\n",
    "\n",
    "sort_by_length([\"Turing\", \"Einstein\", \"Jung\"])\n",
    "➞ [\"Jung\", \"Turing\", \"Einstein\"]\n",
    "\n",
    ">Notes\n",
    "\n",
    "All test cases contain lists with strings of different lengths, so you won't have to deal with multiple strings of the same length."
   ]
  },
  {
   "cell_type": "code",
   "execution_count": 8,
   "id": "9a313c01",
   "metadata": {},
   "outputs": [],
   "source": [
    "def sort_by_length():\n",
    "    try:\n",
    "        l = eval(input(\"Enter a list of strings: \"))\n",
    "        return (sorted(l, key=len))\n",
    "    except Exception as e:\n",
    "        print(e)"
   ]
  },
  {
   "cell_type": "code",
   "execution_count": 9,
   "id": "5788a9a0",
   "metadata": {},
   "outputs": [
    {
     "name": "stdout",
     "output_type": "stream",
     "text": [
      "Enter a list of strings: [\"Google\", \"Apple\", \"Microsoft\"]\n"
     ]
    },
    {
     "data": {
      "text/plain": [
       "['Apple', 'Google', 'Microsoft']"
      ]
     },
     "execution_count": 9,
     "metadata": {},
     "output_type": "execute_result"
    }
   ],
   "source": [
    "sort_by_length()"
   ]
  },
  {
   "cell_type": "markdown",
   "id": "96c51a8c",
   "metadata": {},
   "source": [
    "#### 5. Create a function that validates whether three given integers form a Pythagorean triplet. The sum of the squares of the two smallest integers must equal the square of the largest number to be validated.\n",
    "\n",
    ">Examples\n",
    "\n",
    "is_triplet(3, 4, 5) ➞ True\n",
    "* 3² + 4² = 25\n",
    "* 5² = 25\n",
    "\n",
    "is_triplet(13, 5, 12) ➞ True\n",
    "* 5² + 12² = 169\n",
    "* 13² = 169\n",
    "\n",
    "is_triplet(1, 2, 3) ➞ False\n",
    "* 1² + 2² = 5\n",
    "* 3² = 9\n",
    "\n",
    ">Notes\n",
    "\n",
    "Numbers may not be given in a sorted order."
   ]
  },
  {
   "cell_type": "code",
   "execution_count": 10,
   "id": "10fe8f47",
   "metadata": {},
   "outputs": [],
   "source": [
    "def is_triplet():\n",
    "    try:\n",
    "        a = int(input(\"Enter first number: \"))\n",
    "        b = int(input(\"Enter second number: \"))\n",
    "        c = int(input(\"Enter third number: \"))\n",
    "        if a<c and b<c:\n",
    "            if a**2 + b**2 == c**2:\n",
    "                return True\n",
    "            return False\n",
    "        elif a<b and c<b:\n",
    "            if a**2 + c**2 == b**2:\n",
    "                return True\n",
    "            return False\n",
    "        elif b<a and c<a:\n",
    "            if b**2 + c**2 == a**2:\n",
    "                return True\n",
    "            return False\n",
    "    except Exception as e:\n",
    "        print(e)"
   ]
  },
  {
   "cell_type": "code",
   "execution_count": 11,
   "id": "0a3a10b7",
   "metadata": {},
   "outputs": [
    {
     "name": "stdout",
     "output_type": "stream",
     "text": [
      "Enter first number: 13\n",
      "Enter second number: 5\n",
      "Enter third number: 12\n"
     ]
    },
    {
     "data": {
      "text/plain": [
       "True"
      ]
     },
     "execution_count": 11,
     "metadata": {},
     "output_type": "execute_result"
    }
   ],
   "source": [
    "is_triplet()"
   ]
  }
 ],
 "metadata": {
  "kernelspec": {
   "display_name": "Python 3 (ipykernel)",
   "language": "python",
   "name": "python3"
  },
  "language_info": {
   "codemirror_mode": {
    "name": "ipython",
    "version": 3
   },
   "file_extension": ".py",
   "mimetype": "text/x-python",
   "name": "python",
   "nbconvert_exporter": "python",
   "pygments_lexer": "ipython3",
   "version": "3.9.7"
  }
 },
 "nbformat": 4,
 "nbformat_minor": 5
}
