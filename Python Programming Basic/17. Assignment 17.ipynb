{
 "cells": [
  {
   "cell_type": "markdown",
   "id": "3437eabc",
   "metadata": {},
   "source": [
    "#### 1. Create a function that takes three arguments a, b, c and returns the sum of the numbers that are evenly divided by c from the range a, b inclusive.\n",
    "\n",
    ">Examples\n",
    "\n",
    "evenly_divisible(1, 10, 20) ➞ 0\n",
    "* No number between 1 and 10 can be evenly divided by 20.\n",
    "\n",
    "evenly_divisible(1, 10, 2) ➞ 30\n",
    "* 2 + 4 + 6 + 8 + 10 = 30\n",
    "\n",
    "evenly_divisible(1, 10, 3) ➞ 18\n",
    "* 3 + 6 + 9 = 18\n"
   ]
  },
  {
   "cell_type": "code",
   "execution_count": 1,
   "id": "d365c06d",
   "metadata": {},
   "outputs": [],
   "source": [
    "def evenly_divisible(a, b, c):\n",
    "    try:\n",
    "        l = []\n",
    "        for i in range(a, b+1):\n",
    "            if i % c == 0:\n",
    "                l.append(i)\n",
    "        if i % c != 0:\n",
    "            print(f\"No number between {a} and {b} can be evenly divided by {c}.\")\n",
    "        return sum(l)\n",
    "    except Exception as e:\n",
    "        print(e)"
   ]
  },
  {
   "cell_type": "code",
   "execution_count": 2,
   "id": "83692838",
   "metadata": {},
   "outputs": [
    {
     "data": {
      "text/plain": [
       "30"
      ]
     },
     "execution_count": 2,
     "metadata": {},
     "output_type": "execute_result"
    }
   ],
   "source": [
    "evenly_divisible(1, 10, 2)"
   ]
  },
  {
   "cell_type": "markdown",
   "id": "1d2292bb",
   "metadata": {},
   "source": [
    "#### 2. Create a function that returns True if a given inequality expression is correct and False otherwise.\n",
    "\n",
    ">Examples\n",
    "\n",
    "correct_signs(\"3 < 7 < 11\") ➞ True\n",
    "\n",
    "correct_signs(\"13 > 44 > 33 > 1\") ➞ False\n",
    "\n",
    "correct_signs(\"1 < 2 < 6 < 9 > 3\") ➞ True"
   ]
  },
  {
   "cell_type": "code",
   "execution_count": 3,
   "id": "5a79b2f3",
   "metadata": {},
   "outputs": [],
   "source": [
    "def correct_signs(s):\n",
    "    try:\n",
    "        output = eval(s)\n",
    "        print(f\"({s}) -> {output}\")\n",
    "    except Exception as e:\n",
    "        print(e)"
   ]
  },
  {
   "cell_type": "code",
   "execution_count": 4,
   "id": "2872b38b",
   "metadata": {},
   "outputs": [
    {
     "name": "stdout",
     "output_type": "stream",
     "text": [
      "(3 < 7 < 11) -> True\n"
     ]
    }
   ],
   "source": [
    "correct_signs(\"3 < 7 < 11\")"
   ]
  },
  {
   "cell_type": "markdown",
   "id": "662c67da",
   "metadata": {},
   "source": [
    "#### 3. Create a function that replaces all the vowels in a string with a specified character.\n",
    "\n",
    ">Examples\n",
    "\n",
    "replace_vowels(\"the aardvark\", \"#\") ➞ \"th# ##rdv#rk\"\n",
    "\n",
    "replace_vowels(\"minnie mouse\", \"?\") ➞ \"m?nn?? m??s?\"\n",
    "\n",
    "replace_vowels(\"shakespeare\", \"*\") ➞ \"sh*k*sp**r*\"\n"
   ]
  },
  {
   "cell_type": "code",
   "execution_count": 5,
   "id": "b90ef856",
   "metadata": {},
   "outputs": [],
   "source": [
    "def replace_vowels(s, r):\n",
    "    try:\n",
    "        new_s = s\n",
    "        vowels = ['a', 'e', 'i', 'o', 'u', 'A', 'E', 'I', 'O', 'U']\n",
    "        for x in s:\n",
    "            if x in vowels:\n",
    "                s = s.replace(x, r)\n",
    "        print(f\"{(new_s, r)} -> {s}\")\n",
    "    except Exception as e:\n",
    "        print(e)"
   ]
  },
  {
   "cell_type": "code",
   "execution_count": 6,
   "id": "68070bbf",
   "metadata": {},
   "outputs": [
    {
     "name": "stdout",
     "output_type": "stream",
     "text": [
      "('minnie mouse', '?') -> m?nn?? m??s?\n"
     ]
    }
   ],
   "source": [
    "replace_vowels(\"minnie mouse\", \"?\")"
   ]
  },
  {
   "cell_type": "markdown",
   "id": "67c59941",
   "metadata": {},
   "source": [
    "#### 4. Write a function that calculates the factorial of a number recursively.\n",
    "\n",
    ">Examples\n",
    "\n",
    "factorial(5) ➞ 120\n",
    "\n",
    "factorial(3) ➞ 6\n",
    "\n",
    "factorial(1) ➞ 1\n",
    "\n",
    "factorial(0) ➞ 1"
   ]
  },
  {
   "cell_type": "code",
   "execution_count": 7,
   "id": "46173687",
   "metadata": {},
   "outputs": [],
   "source": [
    "def factorial(n):\n",
    "    try:\n",
    "        if n == 0:\n",
    "            return 1\n",
    "        else:\n",
    "            return n*factorial(n-1)\n",
    "    except Exception as e:\n",
    "        print(e)"
   ]
  },
  {
   "cell_type": "code",
   "execution_count": 8,
   "id": "4232cb33",
   "metadata": {},
   "outputs": [
    {
     "data": {
      "text/plain": [
       "120"
      ]
     },
     "execution_count": 8,
     "metadata": {},
     "output_type": "execute_result"
    }
   ],
   "source": [
    "factorial(5)"
   ]
  },
  {
   "cell_type": "markdown",
   "id": "3e0344de",
   "metadata": {},
   "source": [
    "#### 5. Hamming distance is the number of characters that differ between two strings.\n",
    "\n",
    "To illustrate:\n",
    "\n",
    "String1: \"abcbba\"\n",
    "\n",
    "String2: \"abcbda\"\n",
    "\n",
    "Hamming Distance: 1 - \"b\" vs. \"d\" is the only difference.\n",
    "\n",
    "#### Create a function that computes the hamming distance between two strings.\n",
    "\n",
    ">Examples\n",
    "\n",
    "hamming_distance(\"abcde\", \"bcdef\") ➞ 5\n",
    "\n",
    "hamming_distance(\"abcde\", \"abcde\") ➞ 0\n",
    "\n",
    "hamming_distance(\"strong\", \"strung\") ➞ 1"
   ]
  },
  {
   "cell_type": "code",
   "execution_count": 9,
   "id": "746b47be",
   "metadata": {},
   "outputs": [],
   "source": [
    "def hamming_distance(s1, s2):\n",
    "    try:\n",
    "        if len(s1) == len(s1):\n",
    "            c = 0\n",
    "            for i in range(len(s1)):\n",
    "                if s1[i] != s2[i]:\n",
    "                    c = c + 1\n",
    "            print(f\"{(s1, s2)} -> {c}\")\n",
    "        else:\n",
    "            print(\"Both the string are not of same length\")\n",
    "    except Exception as e:\n",
    "        print(e)"
   ]
  },
  {
   "cell_type": "code",
   "execution_count": 10,
   "id": "6e674eb3",
   "metadata": {},
   "outputs": [
    {
     "name": "stdout",
     "output_type": "stream",
     "text": [
      "('abcde', 'bcdef') -> 5\n"
     ]
    }
   ],
   "source": [
    "hamming_distance(\"abcde\", \"bcdef\")"
   ]
  }
 ],
 "metadata": {
  "kernelspec": {
   "display_name": "Python 3 (ipykernel)",
   "language": "python",
   "name": "python3"
  },
  "language_info": {
   "codemirror_mode": {
    "name": "ipython",
    "version": 3
   },
   "file_extension": ".py",
   "mimetype": "text/x-python",
   "name": "python",
   "nbconvert_exporter": "python",
   "pygments_lexer": "ipython3",
   "version": "3.9.7"
  }
 },
 "nbformat": 4,
 "nbformat_minor": 5
}
