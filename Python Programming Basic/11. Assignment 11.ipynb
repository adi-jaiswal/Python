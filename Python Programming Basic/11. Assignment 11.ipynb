{
 "cells": [
  {
   "cell_type": "markdown",
   "id": "65dccfbe",
   "metadata": {},
   "source": [
    "#### 1. Write a Python program to find words which are greater than given length k?"
   ]
  },
  {
   "cell_type": "code",
   "execution_count": 1,
   "id": "eed267c6",
   "metadata": {},
   "outputs": [],
   "source": [
    "def getWords():\n",
    "    try:\n",
    "        s = input(\"Enter a sentence: \")\n",
    "        k = int(input(\"Enter the length: \"))\n",
    "        temp = s.split(' ')\n",
    "        for i in temp:\n",
    "            if len(i) > k:\n",
    "                print(i)\n",
    "    except Exception as e:\n",
    "        print(e)"
   ]
  },
  {
   "cell_type": "code",
   "execution_count": 2,
   "id": "328bbb96",
   "metadata": {},
   "outputs": [
    {
     "name": "stdout",
     "output_type": "stream",
     "text": [
      "Enter a sentence: Hello how are you today\n",
      "Enter the length: 4\n",
      "Hello\n",
      "today\n"
     ]
    }
   ],
   "source": [
    "getWords()"
   ]
  },
  {
   "cell_type": "markdown",
   "id": "f63786c6",
   "metadata": {},
   "source": [
    "#### 2. Write a Python program for removing i-th character from a string?"
   ]
  },
  {
   "cell_type": "code",
   "execution_count": 3,
   "id": "6e8c04f7",
   "metadata": {},
   "outputs": [],
   "source": [
    "def removeChar():\n",
    "    try:\n",
    "        s = input(\"Enter a string: \")\n",
    "        k = int(input(\"Enter the position of the char you want to remove (start count from 0): \"))\n",
    "        new_s = \"\"\n",
    "        for i in range(len(s)):\n",
    "            if i != k:\n",
    "                new_s = new_s + s[i]\n",
    "        return new_s\n",
    "    except Exception as e:\n",
    "        print(e)"
   ]
  },
  {
   "cell_type": "code",
   "execution_count": 4,
   "id": "20f6cbb9",
   "metadata": {},
   "outputs": [
    {
     "name": "stdout",
     "output_type": "stream",
     "text": [
      "Enter a string: This is the program to remove ith char\n",
      "Enter the position of the char you want to remove (start count from 0): 5\n"
     ]
    },
    {
     "data": {
      "text/plain": [
       "'This s the program to remove ith char'"
      ]
     },
     "execution_count": 4,
     "metadata": {},
     "output_type": "execute_result"
    }
   ],
   "source": [
    "removeChar()"
   ]
  },
  {
   "cell_type": "markdown",
   "id": "1815fc85",
   "metadata": {},
   "source": [
    "#### 3. Write a Python program to split and join a string?"
   ]
  },
  {
   "cell_type": "code",
   "execution_count": 5,
   "id": "a873a36c",
   "metadata": {},
   "outputs": [],
   "source": [
    "def split_join():\n",
    "    try:\n",
    "        s = input(\"Enter a string: \")\n",
    "        split_str = s.split(\" \") \n",
    "        print(f\"The splitted srting is: {split_str}\")\n",
    "        \n",
    "        join_s = \" \".join(split_str)\n",
    "        print(f\"The joined string is: {join_s}\")\n",
    "    except Exception as e:\n",
    "        print(e)"
   ]
  },
  {
   "cell_type": "code",
   "execution_count": 6,
   "id": "e0d2546b",
   "metadata": {},
   "outputs": [
    {
     "name": "stdout",
     "output_type": "stream",
     "text": [
      "Enter a string: This is a program\n",
      "The splitted srting is: ['This', 'is', 'a', 'program']\n",
      "The joined string is: This is a program\n"
     ]
    }
   ],
   "source": [
    "split_join()"
   ]
  },
  {
   "cell_type": "markdown",
   "id": "2596f1f6",
   "metadata": {},
   "source": [
    "#### 4. Write a Python to check if a given string is binary string or not?"
   ]
  },
  {
   "cell_type": "code",
   "execution_count": 7,
   "id": "667286d3",
   "metadata": {},
   "outputs": [],
   "source": [
    "def checkBinary():\n",
    "    try:\n",
    "        s = input(\"Enter a string: \")\n",
    "        a = set(s)\n",
    "        b = {'0','1'}\n",
    "        if a == b or a == {1} or a == {0}:\n",
    "            print(f\"{s} : is a binary string\")\n",
    "        else:\n",
    "            print(f\"{s} : is not a binary string\")\n",
    "    except Exception as e:\n",
    "        print(e)"
   ]
  },
  {
   "cell_type": "code",
   "execution_count": 8,
   "id": "5d84dd6a",
   "metadata": {},
   "outputs": [
    {
     "name": "stdout",
     "output_type": "stream",
     "text": [
      "Enter a string: 01010101\n",
      "01010101 : is a binary string\n"
     ]
    }
   ],
   "source": [
    "checkBinary()"
   ]
  },
  {
   "cell_type": "markdown",
   "id": "06d296a5",
   "metadata": {},
   "source": [
    "#### 5. Write a Python program to find uncommon words from two Strings?"
   ]
  },
  {
   "cell_type": "code",
   "execution_count": 9,
   "id": "e2ffce31",
   "metadata": {},
   "outputs": [],
   "source": [
    "def uncommonWords():\n",
    "    try:\n",
    "        s1 = input(\"Enter first string: \")\n",
    "        s2 = input(\"Enter second string: \")\n",
    "        s = ''\n",
    "        for i in s1.split():\n",
    "            if i not in s2.split():\n",
    "                s = s+\" \"+i\n",
    "        for j in s2.split():\n",
    "            if j not in s1.split():\n",
    "                s =  s+\" \"+j\n",
    "        return s\n",
    "    except Exception as e:\n",
    "        print(e)"
   ]
  },
  {
   "cell_type": "code",
   "execution_count": 10,
   "id": "9cd0203c",
   "metadata": {},
   "outputs": [
    {
     "name": "stdout",
     "output_type": "stream",
     "text": [
      "Enter first string: It is not appropriate\n",
      "Enter second string: It is totally fine\n"
     ]
    },
    {
     "data": {
      "text/plain": [
       "' not appropriate totally fine'"
      ]
     },
     "execution_count": 10,
     "metadata": {},
     "output_type": "execute_result"
    }
   ],
   "source": [
    "uncommonWords()"
   ]
  },
  {
   "cell_type": "markdown",
   "id": "69e1bf50",
   "metadata": {},
   "source": [
    "#### 6. Write a Python to find all duplicate characters in string?\n"
   ]
  },
  {
   "cell_type": "code",
   "execution_count": 11,
   "id": "8a1f4d1f",
   "metadata": {},
   "outputs": [],
   "source": [
    "def getDuplicates():\n",
    "    try:\n",
    "        s = input(\"Enter a string: \")\n",
    "        l = []\n",
    "        for i in s:\n",
    "            if s.count(i) > 1:\n",
    "                if i not in l:\n",
    "                    l.append(i)\n",
    "        return l\n",
    "    except Exception as e:\n",
    "        print(e)"
   ]
  },
  {
   "cell_type": "code",
   "execution_count": 13,
   "id": "2b4ed27e",
   "metadata": {},
   "outputs": [
    {
     "name": "stdout",
     "output_type": "stream",
     "text": [
      "Enter a string: adbabbdbaahgh\n"
     ]
    },
    {
     "data": {
      "text/plain": [
       "['a', 'd', 'b', 'h']"
      ]
     },
     "execution_count": 13,
     "metadata": {},
     "output_type": "execute_result"
    }
   ],
   "source": [
    "getDuplicates()"
   ]
  },
  {
   "cell_type": "markdown",
   "id": "44d34df2",
   "metadata": {},
   "source": [
    "#### 7. Write a Python Program to check if a string contains any special character?"
   ]
  },
  {
   "cell_type": "code",
   "execution_count": 14,
   "id": "518debc8",
   "metadata": {},
   "outputs": [],
   "source": [
    "def checkSpecialChar():\n",
    "    try:\n",
    "        s = input(\"Enter a string: \")\n",
    "        spl_char = \"[@_!#$%^&*()<>?/\\|}{~:]\"\n",
    "        l = []\n",
    "        for i in s:\n",
    "            if i in spl_char:\n",
    "                l.append(i)\n",
    "        return l\n",
    "    except Exception as e:\n",
    "        print(e)"
   ]
  },
  {
   "cell_type": "code",
   "execution_count": 15,
   "id": "ae9e27f5",
   "metadata": {},
   "outputs": [
    {
     "name": "stdout",
     "output_type": "stream",
     "text": [
      "Enter a string: moon@#$%\n"
     ]
    },
    {
     "data": {
      "text/plain": [
       "['@', '#', '$', '%']"
      ]
     },
     "execution_count": 15,
     "metadata": {},
     "output_type": "execute_result"
    }
   ],
   "source": [
    "checkSpecialChar()"
   ]
  }
 ],
 "metadata": {
  "kernelspec": {
   "display_name": "Python 3 (ipykernel)",
   "language": "python",
   "name": "python3"
  },
  "language_info": {
   "codemirror_mode": {
    "name": "ipython",
    "version": 3
   },
   "file_extension": ".py",
   "mimetype": "text/x-python",
   "name": "python",
   "nbconvert_exporter": "python",
   "pygments_lexer": "ipython3",
   "version": "3.9.7"
  }
 },
 "nbformat": 4,
 "nbformat_minor": 5
}
