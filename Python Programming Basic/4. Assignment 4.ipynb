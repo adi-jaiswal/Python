{
 "cells": [
  {
   "cell_type": "markdown",
   "id": "b810ac3a",
   "metadata": {},
   "source": [
    "#### 1. Write a Python Program to Find the Factorial of a Number?"
   ]
  },
  {
   "cell_type": "code",
   "execution_count": 1,
   "id": "eec36bfd",
   "metadata": {},
   "outputs": [],
   "source": [
    "def get_factorial():\n",
    "    try:\n",
    "        a = int(input(\"Enter a number: \"))\n",
    "        fact = 1\n",
    "        for i in range(1,a+1):\n",
    "            fact = fact * i\n",
    "        print(f\"Factorial of {a} is {fact}\")\n",
    "    except Exception as e:\n",
    "        print(e)"
   ]
  },
  {
   "cell_type": "code",
   "execution_count": 2,
   "id": "655f8506",
   "metadata": {},
   "outputs": [
    {
     "name": "stdout",
     "output_type": "stream",
     "text": [
      "Enter a number: 4\n",
      "Factorial of 4 is 24\n"
     ]
    }
   ],
   "source": [
    "get_factorial()"
   ]
  },
  {
   "cell_type": "markdown",
   "id": "ef949bc8",
   "metadata": {},
   "source": [
    "#### 2. Write a Python Program to Display the multiplication Table?"
   ]
  },
  {
   "cell_type": "code",
   "execution_count": 3,
   "id": "4c53bd20",
   "metadata": {},
   "outputs": [],
   "source": [
    "def mult_table():\n",
    "    try:\n",
    "        a = int(input(\"Enter a number for which you want get the multiplication table: \"))\n",
    "        for i in range(1,11):\n",
    "            t = a * i\n",
    "            print(a,'x', i, '=', t)\n",
    "    except Exception as e:\n",
    "        print(e)"
   ]
  },
  {
   "cell_type": "code",
   "execution_count": 4,
   "id": "5c4c1c41",
   "metadata": {},
   "outputs": [
    {
     "name": "stdout",
     "output_type": "stream",
     "text": [
      "Enter a number for which you want get the multiplication table: 11\n",
      "11 x 1 = 11\n",
      "11 x 2 = 22\n",
      "11 x 3 = 33\n",
      "11 x 4 = 44\n",
      "11 x 5 = 55\n",
      "11 x 6 = 66\n",
      "11 x 7 = 77\n",
      "11 x 8 = 88\n",
      "11 x 9 = 99\n",
      "11 x 10 = 110\n"
     ]
    }
   ],
   "source": [
    "mult_table()"
   ]
  },
  {
   "cell_type": "markdown",
   "id": "fd6f217d",
   "metadata": {},
   "source": [
    "#### 3. Write a Python Program to Print the Fibonacci sequence?"
   ]
  },
  {
   "cell_type": "code",
   "execution_count": 5,
   "id": "320398d8",
   "metadata": {},
   "outputs": [],
   "source": [
    "def fibonacci():\n",
    "    n = int(input(\"Enter a number: \"))\n",
    "    a = 0\n",
    "    b = 1\n",
    "    l = []\n",
    "    for i in range(n):\n",
    "        l.append(a)\n",
    "        a, b = b, a+b\n",
    "    return l"
   ]
  },
  {
   "cell_type": "code",
   "execution_count": 6,
   "id": "bb5d045f",
   "metadata": {},
   "outputs": [
    {
     "name": "stdout",
     "output_type": "stream",
     "text": [
      "Enter a number: 10\n"
     ]
    },
    {
     "data": {
      "text/plain": [
       "[0, 1, 1, 2, 3, 5, 8, 13, 21, 34]"
      ]
     },
     "execution_count": 6,
     "metadata": {},
     "output_type": "execute_result"
    }
   ],
   "source": [
    "fibonacci()"
   ]
  },
  {
   "cell_type": "markdown",
   "id": "231af49c",
   "metadata": {},
   "source": [
    "#### 4. Write a Python Program to Check Armstrong Number?"
   ]
  },
  {
   "cell_type": "code",
   "execution_count": 7,
   "id": "65457bee",
   "metadata": {},
   "outputs": [],
   "source": [
    "def armstrong():\n",
    "    try:\n",
    "        n = int(input(\"Enter a number: \"))\n",
    "        r = len(str(n))\n",
    "        s = 0\n",
    "        m = n\n",
    "        while m>0:\n",
    "            a = m % 10\n",
    "            s += a**r\n",
    "            m = m // 10\n",
    "        if n == s:\n",
    "            print(\"It is an Armstrong Number\")\n",
    "        else:\n",
    "            print(\"It is not an Armstrong Number\")\n",
    "    except Exception as e:\n",
    "        print(e)"
   ]
  },
  {
   "cell_type": "code",
   "execution_count": 8,
   "id": "7f692fd2",
   "metadata": {},
   "outputs": [
    {
     "name": "stdout",
     "output_type": "stream",
     "text": [
      "Enter a number: 370\n",
      "It is an Armstrong Number\n"
     ]
    }
   ],
   "source": [
    "armstrong()"
   ]
  },
  {
   "cell_type": "markdown",
   "id": "43592fd8",
   "metadata": {},
   "source": [
    "#### 5. Write a Python Program to Find Armstrong Number in an Interval?"
   ]
  },
  {
   "cell_type": "code",
   "execution_count": 9,
   "id": "94c6aa93",
   "metadata": {},
   "outputs": [],
   "source": [
    "def get_armstrong():\n",
    "    try:\n",
    "        lower = int(input(\"Enter a lower limit: \"))\n",
    "        upper = int(input(\"Enter an upper limit: \"))\n",
    "        \n",
    "        for n in range(lower, upper+1):\n",
    "            r = len(str(n))\n",
    "            s = 0\n",
    "            m = n\n",
    "            while m>0:\n",
    "                a = m % 10\n",
    "                s += a**r\n",
    "                m = m // 10\n",
    "            if n == s:\n",
    "                print(n)\n",
    "    except Exception as e:\n",
    "        print(e)"
   ]
  },
  {
   "cell_type": "code",
   "execution_count": 10,
   "id": "d3fc3d8b",
   "metadata": {},
   "outputs": [
    {
     "name": "stdout",
     "output_type": "stream",
     "text": [
      "Enter a lower limit: 100\n",
      "Enter an upper limit: 1000\n",
      "153\n",
      "370\n",
      "371\n",
      "407\n"
     ]
    }
   ],
   "source": [
    "get_armstrong()"
   ]
  },
  {
   "cell_type": "markdown",
   "id": "a23942ce",
   "metadata": {},
   "source": [
    "#### 6. Write a Python Program to Find the Sum of Natural Numbers?"
   ]
  },
  {
   "cell_type": "code",
   "execution_count": 11,
   "id": "26cb7a70",
   "metadata": {},
   "outputs": [],
   "source": [
    "def get_sum():\n",
    "    try:\n",
    "        a = int(input(\"Enter a number: \"))\n",
    "        if a<0:\n",
    "            print(\"You have entered a negative number\")\n",
    "        else:\n",
    "            b = 0\n",
    "            while a>0:\n",
    "                b = b + a\n",
    "                a = a - 1\n",
    "            return b\n",
    "    except Exception as e:\n",
    "        print(e)"
   ]
  },
  {
   "cell_type": "code",
   "execution_count": 12,
   "id": "fdda534b",
   "metadata": {},
   "outputs": [
    {
     "name": "stdout",
     "output_type": "stream",
     "text": [
      "Enter a number: 20\n"
     ]
    },
    {
     "data": {
      "text/plain": [
       "210"
      ]
     },
     "execution_count": 12,
     "metadata": {},
     "output_type": "execute_result"
    }
   ],
   "source": [
    "get_sum()"
   ]
  }
 ],
 "metadata": {
  "kernelspec": {
   "display_name": "Python 3 (ipykernel)",
   "language": "python",
   "name": "python3"
  },
  "language_info": {
   "codemirror_mode": {
    "name": "ipython",
    "version": 3
   },
   "file_extension": ".py",
   "mimetype": "text/x-python",
   "name": "python",
   "nbconvert_exporter": "python",
   "pygments_lexer": "ipython3",
   "version": "3.9.7"
  }
 },
 "nbformat": 4,
 "nbformat_minor": 5
}
