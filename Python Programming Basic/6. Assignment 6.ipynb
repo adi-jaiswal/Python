{
 "cells": [
  {
   "cell_type": "markdown",
   "id": "60e53757",
   "metadata": {},
   "source": [
    "#### 1. Write a Python Program to Display Fibonacci Sequence Using Recursion?"
   ]
  },
  {
   "cell_type": "code",
   "execution_count": 1,
   "id": "6917541e",
   "metadata": {},
   "outputs": [],
   "source": [
    "def fib(n):\n",
    "    try:\n",
    "        if n == 1:\n",
    "            return 0\n",
    "        elif n == 2:\n",
    "            return 1\n",
    "        else:\n",
    "            return fib(n-1) + fib(n-2)\n",
    "    except Exception as e:\n",
    "        print(e)"
   ]
  },
  {
   "cell_type": "code",
   "execution_count": 2,
   "id": "2079e679",
   "metadata": {},
   "outputs": [
    {
     "name": "stdout",
     "output_type": "stream",
     "text": [
      "0 1 1 2 3 5 8 13 21 34 "
     ]
    }
   ],
   "source": [
    "for i in range(1,11):\n",
    "    print(fib(i), end = ' ' )"
   ]
  },
  {
   "cell_type": "markdown",
   "id": "44d17643",
   "metadata": {},
   "source": [
    "#### 2. Write a Python Program to Find Factorial of Number Using Recursion?"
   ]
  },
  {
   "cell_type": "code",
   "execution_count": 3,
   "id": "8787ec0e",
   "metadata": {},
   "outputs": [],
   "source": [
    "def factorial(n):\n",
    "    try:\n",
    "        if n==0:\n",
    "            return 1\n",
    "        else:\n",
    "            return n * factorial(n-1)\n",
    "    except Exception as e:\n",
    "        print(e)"
   ]
  },
  {
   "cell_type": "code",
   "execution_count": 4,
   "id": "41797dae",
   "metadata": {},
   "outputs": [
    {
     "data": {
      "text/plain": [
       "120"
      ]
     },
     "execution_count": 4,
     "metadata": {},
     "output_type": "execute_result"
    }
   ],
   "source": [
    "factorial(5)"
   ]
  },
  {
   "cell_type": "markdown",
   "id": "654cb52c",
   "metadata": {},
   "source": [
    "#### 3. Write a Python Program to calculate your Body Mass Index?"
   ]
  },
  {
   "cell_type": "code",
   "execution_count": 5,
   "id": "7cb0bb7f",
   "metadata": {},
   "outputs": [],
   "source": [
    "def BMI():\n",
    "    try:\n",
    "        Height = float(input(\"Enter your Height (in meters): \"))\n",
    "        Weight = float(input(\"Enter your Weight (in kgs): \"))\n",
    "        BMI = Weight / ((Height)**2)\n",
    "        print(\"Your BMI is: \", BMI)\n",
    "    except Exception as e:\n",
    "        print(e)"
   ]
  },
  {
   "cell_type": "code",
   "execution_count": 6,
   "id": "e4e27e76",
   "metadata": {},
   "outputs": [
    {
     "name": "stdout",
     "output_type": "stream",
     "text": [
      "Enter your Height (in meters): 1.78\n",
      "Enter your Weight (in kgs): 77.1\n",
      "Your BMI is:  24.334048731220804\n"
     ]
    }
   ],
   "source": [
    "BMI()"
   ]
  },
  {
   "cell_type": "markdown",
   "id": "54a33d65",
   "metadata": {},
   "source": [
    "#### 4. Write a Python Program to calculate the natural logarithm of any number?"
   ]
  },
  {
   "cell_type": "code",
   "execution_count": 7,
   "id": "77e66d1d",
   "metadata": {},
   "outputs": [],
   "source": [
    "import math\n",
    "\n",
    "def get_log():\n",
    "    try:\n",
    "        n = float(input(\"Enter a number: \"))\n",
    "        print(f\"Natural logarithm of {n} is {math.log(n)}\")\n",
    "    except Exception as e:\n",
    "        print(e)"
   ]
  },
  {
   "cell_type": "code",
   "execution_count": 8,
   "id": "e74b49ec",
   "metadata": {},
   "outputs": [
    {
     "name": "stdout",
     "output_type": "stream",
     "text": [
      "Enter a number: 14\n",
      "Natural logarithm of 14.0 is 2.6390573296152584\n"
     ]
    }
   ],
   "source": [
    "get_log()"
   ]
  },
  {
   "cell_type": "markdown",
   "id": "2c67847a",
   "metadata": {},
   "source": [
    "#### 5. Write a Python Program for cube sum of first n natural numbers?"
   ]
  },
  {
   "cell_type": "code",
   "execution_count": 9,
   "id": "6d1b2107",
   "metadata": {},
   "outputs": [],
   "source": [
    "def sum_cube():\n",
    "    try:\n",
    "        a = int(input(\"Enter the number: \"))\n",
    "        s = 0\n",
    "        for i in range(1,a+1):\n",
    "            s = s + (i*i*i)\n",
    "        print(f\"The cube sum for first {a} natural numbers is {s}\")\n",
    "    except Exception as e:\n",
    "        print(e)"
   ]
  },
  {
   "cell_type": "code",
   "execution_count": 10,
   "id": "f71c0507",
   "metadata": {},
   "outputs": [
    {
     "name": "stdout",
     "output_type": "stream",
     "text": [
      "Enter the number: 10\n",
      "The cube sum for first 10 natural numbers is 3025\n"
     ]
    }
   ],
   "source": [
    "sum_cube()"
   ]
  }
 ],
 "metadata": {
  "kernelspec": {
   "display_name": "Python 3 (ipykernel)",
   "language": "python",
   "name": "python3"
  },
  "language_info": {
   "codemirror_mode": {
    "name": "ipython",
    "version": 3
   },
   "file_extension": ".py",
   "mimetype": "text/x-python",
   "name": "python",
   "nbconvert_exporter": "python",
   "pygments_lexer": "ipython3",
   "version": "3.9.7"
  }
 },
 "nbformat": 4,
 "nbformat_minor": 5
}
