{
 "cells": [
  {
   "cell_type": "markdown",
   "id": "bee335c9",
   "metadata": {},
   "source": [
    "#### 1. Create a function that takes a list of non-negative integers and strings and return a new list without the strings.\n",
    "\n",
    ">Examples\n",
    "\n",
    "filter_list([1, 2, \"a\", \"b\"]) ➞ [1, 2]\n",
    "\n",
    "filter_list([1, \"a\", \"b\", 0, 15]) ➞ [1, 0, 15]\n",
    "\n",
    "filter_list([1, 2, \"aasf\", \"1\", \"123\", 123]) ➞ [1, 2, 123]"
   ]
  },
  {
   "cell_type": "code",
   "execution_count": 1,
   "id": "be0927cc",
   "metadata": {},
   "outputs": [],
   "source": [
    "def filter_list(l):\n",
    "    try:\n",
    "        l1 = []\n",
    "        for i in l:\n",
    "            if type(i) == int:\n",
    "                l1.append(i)\n",
    "        return l1\n",
    "    except Exception as e:\n",
    "        print(e)"
   ]
  },
  {
   "cell_type": "code",
   "execution_count": 2,
   "id": "49f44df9",
   "metadata": {},
   "outputs": [
    {
     "data": {
      "text/plain": [
       "[1, 0, 15]"
      ]
     },
     "execution_count": 2,
     "metadata": {},
     "output_type": "execute_result"
    }
   ],
   "source": [
    "filter_list([1, \"a\", \"b\", 0, 15])"
   ]
  },
  {
   "cell_type": "markdown",
   "id": "d2eb3bae",
   "metadata": {},
   "source": [
    "#### 2. The \"Reverser\" takes a string as input and returns that string in reverse order, with the opposite case.\n",
    "\n",
    ">Examples\n",
    "\n",
    "reverse(\"Hello World\") ➞ \"DLROw OLLEh\"\n",
    "\n",
    "reverse(\"ReVeRsE\") ➞ \"eSrEvEr\"\n",
    "\n",
    "reverse(\"Radar\") ➞ \"RADAr\""
   ]
  },
  {
   "cell_type": "code",
   "execution_count": 3,
   "id": "95ad03b7",
   "metadata": {},
   "outputs": [],
   "source": [
    "def reverse(s):\n",
    "    try:\n",
    "        s1 = s[::-1]\n",
    "        print(s1.swapcase())\n",
    "    except Exception as e:\n",
    "        print(e)"
   ]
  },
  {
   "cell_type": "code",
   "execution_count": 4,
   "id": "42c7b0bf",
   "metadata": {},
   "outputs": [
    {
     "name": "stdout",
     "output_type": "stream",
     "text": [
      "DLROw OLLEh\n"
     ]
    }
   ],
   "source": [
    "reverse(\"Hello World\")"
   ]
  },
  {
   "cell_type": "markdown",
   "id": "7ba9cea0",
   "metadata": {},
   "source": [
    "#### 3. You can assign variables from lists like this:\n",
    "\n",
    "* lst = [1, 2, 3, 4, 5, 6]\n",
    "* first = lst[0]\n",
    "* middle = lst[1:-1]\n",
    "* last = lst[-1]\n",
    "\n",
    "* print(first) ➞ outputs 1\n",
    "* print(middle) ➞ outputs [2, 3, 4, 5]\n",
    "* print(last) ➞ outputs 6\n",
    "\n",
    "#### With Python 3, you can assign variables from lists in a much more succinct way. Create variables first, middle and last from the given list using destructuring assignment (check the Resources tab for some examples), where:\n",
    "\n",
    "first  ➞ 1\n",
    "\n",
    "middle ➞ [2, 3, 4, 5]\n",
    "\n",
    "last ➞ 6\n",
    "\n",
    "#### Your task is to unpack the list writeyourcodehere into three variables, being first, middle, and last, with middle being everything in between the first and last element. Then print all three variables."
   ]
  },
  {
   "cell_type": "code",
   "execution_count": 5,
   "id": "e855503c",
   "metadata": {},
   "outputs": [],
   "source": [
    "def unpack(s):\n",
    "    try:\n",
    "        first = s[0]\n",
    "        middle = s[1:-1]\n",
    "        last = s[-1]\n",
    "        print(f\"first -> {first}\")\n",
    "        print(f\"middle -> {middle}\")\n",
    "        print(f\"last -> {last}\")\n",
    "    except Exception as e:\n",
    "        print(e)"
   ]
  },
  {
   "cell_type": "code",
   "execution_count": 6,
   "id": "058c0c00",
   "metadata": {},
   "outputs": [
    {
     "name": "stdout",
     "output_type": "stream",
     "text": [
      "first -> w\n",
      "middle -> riteyourcodeher\n",
      "last -> e\n"
     ]
    }
   ],
   "source": [
    "unpack(\"writeyourcodehere\")"
   ]
  },
  {
   "cell_type": "markdown",
   "id": "df05da54",
   "metadata": {},
   "source": [
    "#### 4. Write a function that calculates the factorial of a number recursively.\n",
    "\n",
    ">Examples\n",
    "\n",
    "factorial(5) ➞ 120\n",
    "\n",
    "factorial(3) ➞ 6\n",
    "\n",
    "factorial(1) ➞ 1\n",
    "\n",
    "factorial(0) ➞ 1"
   ]
  },
  {
   "cell_type": "code",
   "execution_count": 7,
   "id": "0d5415a8",
   "metadata": {},
   "outputs": [],
   "source": [
    "def factorial(n):\n",
    "    try:\n",
    "        if n == 0:\n",
    "            return 1\n",
    "        return n*factorial(n-1)\n",
    "    except Exception as e:\n",
    "        print(e)"
   ]
  },
  {
   "cell_type": "code",
   "execution_count": 8,
   "id": "d32ed51d",
   "metadata": {},
   "outputs": [
    {
     "data": {
      "text/plain": [
       "5040"
      ]
     },
     "execution_count": 8,
     "metadata": {},
     "output_type": "execute_result"
    }
   ],
   "source": [
    "factorial(7)"
   ]
  },
  {
   "cell_type": "markdown",
   "id": "25cf4521",
   "metadata": {},
   "source": [
    "#### 5. Write a function that moves all elements of one type to the end of the list.\n",
    "\n",
    ">Examples\n",
    "\n",
    "move_to_end([1, 3, 2, 4, 4, 1], 1) ➞ [3, 2, 4, 4, 1, 1]\n",
    "* Move all the 1s to the end of the array.\n",
    "\n",
    "move_to_end([7, 8, 9, 1, 2, 3, 4], 9) ➞ [7, 8, 1, 2, 3, 4, 9]\n",
    "\n",
    "move_to_end([\"a\", \"a\", \"a\", \"b\"], \"a\") ➞ [\"b\", \"a\", \"a\", \"a\"]\n"
   ]
  },
  {
   "cell_type": "code",
   "execution_count": 9,
   "id": "b4752bb6",
   "metadata": {},
   "outputs": [],
   "source": [
    "def move_to_end(l, n):\n",
    "    try:\n",
    "        end1 = []\n",
    "        end2 = []\n",
    "        for i in l:\n",
    "            if i == n:\n",
    "                end2.append(i)\n",
    "            else:\n",
    "                end1.append(i)\n",
    "        end1.extend(end2)\n",
    "        return end1\n",
    "    except Exception as e:\n",
    "        print(e)"
   ]
  },
  {
   "cell_type": "code",
   "execution_count": 10,
   "id": "73b00a67",
   "metadata": {},
   "outputs": [
    {
     "data": {
      "text/plain": [
       "[3, 2, 4, 4, 1, 1]"
      ]
     },
     "execution_count": 10,
     "metadata": {},
     "output_type": "execute_result"
    }
   ],
   "source": [
    "move_to_end([1, 3, 2, 4, 4, 1], 1)"
   ]
  }
 ],
 "metadata": {
  "kernelspec": {
   "display_name": "Python 3 (ipykernel)",
   "language": "python",
   "name": "python3"
  },
  "language_info": {
   "codemirror_mode": {
    "name": "ipython",
    "version": 3
   },
   "file_extension": ".py",
   "mimetype": "text/x-python",
   "name": "python",
   "nbconvert_exporter": "python",
   "pygments_lexer": "ipython3",
   "version": "3.9.7"
  }
 },
 "nbformat": 4,
 "nbformat_minor": 5
}
