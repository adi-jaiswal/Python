{
 "cells": [
  {
   "cell_type": "markdown",
   "id": "5b1d3773",
   "metadata": {},
   "source": [
    "#### 1. Write a Python program to convert kilometers to miles?\n"
   ]
  },
  {
   "cell_type": "code",
   "execution_count": 1,
   "id": "3828014a",
   "metadata": {},
   "outputs": [],
   "source": [
    "def distance_conversion():\n",
    "    kms = float(input(\"Enter the value in kms \"))\n",
    "    miles = kms * 0.621\n",
    "    print(\"The value in miles is\", miles)"
   ]
  },
  {
   "cell_type": "code",
   "execution_count": 2,
   "id": "f13ef4b6",
   "metadata": {},
   "outputs": [
    {
     "name": "stdout",
     "output_type": "stream",
     "text": [
      "Enter the value in kms 1\n",
      "The value in miles is 0.621\n"
     ]
    }
   ],
   "source": [
    "distance_conversion()"
   ]
  },
  {
   "cell_type": "markdown",
   "id": "a917be96",
   "metadata": {},
   "source": [
    "#### 2. Write a Python program to convert Celsius to Fahrenheit?"
   ]
  },
  {
   "cell_type": "code",
   "execution_count": 3,
   "id": "8621d9e6",
   "metadata": {},
   "outputs": [],
   "source": [
    "def temp_conversion():\n",
    "    c = float(input(\"Enter the value in Celcius \"))\n",
    "    f = (c * (9/5)) + 32\n",
    "    print(\"The value in Fahrenheit is\", f)"
   ]
  },
  {
   "cell_type": "code",
   "execution_count": 4,
   "id": "a9b32b89",
   "metadata": {},
   "outputs": [
    {
     "name": "stdout",
     "output_type": "stream",
     "text": [
      "Enter the value in Celcius 37\n",
      "The value in Fahrenheit is 98.60000000000001\n"
     ]
    }
   ],
   "source": [
    "temp_conversion()"
   ]
  },
  {
   "cell_type": "markdown",
   "id": "5a77c3ac",
   "metadata": {},
   "source": [
    "#### 3. Write a Python program to display calendar?"
   ]
  },
  {
   "cell_type": "code",
   "execution_count": 5,
   "id": "171d4e90",
   "metadata": {},
   "outputs": [
    {
     "name": "stdout",
     "output_type": "stream",
     "text": [
      "Enter Year: 2022\n",
      "Enter Month: 1\n",
      "    January 2022\n",
      "Mo Tu We Th Fr Sa Su\n",
      "                1  2\n",
      " 3  4  5  6  7  8  9\n",
      "10 11 12 13 14 15 16\n",
      "17 18 19 20 21 22 23\n",
      "24 25 26 27 28 29 30\n",
      "31\n",
      "\n"
     ]
    }
   ],
   "source": [
    "import calendar\n",
    "\n",
    "Year = int(input(\"Enter Year: \"))\n",
    "Month = int(input(\"Enter Month: \"))\n",
    "\n",
    "print(calendar.month(Year,Month))"
   ]
  },
  {
   "cell_type": "markdown",
   "id": "1bcf12ac",
   "metadata": {},
   "source": [
    "#### 4. Write a Python program to solve quadratic equation?"
   ]
  },
  {
   "cell_type": "code",
   "execution_count": 6,
   "id": "2595eb18",
   "metadata": {},
   "outputs": [],
   "source": [
    "import cmath\n",
    "\n",
    "def quad():\n",
    "    print(\"This is the function to solve quadratic eq (ax^2 + bx + c)\")\n",
    "    a = int(input(\"Enter the value for a: \"))\n",
    "    b = int(input(\"Enter the value for b: \"))\n",
    "    c = int(input(\"Enter the value for c: \"))\n",
    "    \n",
    "    d = (b**2) - (4*a*c)\n",
    "    \n",
    "    sol1 = (- b + cmath.sqrt(d))/(2*a)\n",
    "    sol2 = (- b - cmath.sqrt(d))/(2*a)\n",
    "    \n",
    "    print(\"The solution for the quadratic eq is\", (sol1, sol2))"
   ]
  },
  {
   "cell_type": "code",
   "execution_count": 7,
   "id": "5bb67810",
   "metadata": {},
   "outputs": [
    {
     "name": "stdout",
     "output_type": "stream",
     "text": [
      "This is the function to solve quadratic eq (ax^2 + bx + c)\n",
      "Enter the value for a: 1\n",
      "Enter the value for b: 5\n",
      "Enter the value for c: 6\n",
      "The solution for the quadratic eq is ((-2+0j), (-3+0j))\n"
     ]
    }
   ],
   "source": [
    "quad()"
   ]
  },
  {
   "cell_type": "markdown",
   "id": "d432f695",
   "metadata": {},
   "source": [
    "#### 5. Write a Python program to swap two variables without temp variable?"
   ]
  },
  {
   "cell_type": "code",
   "execution_count": 8,
   "id": "070bf81d",
   "metadata": {},
   "outputs": [
    {
     "name": "stdout",
     "output_type": "stream",
     "text": [
      "The values before swapping x = 5 y = 7\n",
      "The values after swapping x = 7 y = 5\n"
     ]
    }
   ],
   "source": [
    "x = 5\n",
    "y = 7\n",
    "\n",
    "print(\"The values before swapping x =\", x, \"y =\", y)\n",
    "\n",
    "x, y = y, x\n",
    "\n",
    "print(\"The values after swapping x =\", x, \"y =\", y)"
   ]
  }
 ],
 "metadata": {
  "kernelspec": {
   "display_name": "Python 3 (ipykernel)",
   "language": "python",
   "name": "python3"
  },
  "language_info": {
   "codemirror_mode": {
    "name": "ipython",
    "version": 3
   },
   "file_extension": ".py",
   "mimetype": "text/x-python",
   "name": "python",
   "nbconvert_exporter": "python",
   "pygments_lexer": "ipython3",
   "version": "3.9.7"
  }
 },
 "nbformat": 4,
 "nbformat_minor": 5
}
