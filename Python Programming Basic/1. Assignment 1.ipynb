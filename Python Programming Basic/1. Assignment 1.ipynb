{
 "cells": [
  {
   "cell_type": "markdown",
   "id": "86bcff1f",
   "metadata": {},
   "source": [
    "#### 1. Write a Python program to print \"Hello Python\"?"
   ]
  },
  {
   "cell_type": "code",
   "execution_count": 1,
   "id": "b234e81a",
   "metadata": {},
   "outputs": [
    {
     "name": "stdout",
     "output_type": "stream",
     "text": [
      "Hello Pyhton\n"
     ]
    }
   ],
   "source": [
    "a = \"Hello Pyhton\"\n",
    "print(a)"
   ]
  },
  {
   "cell_type": "markdown",
   "id": "6fde6ff0",
   "metadata": {},
   "source": [
    "#### 2. Write a Python program to do arithmetical operations addition and division.?"
   ]
  },
  {
   "cell_type": "code",
   "execution_count": 2,
   "id": "3fa211b3",
   "metadata": {},
   "outputs": [
    {
     "name": "stdout",
     "output_type": "stream",
     "text": [
      "36\n",
      "8.0\n"
     ]
    }
   ],
   "source": [
    "a = 32\n",
    "b = 4\n",
    "\n",
    "x = a + b\n",
    "y = a/b\n",
    "\n",
    "print(x)\n",
    "print(y)"
   ]
  },
  {
   "cell_type": "markdown",
   "id": "c21e5c59",
   "metadata": {},
   "source": [
    "#### 3. Write a Python program to find the area of a triangle?"
   ]
  },
  {
   "cell_type": "code",
   "execution_count": 3,
   "id": "98bad4e6",
   "metadata": {},
   "outputs": [
    {
     "name": "stdout",
     "output_type": "stream",
     "text": [
      "4.0\n"
     ]
    }
   ],
   "source": [
    "h = 2\n",
    "b = 4\n",
    "\n",
    "Area = 1/2 * h * b\n",
    "\n",
    "print(Area)"
   ]
  },
  {
   "cell_type": "markdown",
   "id": "0c8e445b",
   "metadata": {},
   "source": [
    "#### 4. Write a Python program to swap two variables?"
   ]
  },
  {
   "cell_type": "code",
   "execution_count": 4,
   "id": "ab38520c",
   "metadata": {},
   "outputs": [
    {
     "name": "stdout",
     "output_type": "stream",
     "text": [
      "Value of x after swapping  6\n",
      "Value of x after swapping  3\n"
     ]
    }
   ],
   "source": [
    "x = 3\n",
    "y = 6\n",
    "\n",
    "z = x\n",
    "x = y\n",
    "y = z\n",
    "\n",
    "print(\"Value of x after swapping \", x)\n",
    "print(\"Value of x after swapping \", y)"
   ]
  },
  {
   "cell_type": "markdown",
   "id": "3086b853",
   "metadata": {},
   "source": [
    "#### 5. Write a Python program to generate a random number?"
   ]
  },
  {
   "cell_type": "code",
   "execution_count": 5,
   "id": "84ce0a70",
   "metadata": {},
   "outputs": [
    {
     "name": "stdout",
     "output_type": "stream",
     "text": [
      "0.29710189539947596\n"
     ]
    }
   ],
   "source": [
    "import random\n",
    "print(random.random())"
   ]
  }
 ],
 "metadata": {
  "kernelspec": {
   "display_name": "Python 3 (ipykernel)",
   "language": "python",
   "name": "python3"
  },
  "language_info": {
   "codemirror_mode": {
    "name": "ipython",
    "version": 3
   },
   "file_extension": ".py",
   "mimetype": "text/x-python",
   "name": "python",
   "nbconvert_exporter": "python",
   "pygments_lexer": "ipython3",
   "version": "3.9.7"
  }
 },
 "nbformat": 4,
 "nbformat_minor": 5
}
