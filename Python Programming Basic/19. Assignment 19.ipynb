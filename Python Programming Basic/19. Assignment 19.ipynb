{
 "cells": [
  {
   "cell_type": "markdown",
   "id": "7010fd2a",
   "metadata": {},
   "source": [
    "#### 1. Create a function that takes a string and returns a string in which each character is repeated once.\n",
    "\n",
    ">Examples\n",
    "\n",
    "double_char(\"String\") ➞ \"SSttrriinngg\"\n",
    "\n",
    "double_char(\"Hello World!\") ➞ \"HHeelllloo  WWoorrlldd!!\"\n",
    "\n",
    "double_char(\"1234!_ \") ➞ \"11223344!!__  \""
   ]
  },
  {
   "cell_type": "code",
   "execution_count": 1,
   "id": "296632c7",
   "metadata": {},
   "outputs": [],
   "source": [
    "def double_char():\n",
    "    try:\n",
    "        s = input(\"Enter a string: \")\n",
    "        s1 = \"\"\n",
    "        for i in s:\n",
    "            s1 = s1 + i + i\n",
    "        return s1\n",
    "    except Exception as e:\n",
    "        print(e)"
   ]
  },
  {
   "cell_type": "code",
   "execution_count": 2,
   "id": "8c3e31ca",
   "metadata": {},
   "outputs": [
    {
     "name": "stdout",
     "output_type": "stream",
     "text": [
      "Enter a string: Hello World!\n"
     ]
    },
    {
     "data": {
      "text/plain": [
       "'HHeelllloo  WWoorrlldd!!'"
      ]
     },
     "execution_count": 2,
     "metadata": {},
     "output_type": "execute_result"
    }
   ],
   "source": [
    "double_char()"
   ]
  },
  {
   "cell_type": "markdown",
   "id": "306d7daf",
   "metadata": {},
   "source": [
    "#### 2. Create a function that reverses a boolean value and returns the string \"boolean expected\" if another variable type is given.\n",
    "\n",
    ">Examples\n",
    "\n",
    "reverse(True) ➞ False\n",
    "\n",
    "reverse(False) ➞ True\n",
    "\n",
    "reverse(0) ➞ \"boolean expected\"\n",
    "\n",
    "reverse(None) ➞ \"boolean expected\""
   ]
  },
  {
   "cell_type": "code",
   "execution_count": 3,
   "id": "169a1c5c",
   "metadata": {},
   "outputs": [],
   "source": [
    "def reverse():\n",
    "    try:\n",
    "        s = input(\"Enter a boolean: \")\n",
    "        if s == \"True\":\n",
    "            return False\n",
    "        elif s == \"False\":\n",
    "            return True\n",
    "        else:\n",
    "            return \"boolean expected\"\n",
    "    except Exception as e:\n",
    "        print(e)"
   ]
  },
  {
   "cell_type": "code",
   "execution_count": 4,
   "id": "d6c62832",
   "metadata": {},
   "outputs": [
    {
     "name": "stdout",
     "output_type": "stream",
     "text": [
      "Enter a boolean: True\n"
     ]
    },
    {
     "data": {
      "text/plain": [
       "False"
      ]
     },
     "execution_count": 4,
     "metadata": {},
     "output_type": "execute_result"
    }
   ],
   "source": [
    "reverse()"
   ]
  },
  {
   "cell_type": "markdown",
   "id": "2be5f886",
   "metadata": {},
   "source": [
    "#### 3. Create a function that returns the thickness (in meters) of a piece of paper after folding it n number of times. The paper starts off with a thickness of 0.5mm.\n",
    "\n",
    ">Examples\n",
    "\n",
    "num_layers(1) ➞ \"0.001m\" \n",
    "* Paper folded once is 1mm (equal to 0.001m)\n",
    "\n",
    "num_layers(4) ➞ \"0.008m\"\n",
    "* Paper folded 4 times is 8mm (equal to 0.008m)\n",
    "\n",
    "num_layers(21) ➞ \"1048.576m\"\n",
    "* Paper folded 21 times is 1048576mm (equal to 1048.576m)\n"
   ]
  },
  {
   "cell_type": "code",
   "execution_count": 5,
   "id": "37ce7a2f",
   "metadata": {},
   "outputs": [],
   "source": [
    "def num_layers():\n",
    "    try:\n",
    "        n = int(input(\"Enter the number of times you want to fold the paper: \"))\n",
    "        num = 0.5\n",
    "        for i in range(n):\n",
    "            num = num * 2\n",
    "        return (num/1000)\n",
    "    except Exception as e:\n",
    "        print(e)"
   ]
  },
  {
   "cell_type": "code",
   "execution_count": 6,
   "id": "baca4fee",
   "metadata": {},
   "outputs": [
    {
     "name": "stdout",
     "output_type": "stream",
     "text": [
      "Enter the number of times you want to fold the paper: 4\n"
     ]
    },
    {
     "data": {
      "text/plain": [
       "0.008"
      ]
     },
     "execution_count": 6,
     "metadata": {},
     "output_type": "execute_result"
    }
   ],
   "source": [
    "num_layers()"
   ]
  },
  {
   "cell_type": "markdown",
   "id": "b7035136",
   "metadata": {},
   "source": [
    "#### 4. Create a function that takes a single string as argument and returns an ordered list containing the indices of all capital letters in the string.\n",
    "\n",
    ">Examples\n",
    "\n",
    "index_of_caps(\"eDaBiT\") ➞ [1, 3, 5]\n",
    "\n",
    "index_of_caps(\"eQuINoX\") ➞ [1, 3, 4, 6]\n",
    "\n",
    "index_of_caps(\"determine\") ➞ []\n",
    "\n",
    "index_of_caps(\"STRIKE\") ➞ [0, 1, 2, 3, 4, 5]\n",
    "\n",
    "index_of_caps(\"sUn\") ➞ [1]"
   ]
  },
  {
   "cell_type": "code",
   "execution_count": 7,
   "id": "32a8609c",
   "metadata": {},
   "outputs": [],
   "source": [
    "def index_of_caps():\n",
    "    try:\n",
    "        s = input(\"Enter a string containing capital letters: \")\n",
    "        l = []\n",
    "        for i in s:\n",
    "            if i.isupper():\n",
    "                l.append(s.index(i))\n",
    "        return l\n",
    "    except Exception as e:\n",
    "        print(e)"
   ]
  },
  {
   "cell_type": "code",
   "execution_count": 8,
   "id": "98a10d7d",
   "metadata": {},
   "outputs": [
    {
     "name": "stdout",
     "output_type": "stream",
     "text": [
      "Enter a string containing capital letters: eQuINoX\n"
     ]
    },
    {
     "data": {
      "text/plain": [
       "[1, 3, 4, 6]"
      ]
     },
     "execution_count": 8,
     "metadata": {},
     "output_type": "execute_result"
    }
   ],
   "source": [
    "index_of_caps()"
   ]
  },
  {
   "cell_type": "markdown",
   "id": "4cd66f90",
   "metadata": {},
   "source": [
    "#### 5. Using list comprehensions, create a function that finds all even numbers from 1 to the given number.\n",
    "\n",
    ">Examples\n",
    "\n",
    "find_even_nums(8) ➞ [2, 4, 6, 8]\n",
    "\n",
    "find_even_nums(4) ➞ [2, 4]\n",
    "\n",
    "find_even_nums(2) ➞ [2]"
   ]
  },
  {
   "cell_type": "code",
   "execution_count": 9,
   "id": "2a709ed6",
   "metadata": {},
   "outputs": [],
   "source": [
    "def find_even_nums():\n",
    "    try:\n",
    "        n = int(input(\"Enter an upper limit: \"))\n",
    "        even_num = [i for i in range(1, n) if i%2 == 0]\n",
    "        print(even_num)\n",
    "    except Exception as e:\n",
    "        print(e)"
   ]
  },
  {
   "cell_type": "code",
   "execution_count": 10,
   "id": "2be68b5c",
   "metadata": {},
   "outputs": [
    {
     "name": "stdout",
     "output_type": "stream",
     "text": [
      "Enter an upper limit: 20\n",
      "[2, 4, 6, 8, 10, 12, 14, 16, 18]\n"
     ]
    }
   ],
   "source": [
    "find_even_nums()"
   ]
  }
 ],
 "metadata": {
  "kernelspec": {
   "display_name": "Python 3 (ipykernel)",
   "language": "python",
   "name": "python3"
  },
  "language_info": {
   "codemirror_mode": {
    "name": "ipython",
    "version": 3
   },
   "file_extension": ".py",
   "mimetype": "text/x-python",
   "name": "python",
   "nbconvert_exporter": "python",
   "pygments_lexer": "ipython3",
   "version": "3.9.7"
  }
 },
 "nbformat": 4,
 "nbformat_minor": 5
}
