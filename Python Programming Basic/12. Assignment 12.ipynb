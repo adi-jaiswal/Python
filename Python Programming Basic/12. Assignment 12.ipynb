{
 "cells": [
  {
   "cell_type": "markdown",
   "id": "94332d92",
   "metadata": {},
   "source": [
    "#### 1. Write a Python program to Extract Unique dictionary values?"
   ]
  },
  {
   "cell_type": "code",
   "execution_count": 1,
   "id": "d87b98e5",
   "metadata": {},
   "outputs": [],
   "source": [
    "def getUnique():\n",
    "    try:\n",
    "        d = eval(input(\"Enter a dictionary: \"))\n",
    "        for i in set(d.values()):\n",
    "            print(i.title())\n",
    "    except Exception as e:\n",
    "        print(e)"
   ]
  },
  {
   "cell_type": "code",
   "execution_count": 2,
   "id": "244a0893",
   "metadata": {},
   "outputs": [
    {
     "name": "stdout",
     "output_type": "stream",
     "text": [
      "Enter a dictionary: {\"k1\" : \"java\", \"k2\" : \"python\", \"k3\" : \"java\", \"k4\" : \"C++\", \"k5\" : \"python\"}\n",
      "Java\n",
      "C++\n",
      "Python\n"
     ]
    }
   ],
   "source": [
    "getUnique()"
   ]
  },
  {
   "cell_type": "markdown",
   "id": "cef272c6",
   "metadata": {},
   "source": [
    "#### 2. Write a Python program to find the sum of all items in a dictionary?"
   ]
  },
  {
   "cell_type": "code",
   "execution_count": 3,
   "id": "1a3cda7f",
   "metadata": {},
   "outputs": [],
   "source": [
    "def getSum():\n",
    "    try:\n",
    "        d = eval(input(\"Enter a dict: \"))\n",
    "        s = 0\n",
    "        for i in d.values():\n",
    "            s = s + i\n",
    "        return s\n",
    "    except Exception as e:\n",
    "        print(e)"
   ]
  },
  {
   "cell_type": "code",
   "execution_count": 4,
   "id": "91363ae5",
   "metadata": {},
   "outputs": [
    {
     "name": "stdout",
     "output_type": "stream",
     "text": [
      "Enter a dict: {'a': 100, 'b':200, 'c':300}\n"
     ]
    },
    {
     "data": {
      "text/plain": [
       "600"
      ]
     },
     "execution_count": 4,
     "metadata": {},
     "output_type": "execute_result"
    }
   ],
   "source": [
    "getSum()"
   ]
  },
  {
   "cell_type": "markdown",
   "id": "6924a9e8",
   "metadata": {},
   "source": [
    "#### 3. Write a Python program to Merging two Dictionaries?"
   ]
  },
  {
   "cell_type": "code",
   "execution_count": 5,
   "id": "f62b4ba9",
   "metadata": {},
   "outputs": [],
   "source": [
    "def merge_dict():\n",
    "    try:\n",
    "        d1 = eval(input(\"Enter first dict: \"))\n",
    "        d2 = eval(input(\"Enter second dict: \"))\n",
    "        d1.update(d2)\n",
    "        return d1\n",
    "    except Exception as e:\n",
    "        print(e)"
   ]
  },
  {
   "cell_type": "code",
   "execution_count": 6,
   "id": "26685051",
   "metadata": {},
   "outputs": [
    {
     "name": "stdout",
     "output_type": "stream",
     "text": [
      "Enter first dict: {'a': 10, 'b': 8}\n",
      "Enter second dict: {'c': 10, 'd': 20}\n"
     ]
    },
    {
     "data": {
      "text/plain": [
       "{'a': 10, 'b': 8, 'c': 10, 'd': 20}"
      ]
     },
     "execution_count": 6,
     "metadata": {},
     "output_type": "execute_result"
    }
   ],
   "source": [
    "merge_dict()"
   ]
  },
  {
   "cell_type": "markdown",
   "id": "5f0d7b9f",
   "metadata": {},
   "source": [
    "#### 4. Write a Python program to convert key-values list to flat dictionary?"
   ]
  },
  {
   "cell_type": "code",
   "execution_count": 9,
   "id": "116cd180",
   "metadata": {},
   "outputs": [],
   "source": [
    "l = [('a', 10), ('b', 20), ('c', 30), ('d', 40), ('e', 50)]\n",
    "\n",
    "def getFlatDict(l):\n",
    "    try:\n",
    "        d = {}\n",
    "        for k,v in l:\n",
    "            d[k] = v\n",
    "        return d\n",
    "    except Exception as e:\n",
    "        print(e)"
   ]
  },
  {
   "cell_type": "code",
   "execution_count": 10,
   "id": "9cf6003e",
   "metadata": {},
   "outputs": [
    {
     "data": {
      "text/plain": [
       "{'a': 10, 'b': 20, 'c': 30, 'd': 40, 'e': 50}"
      ]
     },
     "execution_count": 10,
     "metadata": {},
     "output_type": "execute_result"
    }
   ],
   "source": [
    "getFlatDict(l)"
   ]
  },
  {
   "cell_type": "markdown",
   "id": "97ee5573",
   "metadata": {},
   "source": [
    "#### 5. Write a Python program to insertion at the beginning in OrderedDict?"
   ]
  },
  {
   "cell_type": "code",
   "execution_count": 11,
   "id": "3f0564aa",
   "metadata": {},
   "outputs": [
    {
     "name": "stdout",
     "output_type": "stream",
     "text": [
      "OrderedDict([('f', 60), ('a', 10), ('b', 20), ('c', 30), ('d', 40), ('e', 50)])\n"
     ]
    }
   ],
   "source": [
    "from collections import OrderedDict\n",
    "d = OrderedDict({'a': 10, 'b': 20, 'c': 30, 'd': 40, 'e': 50})\n",
    "d1 = {'f': 60}\n",
    "d.update(d1)\n",
    "d.move_to_end('f', last = False)\n",
    "print(str(d))"
   ]
  },
  {
   "cell_type": "markdown",
   "id": "c89f8bd1",
   "metadata": {},
   "source": [
    "#### 6. Write a Python program to check order of character in string using OrderedDict()?"
   ]
  },
  {
   "cell_type": "code",
   "execution_count": 12,
   "id": "a683f2fe",
   "metadata": {},
   "outputs": [],
   "source": [
    "from collections import OrderedDict\n",
    "\n",
    "def checkOrder():\n",
    "    try:\n",
    "        i = input(\"Enter a string: \")\n",
    "        p = input(\"Enter a pattern: \")\n",
    "        d = OrderedDict.fromkeys(i)\n",
    "        l = 0\n",
    "        for key, value in d.items():\n",
    "            if key == p[l]:\n",
    "                l = l + 1\n",
    "            if l == len(p):\n",
    "                return \"Valid\"\n",
    "        return \"Invalid\"\n",
    "    except Exception as e:\n",
    "        print(e)"
   ]
  },
  {
   "cell_type": "code",
   "execution_count": 13,
   "id": "57c5bd94",
   "metadata": {},
   "outputs": [
    {
     "name": "stdout",
     "output_type": "stream",
     "text": [
      "Enter a string: This is a program\n",
      "Enter a pattern: ag\n"
     ]
    },
    {
     "data": {
      "text/plain": [
       "'Valid'"
      ]
     },
     "execution_count": 13,
     "metadata": {},
     "output_type": "execute_result"
    }
   ],
   "source": [
    "checkOrder()"
   ]
  },
  {
   "cell_type": "markdown",
   "id": "76678906",
   "metadata": {},
   "source": [
    "#### 7. Write a Python program to sort Python Dictionaries by Key or Value?"
   ]
  },
  {
   "cell_type": "code",
   "execution_count": 14,
   "id": "78c61485",
   "metadata": {},
   "outputs": [],
   "source": [
    "def sortDict():\n",
    "    try:\n",
    "        d = eval(input(\"Enter a dict: \"))\n",
    "        sort_type = input(\"Sort by (key/value)? \")\n",
    "        if sort_type == 'key':\n",
    "            print(dict(sorted(d.items(), key = lambda x:x[0], reverse = False)))\n",
    "        elif sort_type == 'value':\n",
    "            print(dict(sorted(d.items(), key = lambda x:x[1], reverse = False)))\n",
    "        else:\n",
    "            print(\"You have not entered a valid sort type\")\n",
    "    except Exception as e:\n",
    "        print(e)"
   ]
  },
  {
   "cell_type": "code",
   "execution_count": 15,
   "id": "5d24bdb3",
   "metadata": {},
   "outputs": [
    {
     "name": "stdout",
     "output_type": "stream",
     "text": [
      "Enter a dict: {'a': 1000, 'f': 200, 'd': 300, 'c': 400, 'b': 500, 'e': 600}\n",
      "Sort by (key/value)? key\n",
      "{'a': 1000, 'b': 500, 'c': 400, 'd': 300, 'e': 600, 'f': 200}\n"
     ]
    }
   ],
   "source": [
    "sortDict()"
   ]
  },
  {
   "cell_type": "code",
   "execution_count": 16,
   "id": "b635adb9",
   "metadata": {},
   "outputs": [
    {
     "name": "stdout",
     "output_type": "stream",
     "text": [
      "Enter a dict: {'a': 1000, 'f': 200, 'd': 300, 'c': 400, 'b': 500, 'e': 600}\n",
      "Sort by (key/value)? value\n",
      "{'f': 200, 'd': 300, 'c': 400, 'b': 500, 'e': 600, 'a': 1000}\n"
     ]
    }
   ],
   "source": [
    "sortDict()"
   ]
  }
 ],
 "metadata": {
  "kernelspec": {
   "display_name": "Python 3 (ipykernel)",
   "language": "python",
   "name": "python3"
  },
  "language_info": {
   "codemirror_mode": {
    "name": "ipython",
    "version": 3
   },
   "file_extension": ".py",
   "mimetype": "text/x-python",
   "name": "python",
   "nbconvert_exporter": "python",
   "pygments_lexer": "ipython3",
   "version": "3.9.7"
  }
 },
 "nbformat": 4,
 "nbformat_minor": 5
}
