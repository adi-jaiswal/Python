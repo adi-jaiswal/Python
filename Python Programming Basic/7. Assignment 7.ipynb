{
 "cells": [
  {
   "cell_type": "markdown",
   "id": "933bf620",
   "metadata": {},
   "source": [
    "#### 1. Write a Python Program to find sum of array?"
   ]
  },
  {
   "cell_type": "code",
   "execution_count": 1,
   "id": "eb9fb21d",
   "metadata": {},
   "outputs": [],
   "source": [
    "def get_sum():\n",
    "    try:\n",
    "        a = eval(input(\"Enter an array: \"))\n",
    "        s = 0\n",
    "        for i in a:\n",
    "            s = s + i\n",
    "        print(s)\n",
    "    except Exception as e:\n",
    "        print(e)"
   ]
  },
  {
   "cell_type": "code",
   "execution_count": 2,
   "id": "a1a473a6",
   "metadata": {},
   "outputs": [
    {
     "name": "stdout",
     "output_type": "stream",
     "text": [
      "Enter an array: [1,2,3,4]\n",
      "10\n"
     ]
    }
   ],
   "source": [
    "get_sum()"
   ]
  },
  {
   "cell_type": "markdown",
   "id": "d504d0c7",
   "metadata": {},
   "source": [
    "#### 2. Write a Python Program to find largest element in an array?"
   ]
  },
  {
   "cell_type": "code",
   "execution_count": 3,
   "id": "f04f1550",
   "metadata": {},
   "outputs": [],
   "source": [
    "def get_max():\n",
    "    try:\n",
    "        a = eval(input(\"Enter an array: \"))\n",
    "        return sorted(a, reverse = True)[0]\n",
    "    except Exception as e:\n",
    "        print(e)"
   ]
  },
  {
   "cell_type": "code",
   "execution_count": 4,
   "id": "bcbf8d0d",
   "metadata": {},
   "outputs": [
    {
     "name": "stdout",
     "output_type": "stream",
     "text": [
      "Enter an array: [1,20,30,56,23]\n"
     ]
    },
    {
     "data": {
      "text/plain": [
       "56"
      ]
     },
     "execution_count": 4,
     "metadata": {},
     "output_type": "execute_result"
    }
   ],
   "source": [
    "get_max()"
   ]
  },
  {
   "cell_type": "markdown",
   "id": "55b64449",
   "metadata": {},
   "source": [
    "#### 3. Write a Python Program for array rotation?"
   ]
  },
  {
   "cell_type": "code",
   "execution_count": 5,
   "id": "2eb9df71",
   "metadata": {},
   "outputs": [],
   "source": [
    "def rotate():\n",
    "    try:\n",
    "        a = eval(input(\"Enter an array: \"))\n",
    "        a = a[::-1]\n",
    "        print(a)\n",
    "    except Exception as e:\n",
    "        print(e)"
   ]
  },
  {
   "cell_type": "code",
   "execution_count": 6,
   "id": "cc53c2e2",
   "metadata": {},
   "outputs": [
    {
     "name": "stdout",
     "output_type": "stream",
     "text": [
      "Enter an array: [1,2,3,4,5]\n",
      "[5, 4, 3, 2, 1]\n"
     ]
    }
   ],
   "source": [
    "rotate()"
   ]
  },
  {
   "cell_type": "markdown",
   "id": "ae8051e2",
   "metadata": {},
   "source": [
    "##### 4. Write a Python Program to Split the array and add the first part to the end?"
   ]
  },
  {
   "cell_type": "code",
   "execution_count": 7,
   "id": "a303e593",
   "metadata": {},
   "outputs": [],
   "source": [
    "def rotate_arr():\n",
    "    try:\n",
    "        a = eval(input(\"Enter an array: \"))\n",
    "        s = int(input(\"Enter the shifts: \"))\n",
    "        for i in range(0,s):\n",
    "            temp = a[0]\n",
    "            for j in range(0,len(a)-1):\n",
    "                a[j] = a[j+1]\n",
    "            a[len(a)-1] = temp\n",
    "        return a\n",
    "    except Exception as e:\n",
    "        print(e)"
   ]
  },
  {
   "cell_type": "code",
   "execution_count": 8,
   "id": "0720539a",
   "metadata": {},
   "outputs": [
    {
     "name": "stdout",
     "output_type": "stream",
     "text": [
      "Enter an array: [1,2,3,4,5]\n",
      "Enter the shifts: 1\n"
     ]
    },
    {
     "data": {
      "text/plain": [
       "[2, 3, 4, 5, 1]"
      ]
     },
     "execution_count": 8,
     "metadata": {},
     "output_type": "execute_result"
    }
   ],
   "source": [
    "rotate_arr()"
   ]
  },
  {
   "cell_type": "markdown",
   "id": "ada819ba",
   "metadata": {},
   "source": [
    "#### 5. Write a Python Program to check if given array is Monotonic?"
   ]
  },
  {
   "cell_type": "code",
   "execution_count": 9,
   "id": "4a06372a",
   "metadata": {},
   "outputs": [],
   "source": [
    "def monotonic():\n",
    "    try:\n",
    "        a = eval(input(\"Enter an array: \"))\n",
    "        return(all(a[i] <= a[i+1] for i in range(len(a)-1))\n",
    "                or\n",
    "               all(a[i] >= a[i+1] for i in range(len(a)-1)))\n",
    "    except Exception as e:\n",
    "        print(e)"
   ]
  },
  {
   "cell_type": "code",
   "execution_count": 10,
   "id": "e9f33825",
   "metadata": {},
   "outputs": [
    {
     "name": "stdout",
     "output_type": "stream",
     "text": [
      "Enter an array: [20,13,12,9,7]\n"
     ]
    },
    {
     "data": {
      "text/plain": [
       "True"
      ]
     },
     "execution_count": 10,
     "metadata": {},
     "output_type": "execute_result"
    }
   ],
   "source": [
    "monotonic()"
   ]
  }
 ],
 "metadata": {
  "kernelspec": {
   "display_name": "Python 3 (ipykernel)",
   "language": "python",
   "name": "python3"
  },
  "language_info": {
   "codemirror_mode": {
    "name": "ipython",
    "version": 3
   },
   "file_extension": ".py",
   "mimetype": "text/x-python",
   "name": "python",
   "nbconvert_exporter": "python",
   "pygments_lexer": "ipython3",
   "version": "3.9.7"
  }
 },
 "nbformat": 4,
 "nbformat_minor": 5
}
