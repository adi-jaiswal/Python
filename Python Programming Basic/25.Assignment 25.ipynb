{
 "cells": [
  {
   "cell_type": "markdown",
   "id": "c28bf300",
   "metadata": {},
   "source": [
    "#### 1. Create a function that takes three integer arguments (a, b, c) and returns the amount of integers which are of equal value.\n",
    ">Examples\n",
    "\n",
    "equal(3, 4, 3) ➞ 2\n",
    "\n",
    "equal(1, 1, 1) ➞ 3\n",
    "\n",
    "equal(3, 4, 1) ➞ 0 \n",
    "\n",
    ">Notes\n",
    "\n",
    "Your function must return 0, 2 or 3."
   ]
  },
  {
   "cell_type": "code",
   "execution_count": 1,
   "id": "3e835886",
   "metadata": {},
   "outputs": [],
   "source": [
    "def equal():\n",
    "    try:\n",
    "        a = int(input(\"Enter first number: \"))\n",
    "        b = int(input(\"Enter second number: \"))\n",
    "        c = int(input(\"Enter third number: \"))\n",
    "        if a==b==c:\n",
    "            return 3\n",
    "        elif a==b or b==c or c==a:\n",
    "            return 2\n",
    "        else:\n",
    "            return 0 \n",
    "    except Exception as e:\n",
    "        print(e)"
   ]
  },
  {
   "cell_type": "code",
   "execution_count": 2,
   "id": "3d5618e0",
   "metadata": {},
   "outputs": [
    {
     "name": "stdout",
     "output_type": "stream",
     "text": [
      "Enter first number: 3\n",
      "Enter second number: 4\n",
      "Enter third number: 3\n"
     ]
    },
    {
     "data": {
      "text/plain": [
       "2"
      ]
     },
     "execution_count": 2,
     "metadata": {},
     "output_type": "execute_result"
    }
   ],
   "source": [
    "equal()"
   ]
  },
  {
   "cell_type": "markdown",
   "id": "a6cd4647",
   "metadata": {},
   "source": [
    "#### 2. Write a function that converts a dictionary into a list of keys-values tuples.\n",
    ">Examples\n",
    "\n",
    "dict_to_list({\n",
    "  \"D\": 1,\n",
    "  \"B\": 2,\n",
    "  \"C\": 3\n",
    "}) ➞ [(\"B\", 2), (\"C\", 3), (\"D\", 1)]\n",
    "\n",
    "dict_to_list({\n",
    "  \"likes\": 2,\n",
    "  \"dislikes\": 3,\n",
    "  \"followers\": 10\n",
    "}) ➞ [(\"dislikes\", 3), (\"followers\", 10), (\"likes\", 2)]\n",
    "\n",
    ">Notes\n",
    "\n",
    "Return the elements in the list in alphabetical order."
   ]
  },
  {
   "cell_type": "code",
   "execution_count": 3,
   "id": "fa787488",
   "metadata": {},
   "outputs": [],
   "source": [
    "def dict_to_list():\n",
    "    try:\n",
    "        d = eval(input(\"Enter a dictionary: \"))\n",
    "        l = []\n",
    "        for key, value in d.items():\n",
    "            l.append((key, value))\n",
    "        return l\n",
    "    except Exception as e:\n",
    "        print(e)"
   ]
  },
  {
   "cell_type": "code",
   "execution_count": 4,
   "id": "6048fbb3",
   "metadata": {},
   "outputs": [
    {
     "name": "stdout",
     "output_type": "stream",
     "text": [
      "Enter a dictionary: { \"likes\": 2, \"dislikes\": 3, \"followers\": 10 }\n"
     ]
    },
    {
     "data": {
      "text/plain": [
       "[('likes', 2), ('dislikes', 3), ('followers', 10)]"
      ]
     },
     "execution_count": 4,
     "metadata": {},
     "output_type": "execute_result"
    }
   ],
   "source": [
    "dict_to_list()"
   ]
  },
  {
   "cell_type": "markdown",
   "id": "8b0a416f",
   "metadata": {},
   "source": [
    "#### 3. Write a function that creates a dictionary with each (key, value) pair being the (lower case, upper case) versions of a letter, respectively.\n",
    "\n",
    ">Examples\n",
    "\n",
    "mapping([\"p\", \"s\"]) ➞ { \"p\": \"P\", \"s\": \"S\" }\n",
    "\n",
    "mapping([\"a\", \"b\", \"c\"]) ➞ { \"a\": \"A\", \"b\": \"B\", \"c\": \"C\" }\n",
    "\n",
    "mapping([\"a\", \"v\", \"y\", \"z\"]) ➞ { \"a\": \"A\", \"v\": \"V\", \"y\": \"Y\", \"z\": \"Z\" }\n",
    "\n",
    ">Notes\n",
    "\n",
    "All of the letters in the input list will always be lowercase."
   ]
  },
  {
   "cell_type": "code",
   "execution_count": 5,
   "id": "42971584",
   "metadata": {},
   "outputs": [],
   "source": [
    "def mapping():\n",
    "    try:\n",
    "        l = eval(input(\"Enter a list: \"))\n",
    "        d = {}\n",
    "        for i in l:\n",
    "            d[i] = i.upper()\n",
    "        return d\n",
    "    except Exception as e:\n",
    "        print(e)"
   ]
  },
  {
   "cell_type": "code",
   "execution_count": 6,
   "id": "f12357d4",
   "metadata": {},
   "outputs": [
    {
     "name": "stdout",
     "output_type": "stream",
     "text": [
      "Enter a list: ['p', 's']\n"
     ]
    },
    {
     "data": {
      "text/plain": [
       "{'p': 'P', 's': 'S'}"
      ]
     },
     "execution_count": 6,
     "metadata": {},
     "output_type": "execute_result"
    }
   ],
   "source": [
    "mapping()"
   ]
  },
  {
   "cell_type": "markdown",
   "id": "3429b36f",
   "metadata": {},
   "source": [
    "#### 4. Write a function, that replaces all vowels in a string with a specified vowel.\n",
    "\n",
    ">Examples\n",
    "\n",
    "vow_replace(\"apples and bananas\", \"u\") ➞ \"upplus und bununus\"\n",
    "\n",
    "vow_replace(\"cheese casserole\", \"o\") ➞ \"chooso cossorolo\"\n",
    "\n",
    "vow_replace(\"stuffed jalapeno poppers\", \"e\") ➞ \"steffed jelepene peppers\"\n",
    "\n",
    ">Notes\n",
    "\n",
    "All words will be lowercase. Y is not considered a vowel."
   ]
  },
  {
   "cell_type": "code",
   "execution_count": 7,
   "id": "d0e8ca5d",
   "metadata": {},
   "outputs": [],
   "source": [
    "def vow_replace():\n",
    "    try:\n",
    "        s = input(\"Enter a string: \")\n",
    "        char = input(\"Enter a vowel: \")\n",
    "        vowels = ['a','e','i','o','u']\n",
    "        s1 = ''\n",
    "        for i in s:\n",
    "            if i in vowels:\n",
    "                s1 = s1 + char\n",
    "            else:\n",
    "                s1 = s1 + i\n",
    "        return s1\n",
    "    except Exception as e:\n",
    "        print(e)"
   ]
  },
  {
   "cell_type": "code",
   "execution_count": 8,
   "id": "ad5c030d",
   "metadata": {},
   "outputs": [
    {
     "name": "stdout",
     "output_type": "stream",
     "text": [
      "Enter a string: apples and bananas\n",
      "Enter a vowel: u\n"
     ]
    },
    {
     "data": {
      "text/plain": [
       "'upplus und bununus'"
      ]
     },
     "execution_count": 8,
     "metadata": {},
     "output_type": "execute_result"
    }
   ],
   "source": [
    "vow_replace()"
   ]
  },
  {
   "cell_type": "markdown",
   "id": "bbdf60b7",
   "metadata": {},
   "source": [
    "#### 5. Create a function that takes a string as input and capitalizes a letter if its ASCII code is even and returns its lower case version if its ASCII code is odd.\n",
    "\n",
    ">Examples\n",
    "\n",
    "ascii_capitalize(\"to be or not to be!\") ➞ \"To Be oR NoT To Be!\"\n",
    "\n",
    "ascii_capitalize(\"THE LITTLE MERMAID\") ➞ \"THe LiTTLe meRmaiD\"\n",
    "\n",
    "ascii_capitalize(\"Oh what a beautiful morning.\") ➞ \"oH wHaT a BeauTiFuL moRNiNg.\""
   ]
  },
  {
   "cell_type": "code",
   "execution_count": 9,
   "id": "9857f78e",
   "metadata": {},
   "outputs": [],
   "source": [
    "import string\n",
    "\n",
    "def ascii_capitalize():\n",
    "    try:\n",
    "        s = input(\"Enter a string: \")\n",
    "        s1 = ''\n",
    "        for i in s:\n",
    "            if ord(i)%2 == 0:\n",
    "                s1 = s1 + i.upper()\n",
    "            else:\n",
    "                s1 = s1 + i.lower()\n",
    "        return s1\n",
    "    except Exception as e:\n",
    "        print(e)"
   ]
  },
  {
   "cell_type": "code",
   "execution_count": 10,
   "id": "57dfe5cf",
   "metadata": {},
   "outputs": [
    {
     "name": "stdout",
     "output_type": "stream",
     "text": [
      "Enter a string: to be or not to be!\n"
     ]
    },
    {
     "data": {
      "text/plain": [
       "'To Be oR NoT To Be!'"
      ]
     },
     "execution_count": 10,
     "metadata": {},
     "output_type": "execute_result"
    }
   ],
   "source": [
    "ascii_capitalize()"
   ]
  }
 ],
 "metadata": {
  "kernelspec": {
   "display_name": "Python 3 (ipykernel)",
   "language": "python",
   "name": "python3"
  },
  "language_info": {
   "codemirror_mode": {
    "name": "ipython",
    "version": 3
   },
   "file_extension": ".py",
   "mimetype": "text/x-python",
   "name": "python",
   "nbconvert_exporter": "python",
   "pygments_lexer": "ipython3",
   "version": "3.9.7"
  }
 },
 "nbformat": 4,
 "nbformat_minor": 5
}
