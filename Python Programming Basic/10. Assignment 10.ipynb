{
 "cells": [
  {
   "cell_type": "markdown",
   "id": "a5ff3b30",
   "metadata": {},
   "source": [
    "#### 1. Write a Python program to find sum of elements in list?"
   ]
  },
  {
   "cell_type": "code",
   "execution_count": 1,
   "id": "417194a4",
   "metadata": {},
   "outputs": [],
   "source": [
    "def sumList():\n",
    "    try:\n",
    "        l = eval(input(\"Enter a list: \"))\n",
    "        s = 0\n",
    "        for i in l:\n",
    "            s = s + i\n",
    "        return f\"Sum of list {l} is {s}\"\n",
    "    except Exception as e:\n",
    "        print(e)"
   ]
  },
  {
   "cell_type": "code",
   "execution_count": 2,
   "id": "786f5f79",
   "metadata": {},
   "outputs": [
    {
     "name": "stdout",
     "output_type": "stream",
     "text": [
      "Enter a list: [12,3,4]\n"
     ]
    },
    {
     "data": {
      "text/plain": [
       "'Sum of list [12, 3, 4] is 19'"
      ]
     },
     "execution_count": 2,
     "metadata": {},
     "output_type": "execute_result"
    }
   ],
   "source": [
    "sumList()"
   ]
  },
  {
   "cell_type": "markdown",
   "id": "7f4cdf40",
   "metadata": {},
   "source": [
    "#### 2. Write a Python program to  Multiply all numbers in the list?"
   ]
  },
  {
   "cell_type": "code",
   "execution_count": 3,
   "id": "30fcac23",
   "metadata": {},
   "outputs": [],
   "source": [
    "def multList():\n",
    "    try:\n",
    "        l = eval(input(\"Enter a list: \"))\n",
    "        s = 1\n",
    "        for i in l:\n",
    "            s = s * i\n",
    "        return f\"Multiplication of all numbers in {l} is {s}\"\n",
    "    except Exception as e:\n",
    "        print(e)"
   ]
  },
  {
   "cell_type": "code",
   "execution_count": 4,
   "id": "c2fc09b9",
   "metadata": {},
   "outputs": [
    {
     "name": "stdout",
     "output_type": "stream",
     "text": [
      "Enter a list: [2,3,4,5]\n"
     ]
    },
    {
     "data": {
      "text/plain": [
       "'Multiplication of all numbers in [2, 3, 4, 5] is 120'"
      ]
     },
     "execution_count": 4,
     "metadata": {},
     "output_type": "execute_result"
    }
   ],
   "source": [
    "multList()"
   ]
  },
  {
   "cell_type": "markdown",
   "id": "b2d2510c",
   "metadata": {},
   "source": [
    "#### 3. Write a Python program to find smallest number in a list?"
   ]
  },
  {
   "cell_type": "code",
   "execution_count": 5,
   "id": "deddfa5b",
   "metadata": {},
   "outputs": [],
   "source": [
    "def getSmallest():\n",
    "    try:\n",
    "        l = eval(input(\"Enter a list: \"))\n",
    "        temp = l[:]\n",
    "        for i in l:\n",
    "            l.sort()\n",
    "        return f\"The smallest number in {temp} is {l[0]}\"\n",
    "    except Exception as e:\n",
    "        print(e)"
   ]
  },
  {
   "cell_type": "code",
   "execution_count": 6,
   "id": "7926b0e6",
   "metadata": {},
   "outputs": [
    {
     "name": "stdout",
     "output_type": "stream",
     "text": [
      "Enter a list: [1,23,45,8,90,12]\n"
     ]
    },
    {
     "data": {
      "text/plain": [
       "'The smallest number in [1, 23, 45, 8, 90, 12] is 1'"
      ]
     },
     "execution_count": 6,
     "metadata": {},
     "output_type": "execute_result"
    }
   ],
   "source": [
    "getSmallest()"
   ]
  },
  {
   "cell_type": "markdown",
   "id": "a3ce7036",
   "metadata": {},
   "source": [
    "#### 4. Write a Python program to find largest number in a list?"
   ]
  },
  {
   "cell_type": "code",
   "execution_count": 7,
   "id": "2e253fee",
   "metadata": {},
   "outputs": [],
   "source": [
    "def getLargest():\n",
    "    try:\n",
    "        l = eval(input(\"Enter a list: \"))\n",
    "        temp = l[:]\n",
    "        for i in l:\n",
    "            l.sort(reverse = True)\n",
    "        return f\"The largest number in {temp} is {l[0]}\"\n",
    "    except Exception as e:\n",
    "        print(e)"
   ]
  },
  {
   "cell_type": "code",
   "execution_count": 8,
   "id": "a8a9cb41",
   "metadata": {},
   "outputs": [
    {
     "name": "stdout",
     "output_type": "stream",
     "text": [
      "Enter a list: [23,87,10,1,3,90]\n"
     ]
    },
    {
     "data": {
      "text/plain": [
       "'The largest number in [23, 87, 10, 1, 3, 90] is 90'"
      ]
     },
     "execution_count": 8,
     "metadata": {},
     "output_type": "execute_result"
    }
   ],
   "source": [
    "getLargest()"
   ]
  },
  {
   "cell_type": "markdown",
   "id": "9fe7a35b",
   "metadata": {},
   "source": [
    "#### 5. Write a Python program to find second largest number in a list?"
   ]
  },
  {
   "cell_type": "code",
   "execution_count": 9,
   "id": "037d082c",
   "metadata": {},
   "outputs": [],
   "source": [
    "def getSceondLargest():\n",
    "    try:\n",
    "        l = eval(input(\"Enter a list: \"))\n",
    "        temp = l[:]\n",
    "        for i in l:\n",
    "            l.sort(reverse = True)\n",
    "        return f\"The second largest number in {temp} is {l[1]}\"\n",
    "    except Exception as e:\n",
    "        print(e)"
   ]
  },
  {
   "cell_type": "code",
   "execution_count": 10,
   "id": "72cd15e7",
   "metadata": {},
   "outputs": [
    {
     "name": "stdout",
     "output_type": "stream",
     "text": [
      "Enter a list: [23,90,87,65,41,21]\n"
     ]
    },
    {
     "data": {
      "text/plain": [
       "'The second largest number in [23, 90, 87, 65, 41, 21] is 87'"
      ]
     },
     "execution_count": 10,
     "metadata": {},
     "output_type": "execute_result"
    }
   ],
   "source": [
    "getSceondLargest()"
   ]
  },
  {
   "cell_type": "markdown",
   "id": "74274e94",
   "metadata": {},
   "source": [
    "#### 6. Write a Python program to find N largest elements from a list?"
   ]
  },
  {
   "cell_type": "code",
   "execution_count": 11,
   "id": "de28c77e",
   "metadata": {},
   "outputs": [],
   "source": [
    "def getNLargest():\n",
    "    try:\n",
    "        l = eval(input(\"Enter a list: \"))\n",
    "        N = int(input(\"Enter number: \"))\n",
    "        for i in l:\n",
    "            l.sort(reverse = True)\n",
    "        return f\"The {N} largest number in above list is {l[0:N]}\"\n",
    "    except Exception as e:\n",
    "        print(e)"
   ]
  },
  {
   "cell_type": "code",
   "execution_count": 12,
   "id": "3c03a5b0",
   "metadata": {},
   "outputs": [
    {
     "name": "stdout",
     "output_type": "stream",
     "text": [
      "Enter a list: [1,2,3,4,5,6,7,8,9,10]\n",
      "Enter number: 4\n"
     ]
    },
    {
     "data": {
      "text/plain": [
       "'The 4 largest number in above list is [10, 9, 8, 7]'"
      ]
     },
     "execution_count": 12,
     "metadata": {},
     "output_type": "execute_result"
    }
   ],
   "source": [
    "getNLargest()"
   ]
  },
  {
   "cell_type": "markdown",
   "id": "49fc577d",
   "metadata": {},
   "source": [
    "#### 7. Write a Python program to print even numbers in a list?"
   ]
  },
  {
   "cell_type": "code",
   "execution_count": 13,
   "id": "fe8925fd",
   "metadata": {},
   "outputs": [],
   "source": [
    "def getEven():\n",
    "    try:\n",
    "        l = eval(input(\"Enter a list: \"))\n",
    "        for i in l:\n",
    "            if i % 2 == 0:\n",
    "                print(i)\n",
    "    except Exception as e:\n",
    "        print(e)"
   ]
  },
  {
   "cell_type": "code",
   "execution_count": 14,
   "id": "0abe8458",
   "metadata": {},
   "outputs": [
    {
     "name": "stdout",
     "output_type": "stream",
     "text": [
      "Enter a list: [1,2,3,4,5,12,25,26]\n",
      "2\n",
      "4\n",
      "12\n",
      "26\n"
     ]
    }
   ],
   "source": [
    "getEven()"
   ]
  },
  {
   "cell_type": "markdown",
   "id": "eb313d1e",
   "metadata": {},
   "source": [
    "#### 8. Write a Python program to print odd numbers in a List?"
   ]
  },
  {
   "cell_type": "code",
   "execution_count": 15,
   "id": "c2d8318a",
   "metadata": {},
   "outputs": [],
   "source": [
    "def getOdd():\n",
    "    try:\n",
    "        l = eval(input(\"Enter a list: \"))\n",
    "        for i in l:\n",
    "            if i % 2 != 0:\n",
    "                print(i)\n",
    "    except Exception as e:\n",
    "        print(e)"
   ]
  },
  {
   "cell_type": "code",
   "execution_count": 16,
   "id": "920e136e",
   "metadata": {},
   "outputs": [
    {
     "name": "stdout",
     "output_type": "stream",
     "text": [
      "Enter a list: [13,18,20,11,17,25]\n",
      "13\n",
      "11\n",
      "17\n",
      "25\n"
     ]
    }
   ],
   "source": [
    "getOdd()"
   ]
  },
  {
   "cell_type": "markdown",
   "id": "932c9ce1",
   "metadata": {},
   "source": [
    "#### 9. Write a Python program to Remove empty List from List?"
   ]
  },
  {
   "cell_type": "code",
   "execution_count": 17,
   "id": "fe59a21d",
   "metadata": {},
   "outputs": [],
   "source": [
    "l = [1,2,3,4,[],[1,2,3],[],[3,4,5]]"
   ]
  },
  {
   "cell_type": "code",
   "execution_count": 18,
   "id": "a3d53788",
   "metadata": {},
   "outputs": [],
   "source": [
    "def removeEmpty():\n",
    "    try:\n",
    "        l = eval(input(\"Enter a list containing empty lists: \"))\n",
    "        result = list(filter(None, l))\n",
    "        print(str(result))\n",
    "    except Exception as e:\n",
    "        print(e)"
   ]
  },
  {
   "cell_type": "code",
   "execution_count": 19,
   "id": "849551be",
   "metadata": {},
   "outputs": [
    {
     "name": "stdout",
     "output_type": "stream",
     "text": [
      "Enter a list containing empty lists: [1,2,3,4,[],[1,2,3],[],[3,4,5]]\n",
      "[1, 2, 3, 4, [1, 2, 3], [3, 4, 5]]\n"
     ]
    }
   ],
   "source": [
    "removeEmpty()"
   ]
  },
  {
   "cell_type": "markdown",
   "id": "920ab9c4",
   "metadata": {},
   "source": [
    "#### 10. Write a Python program to Cloning or Copying a list?"
   ]
  },
  {
   "cell_type": "code",
   "execution_count": 20,
   "id": "2abb1871",
   "metadata": {},
   "outputs": [],
   "source": [
    "def cloning():\n",
    "    try:\n",
    "        l = eval(input(\"Enter a list: \"))\n",
    "        temp = l[:]\n",
    "        return f\"Original List: {l} ; Cloned List: {temp}\"\n",
    "    except Exception as e:\n",
    "        print(e)"
   ]
  },
  {
   "cell_type": "code",
   "execution_count": 21,
   "id": "00579e38",
   "metadata": {},
   "outputs": [
    {
     "name": "stdout",
     "output_type": "stream",
     "text": [
      "Enter a list: [1,2,3,4,'a',12]\n"
     ]
    },
    {
     "data": {
      "text/plain": [
       "\"Original List: [1, 2, 3, 4, 'a', 12] ; Cloned List: [1, 2, 3, 4, 'a', 12]\""
      ]
     },
     "execution_count": 21,
     "metadata": {},
     "output_type": "execute_result"
    }
   ],
   "source": [
    "cloning()"
   ]
  },
  {
   "cell_type": "markdown",
   "id": "984375b8",
   "metadata": {},
   "source": [
    "#### 11. Write a Python program to Count occurrences of an element in a list?"
   ]
  },
  {
   "cell_type": "code",
   "execution_count": 22,
   "id": "59216662",
   "metadata": {},
   "outputs": [],
   "source": [
    "def getOccurences():\n",
    "    try:\n",
    "        l = eval(input(\"Enter a list with duplicate elements in it: \"))\n",
    "        n = int(input(\"Enter the element for which you want to count occurences: \"))\n",
    "        print(f\"{n} has occured {l.count(n)} times\")\n",
    "    except Exception as e:\n",
    "        print(e)"
   ]
  },
  {
   "cell_type": "code",
   "execution_count": 23,
   "id": "d9c3ef0e",
   "metadata": {},
   "outputs": [
    {
     "name": "stdout",
     "output_type": "stream",
     "text": [
      "Enter a list with duplicate elements in it: [1,1,1,1,2,3,3,4,12,12,30,90,12]\n",
      "Enter the element for which you want to count occurences: 12\n",
      "12 has occured 3 times\n"
     ]
    }
   ],
   "source": [
    "getOccurences()"
   ]
  }
 ],
 "metadata": {
  "kernelspec": {
   "display_name": "Python 3 (ipykernel)",
   "language": "python",
   "name": "python3"
  },
  "language_info": {
   "codemirror_mode": {
    "name": "ipython",
    "version": 3
   },
   "file_extension": ".py",
   "mimetype": "text/x-python",
   "name": "python",
   "nbconvert_exporter": "python",
   "pygments_lexer": "ipython3",
   "version": "3.9.7"
  }
 },
 "nbformat": 4,
 "nbformat_minor": 5
}
